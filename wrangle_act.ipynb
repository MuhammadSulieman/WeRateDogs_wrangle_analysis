{
 "cells": [
  {
   "cell_type": "markdown",
   "metadata": {},
   "source": [
    "# Wrangle and analyze \"WeRateDogs\" data  \n",
    "\n",
    "The project aims to wrangle and analyze the data of WeRateDoges on Twitter, the project inclueds three stages:\n",
    "   1. Data gathering from various source and in defferent forrmats \n",
    "   2. Data wrangling \n",
    "   3. Data Analysis      "
   ]
  },
  {
   "cell_type": "markdown",
   "metadata": {},
   "source": [
    "# Table of Content \n",
    "1. [Data Gathering](#dgather)\n",
    "2. [Data Assessing](#dassess)\n",
    "3. [Data cleaning](#dclean)\n",
    "4. [Data Visualization](#dvisual)"
   ]
  },
  {
   "cell_type": "code",
   "execution_count": 1,
   "metadata": {},
   "outputs": [],
   "source": [
    "# importing required libraries \n",
    "import numpy as np\n",
    "import pandas as pd\n",
    "import matplotlib.pyplot as plt\n",
    "import seaborn as sns\n",
    "import requests\n",
    "import tweepy \n",
    "import datetime\n",
    "import json\n",
    "import os\n",
    "import re \n",
    "import warnings \n",
    "warnings.filterwarnings('ignore')\n",
    "from scipy import stats\n",
    "%matplotlib inline"
   ]
  },
  {
   "cell_type": "markdown",
   "metadata": {},
   "source": [
    "## 1- Gather     <a class=\"anchor\" id=\"dgather\"></a>"
   ]
  },
  {
   "cell_type": "markdown",
   "metadata": {},
   "source": [
    "### 1.1 WeRateDogs Twitter archive data frame "
   ]
  },
  {
   "cell_type": "markdown",
   "metadata": {},
   "source": [
    "Using panadas read_csv to import the archive file 'twitter-archive enhanced.csv' to DataFrame in name \"df_arcv\"\n",
    "<a id=\"dg\"> </a>"
   ]
  },
  {
   "cell_type": "code",
   "execution_count": 2,
   "metadata": {
    "scrolled": false
   },
   "outputs": [
    {
     "data": {
      "text/plain": [
       "(2356, 17)"
      ]
     },
     "execution_count": 2,
     "metadata": {},
     "output_type": "execute_result"
    }
   ],
   "source": [
    "df_arcv = pd.read_csv('twitter-archive-enhanced.csv')\n",
    "df_arcv.shape"
   ]
  },
  {
   "cell_type": "markdown",
   "metadata": {},
   "source": [
    "### 1.2 Image data frame "
   ]
  },
  {
   "cell_type": "markdown",
   "metadata": {},
   "source": [
    "Extracting the file name form the URL then importing the file to DataFrame named \"df_pic\" "
   ]
  },
  {
   "cell_type": "code",
   "execution_count": 3,
   "metadata": {},
   "outputs": [
    {
     "data": {
      "text/plain": [
       "'image-predictions.tsv'"
      ]
     },
     "execution_count": 3,
     "metadata": {},
     "output_type": "execute_result"
    }
   ],
   "source": [
    "# 1.2.1 Extracting the file name from the URL\n",
    "url = 'https://d17h27t6h515a5.cloudfront.net/topher/2017/August/599fd2ad_image-predictions/image-predictions.tsv'\n",
    "file_name = url.rsplit(\"/\",1)[1]\n",
    "file_name"
   ]
  },
  {
   "cell_type": "code",
   "execution_count": 4,
   "metadata": {},
   "outputs": [
    {
     "name": "stdout",
     "output_type": "stream",
     "text": [
      "200\n"
     ]
    }
   ],
   "source": [
    "# 1.2.2 Requesting the file  from the URL\n",
    "response = requests.get(url, allow_redirects=True)\n",
    "print(response.status_code)"
   ]
  },
  {
   "cell_type": "code",
   "execution_count": 5,
   "metadata": {},
   "outputs": [],
   "source": [
    "# 1.2.2 Wrting the file\n",
    "with open(file_name, 'wb') as file:\n",
    "     file.write(response.content)"
   ]
  },
  {
   "cell_type": "code",
   "execution_count": 6,
   "metadata": {},
   "outputs": [
    {
     "data": {
      "text/plain": [
       "(2075, 12)"
      ]
     },
     "execution_count": 6,
     "metadata": {},
     "output_type": "execute_result"
    }
   ],
   "source": [
    "# 1.2.2 Importing the file into DataFra \"df_pic\"\n",
    "df_pic = pd.read_csv(file_name , sep='\\t')\n",
    "df_pic.shape"
   ]
  },
  {
   "cell_type": "markdown",
   "metadata": {},
   "source": [
    "### 1.3 API data frame   "
   ]
  },
  {
   "cell_type": "markdown",
   "metadata": {},
   "source": [
    "Downloading the API data Through Tweeter developer account then write json file and building DataFram API_df"
   ]
  },
  {
   "cell_type": "code",
   "execution_count": null,
   "metadata": {},
   "outputs": [],
   "source": [
    "from tweepy import OAuthHandler\n",
    "from timeit import default_timer as timer\n",
    "\n",
    "API_key = 'Hidden'\n",
    "API_secret = 'Hidden'\n",
    "Access_token = 'Hidden'\n",
    "Access_token_secret = 'Hidden'\n",
    "\n",
    "auth = OAuthHandler(API_key, API_secret)\n",
    "auth.set_access_token(Access_token, Access_token_secret)\n",
    "\n",
    "api = tweepy.API(auth, wait_on_rate_limit=True)\n",
    "\n",
    "test_tweet = api.get_status(df_arcv.tweet_id[100], tweet_mode = 'extended')\n",
    "content = test_tweet._json\n",
    "content"
   ]
  },
  {
   "cell_type": "code",
   "execution_count": null,
   "metadata": {},
   "outputs": [],
   "source": [
    "# 1.3.1 Query Twitter API for  tweets in  Twitter archive and saving JSON as text file\n",
    "\n",
    "api = tweepy.API(auth, wait_on_rate_limit=True, wait_on_rate_limit_notify=True)\n",
    "tweet_ids = df_arcv.tweet_id.values\n",
    "len(tweet_ids)\n",
    "\n",
    "count = 0\n",
    "fails_dict = {}\n",
    "start = timer()\n",
    "\n",
    "# 1.3.2 Save  tweets in JSON as line in the text file\n",
    "\n",
    "with open('tweet_json.txt', 'w') as outfile:\n",
    "    \n",
    "    for tweet_id in tweet_ids:\n",
    "        count += 1\n",
    "        print(str(count) + \": \" + str(tweet_id))\n",
    "        try:\n",
    "            tweet = api.get_status(tweet_id, tweet_mode='extended')\n",
    "            print(\"Done\")\n",
    "            json.dump(tweet._json, outfile)\n",
    "            outfile.write('\\n')\n",
    "        except tweepy.TweepError as e:\n",
    "            print(\"Fail\")\n",
    "            fails_dict[tweet_id] = e\n",
    "            pass\n",
    "end = timer()\n",
    "Elapsed_time = end - start\n",
    "print('\\n Elapsed time:  '+ str(Elapsed_time))\n",
    "print(fails_dict)"
   ]
  },
  {
   "cell_type": "code",
   "execution_count": 7,
   "metadata": {},
   "outputs": [
    {
     "name": "stdout",
     "output_type": "stream",
     "text": [
      "<class 'pandas.core.frame.DataFrame'>\n",
      "RangeIndex: 2090 entries, 0 to 2089\n",
      "Data columns (total 4 columns):\n",
      "favorite_count    2090 non-null int64\n",
      "retweet_count     2090 non-null int64\n",
      "tweet_id          2090 non-null int64\n",
      "user_count        2090 non-null int64\n",
      "dtypes: int64(4)\n",
      "memory usage: 65.4 KB\n"
     ]
    }
   ],
   "source": [
    "# 1.3.3 Writing json to text file \n",
    "\n",
    "Api_df_list = []\n",
    "with open('tweet_json.txt', 'r') as file:\n",
    "    for line in file:\n",
    "        tweet = json.loads(line)\n",
    "        tweet_id = tweet['id']\n",
    "        retweet_count = tweet['retweet_count']\n",
    "        fav_count = tweet['favorite_count']\n",
    "        user_count = tweet['user']['followers_count']\n",
    "        Api_df_list.append({'tweet_id':tweet_id,\n",
    "                       'retweet_count': retweet_count,\n",
    "                       'favorite_count': fav_count,\n",
    "                       'user_count': user_count})\n",
    "        \n",
    "# 1.3.4 importing the text file to DataFram named \"api_df_now\"  \n",
    "\n",
    "api_df_now = pd.DataFrame(Api_df_list)\n",
    "api_df_now.info()\n"
   ]
  },
  {
   "cell_type": "markdown",
   "metadata": {},
   "source": [
    "## 2- Assess <a class=\"anchor\" id=\"dassess\"></a>"
   ]
  },
  {
   "cell_type": "markdown",
   "metadata": {},
   "source": [
    "### 2.1 Archive data frame "
   ]
  },
  {
   "cell_type": "markdown",
   "metadata": {},
   "source": [
    "#### 2.1.1 Displaying the Archive data frame "
   ]
  },
  {
   "cell_type": "code",
   "execution_count": 8,
   "metadata": {
    "scrolled": true
   },
   "outputs": [
    {
     "data": {
      "text/html": [
       "<div>\n",
       "<style scoped>\n",
       "    .dataframe tbody tr th:only-of-type {\n",
       "        vertical-align: middle;\n",
       "    }\n",
       "\n",
       "    .dataframe tbody tr th {\n",
       "        vertical-align: top;\n",
       "    }\n",
       "\n",
       "    .dataframe thead th {\n",
       "        text-align: right;\n",
       "    }\n",
       "</style>\n",
       "<table border=\"1\" class=\"dataframe\">\n",
       "  <thead>\n",
       "    <tr style=\"text-align: right;\">\n",
       "      <th></th>\n",
       "      <th>tweet_id</th>\n",
       "      <th>in_reply_to_status_id</th>\n",
       "      <th>in_reply_to_user_id</th>\n",
       "      <th>timestamp</th>\n",
       "      <th>source</th>\n",
       "      <th>text</th>\n",
       "      <th>retweeted_status_id</th>\n",
       "      <th>retweeted_status_user_id</th>\n",
       "      <th>retweeted_status_timestamp</th>\n",
       "      <th>expanded_urls</th>\n",
       "      <th>rating_numerator</th>\n",
       "      <th>rating_denominator</th>\n",
       "      <th>name</th>\n",
       "      <th>doggo</th>\n",
       "      <th>floofer</th>\n",
       "      <th>pupper</th>\n",
       "      <th>puppo</th>\n",
       "    </tr>\n",
       "  </thead>\n",
       "  <tbody>\n",
       "    <tr>\n",
       "      <th>0</th>\n",
       "      <td>892420643555336193</td>\n",
       "      <td>NaN</td>\n",
       "      <td>NaN</td>\n",
       "      <td>2017-08-01 16:23:56 +0000</td>\n",
       "      <td>&lt;a href=\"http://twitter.com/download/iphone\" r...</td>\n",
       "      <td>This is Phineas. He's a mystical boy. Only eve...</td>\n",
       "      <td>NaN</td>\n",
       "      <td>NaN</td>\n",
       "      <td>NaN</td>\n",
       "      <td>https://twitter.com/dog_rates/status/892420643...</td>\n",
       "      <td>13</td>\n",
       "      <td>10</td>\n",
       "      <td>Phineas</td>\n",
       "      <td>None</td>\n",
       "      <td>None</td>\n",
       "      <td>None</td>\n",
       "      <td>None</td>\n",
       "    </tr>\n",
       "    <tr>\n",
       "      <th>1</th>\n",
       "      <td>892177421306343426</td>\n",
       "      <td>NaN</td>\n",
       "      <td>NaN</td>\n",
       "      <td>2017-08-01 00:17:27 +0000</td>\n",
       "      <td>&lt;a href=\"http://twitter.com/download/iphone\" r...</td>\n",
       "      <td>This is Tilly. She's just checking pup on you....</td>\n",
       "      <td>NaN</td>\n",
       "      <td>NaN</td>\n",
       "      <td>NaN</td>\n",
       "      <td>https://twitter.com/dog_rates/status/892177421...</td>\n",
       "      <td>13</td>\n",
       "      <td>10</td>\n",
       "      <td>Tilly</td>\n",
       "      <td>None</td>\n",
       "      <td>None</td>\n",
       "      <td>None</td>\n",
       "      <td>None</td>\n",
       "    </tr>\n",
       "    <tr>\n",
       "      <th>2</th>\n",
       "      <td>891815181378084864</td>\n",
       "      <td>NaN</td>\n",
       "      <td>NaN</td>\n",
       "      <td>2017-07-31 00:18:03 +0000</td>\n",
       "      <td>&lt;a href=\"http://twitter.com/download/iphone\" r...</td>\n",
       "      <td>This is Archie. He is a rare Norwegian Pouncin...</td>\n",
       "      <td>NaN</td>\n",
       "      <td>NaN</td>\n",
       "      <td>NaN</td>\n",
       "      <td>https://twitter.com/dog_rates/status/891815181...</td>\n",
       "      <td>12</td>\n",
       "      <td>10</td>\n",
       "      <td>Archie</td>\n",
       "      <td>None</td>\n",
       "      <td>None</td>\n",
       "      <td>None</td>\n",
       "      <td>None</td>\n",
       "    </tr>\n",
       "    <tr>\n",
       "      <th>3</th>\n",
       "      <td>891689557279858688</td>\n",
       "      <td>NaN</td>\n",
       "      <td>NaN</td>\n",
       "      <td>2017-07-30 15:58:51 +0000</td>\n",
       "      <td>&lt;a href=\"http://twitter.com/download/iphone\" r...</td>\n",
       "      <td>This is Darla. She commenced a snooze mid meal...</td>\n",
       "      <td>NaN</td>\n",
       "      <td>NaN</td>\n",
       "      <td>NaN</td>\n",
       "      <td>https://twitter.com/dog_rates/status/891689557...</td>\n",
       "      <td>13</td>\n",
       "      <td>10</td>\n",
       "      <td>Darla</td>\n",
       "      <td>None</td>\n",
       "      <td>None</td>\n",
       "      <td>None</td>\n",
       "      <td>None</td>\n",
       "    </tr>\n",
       "    <tr>\n",
       "      <th>4</th>\n",
       "      <td>891327558926688256</td>\n",
       "      <td>NaN</td>\n",
       "      <td>NaN</td>\n",
       "      <td>2017-07-29 16:00:24 +0000</td>\n",
       "      <td>&lt;a href=\"http://twitter.com/download/iphone\" r...</td>\n",
       "      <td>This is Franklin. He would like you to stop ca...</td>\n",
       "      <td>NaN</td>\n",
       "      <td>NaN</td>\n",
       "      <td>NaN</td>\n",
       "      <td>https://twitter.com/dog_rates/status/891327558...</td>\n",
       "      <td>12</td>\n",
       "      <td>10</td>\n",
       "      <td>Franklin</td>\n",
       "      <td>None</td>\n",
       "      <td>None</td>\n",
       "      <td>None</td>\n",
       "      <td>None</td>\n",
       "    </tr>\n",
       "    <tr>\n",
       "      <th>5</th>\n",
       "      <td>891087950875897856</td>\n",
       "      <td>NaN</td>\n",
       "      <td>NaN</td>\n",
       "      <td>2017-07-29 00:08:17 +0000</td>\n",
       "      <td>&lt;a href=\"http://twitter.com/download/iphone\" r...</td>\n",
       "      <td>Here we have a majestic great white breaching ...</td>\n",
       "      <td>NaN</td>\n",
       "      <td>NaN</td>\n",
       "      <td>NaN</td>\n",
       "      <td>https://twitter.com/dog_rates/status/891087950...</td>\n",
       "      <td>13</td>\n",
       "      <td>10</td>\n",
       "      <td>None</td>\n",
       "      <td>None</td>\n",
       "      <td>None</td>\n",
       "      <td>None</td>\n",
       "      <td>None</td>\n",
       "    </tr>\n",
       "    <tr>\n",
       "      <th>6</th>\n",
       "      <td>890971913173991426</td>\n",
       "      <td>NaN</td>\n",
       "      <td>NaN</td>\n",
       "      <td>2017-07-28 16:27:12 +0000</td>\n",
       "      <td>&lt;a href=\"http://twitter.com/download/iphone\" r...</td>\n",
       "      <td>Meet Jax. He enjoys ice cream so much he gets ...</td>\n",
       "      <td>NaN</td>\n",
       "      <td>NaN</td>\n",
       "      <td>NaN</td>\n",
       "      <td>https://gofundme.com/ydvmve-surgery-for-jax,ht...</td>\n",
       "      <td>13</td>\n",
       "      <td>10</td>\n",
       "      <td>Jax</td>\n",
       "      <td>None</td>\n",
       "      <td>None</td>\n",
       "      <td>None</td>\n",
       "      <td>None</td>\n",
       "    </tr>\n",
       "    <tr>\n",
       "      <th>7</th>\n",
       "      <td>890729181411237888</td>\n",
       "      <td>NaN</td>\n",
       "      <td>NaN</td>\n",
       "      <td>2017-07-28 00:22:40 +0000</td>\n",
       "      <td>&lt;a href=\"http://twitter.com/download/iphone\" r...</td>\n",
       "      <td>When you watch your owner call another dog a g...</td>\n",
       "      <td>NaN</td>\n",
       "      <td>NaN</td>\n",
       "      <td>NaN</td>\n",
       "      <td>https://twitter.com/dog_rates/status/890729181...</td>\n",
       "      <td>13</td>\n",
       "      <td>10</td>\n",
       "      <td>None</td>\n",
       "      <td>None</td>\n",
       "      <td>None</td>\n",
       "      <td>None</td>\n",
       "      <td>None</td>\n",
       "    </tr>\n",
       "    <tr>\n",
       "      <th>8</th>\n",
       "      <td>890609185150312448</td>\n",
       "      <td>NaN</td>\n",
       "      <td>NaN</td>\n",
       "      <td>2017-07-27 16:25:51 +0000</td>\n",
       "      <td>&lt;a href=\"http://twitter.com/download/iphone\" r...</td>\n",
       "      <td>This is Zoey. She doesn't want to be one of th...</td>\n",
       "      <td>NaN</td>\n",
       "      <td>NaN</td>\n",
       "      <td>NaN</td>\n",
       "      <td>https://twitter.com/dog_rates/status/890609185...</td>\n",
       "      <td>13</td>\n",
       "      <td>10</td>\n",
       "      <td>Zoey</td>\n",
       "      <td>None</td>\n",
       "      <td>None</td>\n",
       "      <td>None</td>\n",
       "      <td>None</td>\n",
       "    </tr>\n",
       "    <tr>\n",
       "      <th>9</th>\n",
       "      <td>890240255349198849</td>\n",
       "      <td>NaN</td>\n",
       "      <td>NaN</td>\n",
       "      <td>2017-07-26 15:59:51 +0000</td>\n",
       "      <td>&lt;a href=\"http://twitter.com/download/iphone\" r...</td>\n",
       "      <td>This is Cassie. She is a college pup. Studying...</td>\n",
       "      <td>NaN</td>\n",
       "      <td>NaN</td>\n",
       "      <td>NaN</td>\n",
       "      <td>https://twitter.com/dog_rates/status/890240255...</td>\n",
       "      <td>14</td>\n",
       "      <td>10</td>\n",
       "      <td>Cassie</td>\n",
       "      <td>doggo</td>\n",
       "      <td>None</td>\n",
       "      <td>None</td>\n",
       "      <td>None</td>\n",
       "    </tr>\n",
       "    <tr>\n",
       "      <th>10</th>\n",
       "      <td>890006608113172480</td>\n",
       "      <td>NaN</td>\n",
       "      <td>NaN</td>\n",
       "      <td>2017-07-26 00:31:25 +0000</td>\n",
       "      <td>&lt;a href=\"http://twitter.com/download/iphone\" r...</td>\n",
       "      <td>This is Koda. He is a South Australian decksha...</td>\n",
       "      <td>NaN</td>\n",
       "      <td>NaN</td>\n",
       "      <td>NaN</td>\n",
       "      <td>https://twitter.com/dog_rates/status/890006608...</td>\n",
       "      <td>13</td>\n",
       "      <td>10</td>\n",
       "      <td>Koda</td>\n",
       "      <td>None</td>\n",
       "      <td>None</td>\n",
       "      <td>None</td>\n",
       "      <td>None</td>\n",
       "    </tr>\n",
       "    <tr>\n",
       "      <th>11</th>\n",
       "      <td>889880896479866881</td>\n",
       "      <td>NaN</td>\n",
       "      <td>NaN</td>\n",
       "      <td>2017-07-25 16:11:53 +0000</td>\n",
       "      <td>&lt;a href=\"http://twitter.com/download/iphone\" r...</td>\n",
       "      <td>This is Bruno. He is a service shark. Only get...</td>\n",
       "      <td>NaN</td>\n",
       "      <td>NaN</td>\n",
       "      <td>NaN</td>\n",
       "      <td>https://twitter.com/dog_rates/status/889880896...</td>\n",
       "      <td>13</td>\n",
       "      <td>10</td>\n",
       "      <td>Bruno</td>\n",
       "      <td>None</td>\n",
       "      <td>None</td>\n",
       "      <td>None</td>\n",
       "      <td>None</td>\n",
       "    </tr>\n",
       "    <tr>\n",
       "      <th>12</th>\n",
       "      <td>889665388333682689</td>\n",
       "      <td>NaN</td>\n",
       "      <td>NaN</td>\n",
       "      <td>2017-07-25 01:55:32 +0000</td>\n",
       "      <td>&lt;a href=\"http://twitter.com/download/iphone\" r...</td>\n",
       "      <td>Here's a puppo that seems to be on the fence a...</td>\n",
       "      <td>NaN</td>\n",
       "      <td>NaN</td>\n",
       "      <td>NaN</td>\n",
       "      <td>https://twitter.com/dog_rates/status/889665388...</td>\n",
       "      <td>13</td>\n",
       "      <td>10</td>\n",
       "      <td>None</td>\n",
       "      <td>None</td>\n",
       "      <td>None</td>\n",
       "      <td>None</td>\n",
       "      <td>puppo</td>\n",
       "    </tr>\n",
       "    <tr>\n",
       "      <th>13</th>\n",
       "      <td>889638837579907072</td>\n",
       "      <td>NaN</td>\n",
       "      <td>NaN</td>\n",
       "      <td>2017-07-25 00:10:02 +0000</td>\n",
       "      <td>&lt;a href=\"http://twitter.com/download/iphone\" r...</td>\n",
       "      <td>This is Ted. He does his best. Sometimes that'...</td>\n",
       "      <td>NaN</td>\n",
       "      <td>NaN</td>\n",
       "      <td>NaN</td>\n",
       "      <td>https://twitter.com/dog_rates/status/889638837...</td>\n",
       "      <td>12</td>\n",
       "      <td>10</td>\n",
       "      <td>Ted</td>\n",
       "      <td>None</td>\n",
       "      <td>None</td>\n",
       "      <td>None</td>\n",
       "      <td>None</td>\n",
       "    </tr>\n",
       "    <tr>\n",
       "      <th>14</th>\n",
       "      <td>889531135344209921</td>\n",
       "      <td>NaN</td>\n",
       "      <td>NaN</td>\n",
       "      <td>2017-07-24 17:02:04 +0000</td>\n",
       "      <td>&lt;a href=\"http://twitter.com/download/iphone\" r...</td>\n",
       "      <td>This is Stuart. He's sporting his favorite fan...</td>\n",
       "      <td>NaN</td>\n",
       "      <td>NaN</td>\n",
       "      <td>NaN</td>\n",
       "      <td>https://twitter.com/dog_rates/status/889531135...</td>\n",
       "      <td>13</td>\n",
       "      <td>10</td>\n",
       "      <td>Stuart</td>\n",
       "      <td>None</td>\n",
       "      <td>None</td>\n",
       "      <td>None</td>\n",
       "      <td>puppo</td>\n",
       "    </tr>\n",
       "    <tr>\n",
       "      <th>15</th>\n",
       "      <td>889278841981685760</td>\n",
       "      <td>NaN</td>\n",
       "      <td>NaN</td>\n",
       "      <td>2017-07-24 00:19:32 +0000</td>\n",
       "      <td>&lt;a href=\"http://twitter.com/download/iphone\" r...</td>\n",
       "      <td>This is Oliver. You're witnessing one of his m...</td>\n",
       "      <td>NaN</td>\n",
       "      <td>NaN</td>\n",
       "      <td>NaN</td>\n",
       "      <td>https://twitter.com/dog_rates/status/889278841...</td>\n",
       "      <td>13</td>\n",
       "      <td>10</td>\n",
       "      <td>Oliver</td>\n",
       "      <td>None</td>\n",
       "      <td>None</td>\n",
       "      <td>None</td>\n",
       "      <td>None</td>\n",
       "    </tr>\n",
       "    <tr>\n",
       "      <th>16</th>\n",
       "      <td>888917238123831296</td>\n",
       "      <td>NaN</td>\n",
       "      <td>NaN</td>\n",
       "      <td>2017-07-23 00:22:39 +0000</td>\n",
       "      <td>&lt;a href=\"http://twitter.com/download/iphone\" r...</td>\n",
       "      <td>This is Jim. He found a fren. Taught him how t...</td>\n",
       "      <td>NaN</td>\n",
       "      <td>NaN</td>\n",
       "      <td>NaN</td>\n",
       "      <td>https://twitter.com/dog_rates/status/888917238...</td>\n",
       "      <td>12</td>\n",
       "      <td>10</td>\n",
       "      <td>Jim</td>\n",
       "      <td>None</td>\n",
       "      <td>None</td>\n",
       "      <td>None</td>\n",
       "      <td>None</td>\n",
       "    </tr>\n",
       "    <tr>\n",
       "      <th>17</th>\n",
       "      <td>888804989199671297</td>\n",
       "      <td>NaN</td>\n",
       "      <td>NaN</td>\n",
       "      <td>2017-07-22 16:56:37 +0000</td>\n",
       "      <td>&lt;a href=\"http://twitter.com/download/iphone\" r...</td>\n",
       "      <td>This is Zeke. He has a new stick. Very proud o...</td>\n",
       "      <td>NaN</td>\n",
       "      <td>NaN</td>\n",
       "      <td>NaN</td>\n",
       "      <td>https://twitter.com/dog_rates/status/888804989...</td>\n",
       "      <td>13</td>\n",
       "      <td>10</td>\n",
       "      <td>Zeke</td>\n",
       "      <td>None</td>\n",
       "      <td>None</td>\n",
       "      <td>None</td>\n",
       "      <td>None</td>\n",
       "    </tr>\n",
       "    <tr>\n",
       "      <th>18</th>\n",
       "      <td>888554962724278272</td>\n",
       "      <td>NaN</td>\n",
       "      <td>NaN</td>\n",
       "      <td>2017-07-22 00:23:06 +0000</td>\n",
       "      <td>&lt;a href=\"http://twitter.com/download/iphone\" r...</td>\n",
       "      <td>This is Ralphus. He's powering up. Attempting ...</td>\n",
       "      <td>NaN</td>\n",
       "      <td>NaN</td>\n",
       "      <td>NaN</td>\n",
       "      <td>https://twitter.com/dog_rates/status/888554962...</td>\n",
       "      <td>13</td>\n",
       "      <td>10</td>\n",
       "      <td>Ralphus</td>\n",
       "      <td>None</td>\n",
       "      <td>None</td>\n",
       "      <td>None</td>\n",
       "      <td>None</td>\n",
       "    </tr>\n",
       "    <tr>\n",
       "      <th>19</th>\n",
       "      <td>888202515573088257</td>\n",
       "      <td>NaN</td>\n",
       "      <td>NaN</td>\n",
       "      <td>2017-07-21 01:02:36 +0000</td>\n",
       "      <td>&lt;a href=\"http://twitter.com/download/iphone\" r...</td>\n",
       "      <td>RT @dog_rates: This is Canela. She attempted s...</td>\n",
       "      <td>8.874740e+17</td>\n",
       "      <td>4.196984e+09</td>\n",
       "      <td>2017-07-19 00:47:34 +0000</td>\n",
       "      <td>https://twitter.com/dog_rates/status/887473957...</td>\n",
       "      <td>13</td>\n",
       "      <td>10</td>\n",
       "      <td>Canela</td>\n",
       "      <td>None</td>\n",
       "      <td>None</td>\n",
       "      <td>None</td>\n",
       "      <td>None</td>\n",
       "    </tr>\n",
       "    <tr>\n",
       "      <th>20</th>\n",
       "      <td>888078434458587136</td>\n",
       "      <td>NaN</td>\n",
       "      <td>NaN</td>\n",
       "      <td>2017-07-20 16:49:33 +0000</td>\n",
       "      <td>&lt;a href=\"http://twitter.com/download/iphone\" r...</td>\n",
       "      <td>This is Gerald. He was just told he didn't get...</td>\n",
       "      <td>NaN</td>\n",
       "      <td>NaN</td>\n",
       "      <td>NaN</td>\n",
       "      <td>https://twitter.com/dog_rates/status/888078434...</td>\n",
       "      <td>12</td>\n",
       "      <td>10</td>\n",
       "      <td>Gerald</td>\n",
       "      <td>None</td>\n",
       "      <td>None</td>\n",
       "      <td>None</td>\n",
       "      <td>None</td>\n",
       "    </tr>\n",
       "    <tr>\n",
       "      <th>21</th>\n",
       "      <td>887705289381826560</td>\n",
       "      <td>NaN</td>\n",
       "      <td>NaN</td>\n",
       "      <td>2017-07-19 16:06:48 +0000</td>\n",
       "      <td>&lt;a href=\"http://twitter.com/download/iphone\" r...</td>\n",
       "      <td>This is Jeffrey. He has a monopoly on the pool...</td>\n",
       "      <td>NaN</td>\n",
       "      <td>NaN</td>\n",
       "      <td>NaN</td>\n",
       "      <td>https://twitter.com/dog_rates/status/887705289...</td>\n",
       "      <td>13</td>\n",
       "      <td>10</td>\n",
       "      <td>Jeffrey</td>\n",
       "      <td>None</td>\n",
       "      <td>None</td>\n",
       "      <td>None</td>\n",
       "      <td>None</td>\n",
       "    </tr>\n",
       "    <tr>\n",
       "      <th>22</th>\n",
       "      <td>887517139158093824</td>\n",
       "      <td>NaN</td>\n",
       "      <td>NaN</td>\n",
       "      <td>2017-07-19 03:39:09 +0000</td>\n",
       "      <td>&lt;a href=\"http://twitter.com/download/iphone\" r...</td>\n",
       "      <td>I've yet to rate a Venezuelan Hover Wiener. Th...</td>\n",
       "      <td>NaN</td>\n",
       "      <td>NaN</td>\n",
       "      <td>NaN</td>\n",
       "      <td>https://twitter.com/dog_rates/status/887517139...</td>\n",
       "      <td>14</td>\n",
       "      <td>10</td>\n",
       "      <td>such</td>\n",
       "      <td>None</td>\n",
       "      <td>None</td>\n",
       "      <td>None</td>\n",
       "      <td>None</td>\n",
       "    </tr>\n",
       "    <tr>\n",
       "      <th>23</th>\n",
       "      <td>887473957103951883</td>\n",
       "      <td>NaN</td>\n",
       "      <td>NaN</td>\n",
       "      <td>2017-07-19 00:47:34 +0000</td>\n",
       "      <td>&lt;a href=\"http://twitter.com/download/iphone\" r...</td>\n",
       "      <td>This is Canela. She attempted some fancy porch...</td>\n",
       "      <td>NaN</td>\n",
       "      <td>NaN</td>\n",
       "      <td>NaN</td>\n",
       "      <td>https://twitter.com/dog_rates/status/887473957...</td>\n",
       "      <td>13</td>\n",
       "      <td>10</td>\n",
       "      <td>Canela</td>\n",
       "      <td>None</td>\n",
       "      <td>None</td>\n",
       "      <td>None</td>\n",
       "      <td>None</td>\n",
       "    </tr>\n",
       "    <tr>\n",
       "      <th>24</th>\n",
       "      <td>887343217045368832</td>\n",
       "      <td>NaN</td>\n",
       "      <td>NaN</td>\n",
       "      <td>2017-07-18 16:08:03 +0000</td>\n",
       "      <td>&lt;a href=\"http://twitter.com/download/iphone\" r...</td>\n",
       "      <td>You may not have known you needed to see this ...</td>\n",
       "      <td>NaN</td>\n",
       "      <td>NaN</td>\n",
       "      <td>NaN</td>\n",
       "      <td>https://twitter.com/dog_rates/status/887343217...</td>\n",
       "      <td>13</td>\n",
       "      <td>10</td>\n",
       "      <td>None</td>\n",
       "      <td>None</td>\n",
       "      <td>None</td>\n",
       "      <td>None</td>\n",
       "      <td>None</td>\n",
       "    </tr>\n",
       "    <tr>\n",
       "      <th>25</th>\n",
       "      <td>887101392804085760</td>\n",
       "      <td>NaN</td>\n",
       "      <td>NaN</td>\n",
       "      <td>2017-07-18 00:07:08 +0000</td>\n",
       "      <td>&lt;a href=\"http://twitter.com/download/iphone\" r...</td>\n",
       "      <td>This... is a Jubilant Antarctic House Bear. We...</td>\n",
       "      <td>NaN</td>\n",
       "      <td>NaN</td>\n",
       "      <td>NaN</td>\n",
       "      <td>https://twitter.com/dog_rates/status/887101392...</td>\n",
       "      <td>12</td>\n",
       "      <td>10</td>\n",
       "      <td>None</td>\n",
       "      <td>None</td>\n",
       "      <td>None</td>\n",
       "      <td>None</td>\n",
       "      <td>None</td>\n",
       "    </tr>\n",
       "    <tr>\n",
       "      <th>26</th>\n",
       "      <td>886983233522544640</td>\n",
       "      <td>NaN</td>\n",
       "      <td>NaN</td>\n",
       "      <td>2017-07-17 16:17:36 +0000</td>\n",
       "      <td>&lt;a href=\"http://twitter.com/download/iphone\" r...</td>\n",
       "      <td>This is Maya. She's very shy. Rarely leaves he...</td>\n",
       "      <td>NaN</td>\n",
       "      <td>NaN</td>\n",
       "      <td>NaN</td>\n",
       "      <td>https://twitter.com/dog_rates/status/886983233...</td>\n",
       "      <td>13</td>\n",
       "      <td>10</td>\n",
       "      <td>Maya</td>\n",
       "      <td>None</td>\n",
       "      <td>None</td>\n",
       "      <td>None</td>\n",
       "      <td>None</td>\n",
       "    </tr>\n",
       "    <tr>\n",
       "      <th>27</th>\n",
       "      <td>886736880519319552</td>\n",
       "      <td>NaN</td>\n",
       "      <td>NaN</td>\n",
       "      <td>2017-07-16 23:58:41 +0000</td>\n",
       "      <td>&lt;a href=\"http://twitter.com/download/iphone\" r...</td>\n",
       "      <td>This is Mingus. He's a wonderful father to his...</td>\n",
       "      <td>NaN</td>\n",
       "      <td>NaN</td>\n",
       "      <td>NaN</td>\n",
       "      <td>https://www.gofundme.com/mingusneedsus,https:/...</td>\n",
       "      <td>13</td>\n",
       "      <td>10</td>\n",
       "      <td>Mingus</td>\n",
       "      <td>None</td>\n",
       "      <td>None</td>\n",
       "      <td>None</td>\n",
       "      <td>None</td>\n",
       "    </tr>\n",
       "    <tr>\n",
       "      <th>28</th>\n",
       "      <td>886680336477933568</td>\n",
       "      <td>NaN</td>\n",
       "      <td>NaN</td>\n",
       "      <td>2017-07-16 20:14:00 +0000</td>\n",
       "      <td>&lt;a href=\"http://twitter.com/download/iphone\" r...</td>\n",
       "      <td>This is Derek. He's late for a dog meeting. 13...</td>\n",
       "      <td>NaN</td>\n",
       "      <td>NaN</td>\n",
       "      <td>NaN</td>\n",
       "      <td>https://twitter.com/dog_rates/status/886680336...</td>\n",
       "      <td>13</td>\n",
       "      <td>10</td>\n",
       "      <td>Derek</td>\n",
       "      <td>None</td>\n",
       "      <td>None</td>\n",
       "      <td>None</td>\n",
       "      <td>None</td>\n",
       "    </tr>\n",
       "    <tr>\n",
       "      <th>29</th>\n",
       "      <td>886366144734445568</td>\n",
       "      <td>NaN</td>\n",
       "      <td>NaN</td>\n",
       "      <td>2017-07-15 23:25:31 +0000</td>\n",
       "      <td>&lt;a href=\"http://twitter.com/download/iphone\" r...</td>\n",
       "      <td>This is Roscoe. Another pupper fallen victim t...</td>\n",
       "      <td>NaN</td>\n",
       "      <td>NaN</td>\n",
       "      <td>NaN</td>\n",
       "      <td>https://twitter.com/dog_rates/status/886366144...</td>\n",
       "      <td>12</td>\n",
       "      <td>10</td>\n",
       "      <td>Roscoe</td>\n",
       "      <td>None</td>\n",
       "      <td>None</td>\n",
       "      <td>pupper</td>\n",
       "      <td>None</td>\n",
       "    </tr>\n",
       "    <tr>\n",
       "      <th>...</th>\n",
       "      <td>...</td>\n",
       "      <td>...</td>\n",
       "      <td>...</td>\n",
       "      <td>...</td>\n",
       "      <td>...</td>\n",
       "      <td>...</td>\n",
       "      <td>...</td>\n",
       "      <td>...</td>\n",
       "      <td>...</td>\n",
       "      <td>...</td>\n",
       "      <td>...</td>\n",
       "      <td>...</td>\n",
       "      <td>...</td>\n",
       "      <td>...</td>\n",
       "      <td>...</td>\n",
       "      <td>...</td>\n",
       "      <td>...</td>\n",
       "    </tr>\n",
       "    <tr>\n",
       "      <th>2326</th>\n",
       "      <td>666411507551481857</td>\n",
       "      <td>NaN</td>\n",
       "      <td>NaN</td>\n",
       "      <td>2015-11-17 00:24:19 +0000</td>\n",
       "      <td>&lt;a href=\"http://twitter.com/download/iphone\" r...</td>\n",
       "      <td>This is quite the dog. Gets really excited whe...</td>\n",
       "      <td>NaN</td>\n",
       "      <td>NaN</td>\n",
       "      <td>NaN</td>\n",
       "      <td>https://twitter.com/dog_rates/status/666411507...</td>\n",
       "      <td>2</td>\n",
       "      <td>10</td>\n",
       "      <td>quite</td>\n",
       "      <td>None</td>\n",
       "      <td>None</td>\n",
       "      <td>None</td>\n",
       "      <td>None</td>\n",
       "    </tr>\n",
       "    <tr>\n",
       "      <th>2327</th>\n",
       "      <td>666407126856765440</td>\n",
       "      <td>NaN</td>\n",
       "      <td>NaN</td>\n",
       "      <td>2015-11-17 00:06:54 +0000</td>\n",
       "      <td>&lt;a href=\"http://twitter.com/download/iphone\" r...</td>\n",
       "      <td>This is a southern Vesuvius bumblegruff. Can d...</td>\n",
       "      <td>NaN</td>\n",
       "      <td>NaN</td>\n",
       "      <td>NaN</td>\n",
       "      <td>https://twitter.com/dog_rates/status/666407126...</td>\n",
       "      <td>7</td>\n",
       "      <td>10</td>\n",
       "      <td>a</td>\n",
       "      <td>None</td>\n",
       "      <td>None</td>\n",
       "      <td>None</td>\n",
       "      <td>None</td>\n",
       "    </tr>\n",
       "    <tr>\n",
       "      <th>2328</th>\n",
       "      <td>666396247373291520</td>\n",
       "      <td>NaN</td>\n",
       "      <td>NaN</td>\n",
       "      <td>2015-11-16 23:23:41 +0000</td>\n",
       "      <td>&lt;a href=\"http://twitter.com/download/iphone\" r...</td>\n",
       "      <td>Oh goodness. A super rare northeast Qdoba kang...</td>\n",
       "      <td>NaN</td>\n",
       "      <td>NaN</td>\n",
       "      <td>NaN</td>\n",
       "      <td>https://twitter.com/dog_rates/status/666396247...</td>\n",
       "      <td>9</td>\n",
       "      <td>10</td>\n",
       "      <td>None</td>\n",
       "      <td>None</td>\n",
       "      <td>None</td>\n",
       "      <td>None</td>\n",
       "      <td>None</td>\n",
       "    </tr>\n",
       "    <tr>\n",
       "      <th>2329</th>\n",
       "      <td>666373753744588802</td>\n",
       "      <td>NaN</td>\n",
       "      <td>NaN</td>\n",
       "      <td>2015-11-16 21:54:18 +0000</td>\n",
       "      <td>&lt;a href=\"http://twitter.com/download/iphone\" r...</td>\n",
       "      <td>Those are sunglasses and a jean jacket. 11/10 ...</td>\n",
       "      <td>NaN</td>\n",
       "      <td>NaN</td>\n",
       "      <td>NaN</td>\n",
       "      <td>https://twitter.com/dog_rates/status/666373753...</td>\n",
       "      <td>11</td>\n",
       "      <td>10</td>\n",
       "      <td>None</td>\n",
       "      <td>None</td>\n",
       "      <td>None</td>\n",
       "      <td>None</td>\n",
       "      <td>None</td>\n",
       "    </tr>\n",
       "    <tr>\n",
       "      <th>2330</th>\n",
       "      <td>666362758909284353</td>\n",
       "      <td>NaN</td>\n",
       "      <td>NaN</td>\n",
       "      <td>2015-11-16 21:10:36 +0000</td>\n",
       "      <td>&lt;a href=\"http://twitter.com/download/iphone\" r...</td>\n",
       "      <td>Unique dog here. Very small. Lives in containe...</td>\n",
       "      <td>NaN</td>\n",
       "      <td>NaN</td>\n",
       "      <td>NaN</td>\n",
       "      <td>https://twitter.com/dog_rates/status/666362758...</td>\n",
       "      <td>6</td>\n",
       "      <td>10</td>\n",
       "      <td>None</td>\n",
       "      <td>None</td>\n",
       "      <td>None</td>\n",
       "      <td>None</td>\n",
       "      <td>None</td>\n",
       "    </tr>\n",
       "    <tr>\n",
       "      <th>2331</th>\n",
       "      <td>666353288456101888</td>\n",
       "      <td>NaN</td>\n",
       "      <td>NaN</td>\n",
       "      <td>2015-11-16 20:32:58 +0000</td>\n",
       "      <td>&lt;a href=\"http://twitter.com/download/iphone\" r...</td>\n",
       "      <td>Here we have a mixed Asiago from the Galápagos...</td>\n",
       "      <td>NaN</td>\n",
       "      <td>NaN</td>\n",
       "      <td>NaN</td>\n",
       "      <td>https://twitter.com/dog_rates/status/666353288...</td>\n",
       "      <td>8</td>\n",
       "      <td>10</td>\n",
       "      <td>None</td>\n",
       "      <td>None</td>\n",
       "      <td>None</td>\n",
       "      <td>None</td>\n",
       "      <td>None</td>\n",
       "    </tr>\n",
       "    <tr>\n",
       "      <th>2332</th>\n",
       "      <td>666345417576210432</td>\n",
       "      <td>NaN</td>\n",
       "      <td>NaN</td>\n",
       "      <td>2015-11-16 20:01:42 +0000</td>\n",
       "      <td>&lt;a href=\"http://twitter.com/download/iphone\" r...</td>\n",
       "      <td>Look at this jokester thinking seat belt laws ...</td>\n",
       "      <td>NaN</td>\n",
       "      <td>NaN</td>\n",
       "      <td>NaN</td>\n",
       "      <td>https://twitter.com/dog_rates/status/666345417...</td>\n",
       "      <td>10</td>\n",
       "      <td>10</td>\n",
       "      <td>None</td>\n",
       "      <td>None</td>\n",
       "      <td>None</td>\n",
       "      <td>None</td>\n",
       "      <td>None</td>\n",
       "    </tr>\n",
       "    <tr>\n",
       "      <th>2333</th>\n",
       "      <td>666337882303524864</td>\n",
       "      <td>NaN</td>\n",
       "      <td>NaN</td>\n",
       "      <td>2015-11-16 19:31:45 +0000</td>\n",
       "      <td>&lt;a href=\"http://twitter.com/download/iphone\" r...</td>\n",
       "      <td>This is an extremely rare horned Parthenon. No...</td>\n",
       "      <td>NaN</td>\n",
       "      <td>NaN</td>\n",
       "      <td>NaN</td>\n",
       "      <td>https://twitter.com/dog_rates/status/666337882...</td>\n",
       "      <td>9</td>\n",
       "      <td>10</td>\n",
       "      <td>an</td>\n",
       "      <td>None</td>\n",
       "      <td>None</td>\n",
       "      <td>None</td>\n",
       "      <td>None</td>\n",
       "    </tr>\n",
       "    <tr>\n",
       "      <th>2334</th>\n",
       "      <td>666293911632134144</td>\n",
       "      <td>NaN</td>\n",
       "      <td>NaN</td>\n",
       "      <td>2015-11-16 16:37:02 +0000</td>\n",
       "      <td>&lt;a href=\"http://twitter.com/download/iphone\" r...</td>\n",
       "      <td>This is a funny dog. Weird toes. Won't come do...</td>\n",
       "      <td>NaN</td>\n",
       "      <td>NaN</td>\n",
       "      <td>NaN</td>\n",
       "      <td>https://twitter.com/dog_rates/status/666293911...</td>\n",
       "      <td>3</td>\n",
       "      <td>10</td>\n",
       "      <td>a</td>\n",
       "      <td>None</td>\n",
       "      <td>None</td>\n",
       "      <td>None</td>\n",
       "      <td>None</td>\n",
       "    </tr>\n",
       "    <tr>\n",
       "      <th>2335</th>\n",
       "      <td>666287406224695296</td>\n",
       "      <td>NaN</td>\n",
       "      <td>NaN</td>\n",
       "      <td>2015-11-16 16:11:11 +0000</td>\n",
       "      <td>&lt;a href=\"http://twitter.com/download/iphone\" r...</td>\n",
       "      <td>This is an Albanian 3 1/2 legged  Episcopalian...</td>\n",
       "      <td>NaN</td>\n",
       "      <td>NaN</td>\n",
       "      <td>NaN</td>\n",
       "      <td>https://twitter.com/dog_rates/status/666287406...</td>\n",
       "      <td>1</td>\n",
       "      <td>2</td>\n",
       "      <td>an</td>\n",
       "      <td>None</td>\n",
       "      <td>None</td>\n",
       "      <td>None</td>\n",
       "      <td>None</td>\n",
       "    </tr>\n",
       "    <tr>\n",
       "      <th>2336</th>\n",
       "      <td>666273097616637952</td>\n",
       "      <td>NaN</td>\n",
       "      <td>NaN</td>\n",
       "      <td>2015-11-16 15:14:19 +0000</td>\n",
       "      <td>&lt;a href=\"http://twitter.com/download/iphone\" r...</td>\n",
       "      <td>Can take selfies 11/10 https://t.co/ws2AMaNwPW</td>\n",
       "      <td>NaN</td>\n",
       "      <td>NaN</td>\n",
       "      <td>NaN</td>\n",
       "      <td>https://twitter.com/dog_rates/status/666273097...</td>\n",
       "      <td>11</td>\n",
       "      <td>10</td>\n",
       "      <td>None</td>\n",
       "      <td>None</td>\n",
       "      <td>None</td>\n",
       "      <td>None</td>\n",
       "      <td>None</td>\n",
       "    </tr>\n",
       "    <tr>\n",
       "      <th>2337</th>\n",
       "      <td>666268910803644416</td>\n",
       "      <td>NaN</td>\n",
       "      <td>NaN</td>\n",
       "      <td>2015-11-16 14:57:41 +0000</td>\n",
       "      <td>&lt;a href=\"http://twitter.com/download/iphone\" r...</td>\n",
       "      <td>Very concerned about fellow dog trapped in com...</td>\n",
       "      <td>NaN</td>\n",
       "      <td>NaN</td>\n",
       "      <td>NaN</td>\n",
       "      <td>https://twitter.com/dog_rates/status/666268910...</td>\n",
       "      <td>10</td>\n",
       "      <td>10</td>\n",
       "      <td>None</td>\n",
       "      <td>None</td>\n",
       "      <td>None</td>\n",
       "      <td>None</td>\n",
       "      <td>None</td>\n",
       "    </tr>\n",
       "    <tr>\n",
       "      <th>2338</th>\n",
       "      <td>666104133288665088</td>\n",
       "      <td>NaN</td>\n",
       "      <td>NaN</td>\n",
       "      <td>2015-11-16 04:02:55 +0000</td>\n",
       "      <td>&lt;a href=\"http://twitter.com/download/iphone\" r...</td>\n",
       "      <td>Not familiar with this breed. No tail (weird)....</td>\n",
       "      <td>NaN</td>\n",
       "      <td>NaN</td>\n",
       "      <td>NaN</td>\n",
       "      <td>https://twitter.com/dog_rates/status/666104133...</td>\n",
       "      <td>1</td>\n",
       "      <td>10</td>\n",
       "      <td>None</td>\n",
       "      <td>None</td>\n",
       "      <td>None</td>\n",
       "      <td>None</td>\n",
       "      <td>None</td>\n",
       "    </tr>\n",
       "    <tr>\n",
       "      <th>2339</th>\n",
       "      <td>666102155909144576</td>\n",
       "      <td>NaN</td>\n",
       "      <td>NaN</td>\n",
       "      <td>2015-11-16 03:55:04 +0000</td>\n",
       "      <td>&lt;a href=\"http://twitter.com/download/iphone\" r...</td>\n",
       "      <td>Oh my. Here you are seeing an Adobe Setter giv...</td>\n",
       "      <td>NaN</td>\n",
       "      <td>NaN</td>\n",
       "      <td>NaN</td>\n",
       "      <td>https://twitter.com/dog_rates/status/666102155...</td>\n",
       "      <td>11</td>\n",
       "      <td>10</td>\n",
       "      <td>None</td>\n",
       "      <td>None</td>\n",
       "      <td>None</td>\n",
       "      <td>None</td>\n",
       "      <td>None</td>\n",
       "    </tr>\n",
       "    <tr>\n",
       "      <th>2340</th>\n",
       "      <td>666099513787052032</td>\n",
       "      <td>NaN</td>\n",
       "      <td>NaN</td>\n",
       "      <td>2015-11-16 03:44:34 +0000</td>\n",
       "      <td>&lt;a href=\"http://twitter.com/download/iphone\" r...</td>\n",
       "      <td>Can stand on stump for what seems like a while...</td>\n",
       "      <td>NaN</td>\n",
       "      <td>NaN</td>\n",
       "      <td>NaN</td>\n",
       "      <td>https://twitter.com/dog_rates/status/666099513...</td>\n",
       "      <td>8</td>\n",
       "      <td>10</td>\n",
       "      <td>None</td>\n",
       "      <td>None</td>\n",
       "      <td>None</td>\n",
       "      <td>None</td>\n",
       "      <td>None</td>\n",
       "    </tr>\n",
       "    <tr>\n",
       "      <th>2341</th>\n",
       "      <td>666094000022159362</td>\n",
       "      <td>NaN</td>\n",
       "      <td>NaN</td>\n",
       "      <td>2015-11-16 03:22:39 +0000</td>\n",
       "      <td>&lt;a href=\"http://twitter.com/download/iphone\" r...</td>\n",
       "      <td>This appears to be a Mongolian Presbyterian mi...</td>\n",
       "      <td>NaN</td>\n",
       "      <td>NaN</td>\n",
       "      <td>NaN</td>\n",
       "      <td>https://twitter.com/dog_rates/status/666094000...</td>\n",
       "      <td>9</td>\n",
       "      <td>10</td>\n",
       "      <td>None</td>\n",
       "      <td>None</td>\n",
       "      <td>None</td>\n",
       "      <td>None</td>\n",
       "      <td>None</td>\n",
       "    </tr>\n",
       "    <tr>\n",
       "      <th>2342</th>\n",
       "      <td>666082916733198337</td>\n",
       "      <td>NaN</td>\n",
       "      <td>NaN</td>\n",
       "      <td>2015-11-16 02:38:37 +0000</td>\n",
       "      <td>&lt;a href=\"http://twitter.com/download/iphone\" r...</td>\n",
       "      <td>Here we have a well-established sunblockerspan...</td>\n",
       "      <td>NaN</td>\n",
       "      <td>NaN</td>\n",
       "      <td>NaN</td>\n",
       "      <td>https://twitter.com/dog_rates/status/666082916...</td>\n",
       "      <td>6</td>\n",
       "      <td>10</td>\n",
       "      <td>None</td>\n",
       "      <td>None</td>\n",
       "      <td>None</td>\n",
       "      <td>None</td>\n",
       "      <td>None</td>\n",
       "    </tr>\n",
       "    <tr>\n",
       "      <th>2343</th>\n",
       "      <td>666073100786774016</td>\n",
       "      <td>NaN</td>\n",
       "      <td>NaN</td>\n",
       "      <td>2015-11-16 01:59:36 +0000</td>\n",
       "      <td>&lt;a href=\"http://twitter.com/download/iphone\" r...</td>\n",
       "      <td>Let's hope this flight isn't Malaysian (lol). ...</td>\n",
       "      <td>NaN</td>\n",
       "      <td>NaN</td>\n",
       "      <td>NaN</td>\n",
       "      <td>https://twitter.com/dog_rates/status/666073100...</td>\n",
       "      <td>10</td>\n",
       "      <td>10</td>\n",
       "      <td>None</td>\n",
       "      <td>None</td>\n",
       "      <td>None</td>\n",
       "      <td>None</td>\n",
       "      <td>None</td>\n",
       "    </tr>\n",
       "    <tr>\n",
       "      <th>2344</th>\n",
       "      <td>666071193221509120</td>\n",
       "      <td>NaN</td>\n",
       "      <td>NaN</td>\n",
       "      <td>2015-11-16 01:52:02 +0000</td>\n",
       "      <td>&lt;a href=\"http://twitter.com/download/iphone\" r...</td>\n",
       "      <td>Here we have a northern speckled Rhododendron....</td>\n",
       "      <td>NaN</td>\n",
       "      <td>NaN</td>\n",
       "      <td>NaN</td>\n",
       "      <td>https://twitter.com/dog_rates/status/666071193...</td>\n",
       "      <td>9</td>\n",
       "      <td>10</td>\n",
       "      <td>None</td>\n",
       "      <td>None</td>\n",
       "      <td>None</td>\n",
       "      <td>None</td>\n",
       "      <td>None</td>\n",
       "    </tr>\n",
       "    <tr>\n",
       "      <th>2345</th>\n",
       "      <td>666063827256086533</td>\n",
       "      <td>NaN</td>\n",
       "      <td>NaN</td>\n",
       "      <td>2015-11-16 01:22:45 +0000</td>\n",
       "      <td>&lt;a href=\"http://twitter.com/download/iphone\" r...</td>\n",
       "      <td>This is the happiest dog you will ever see. Ve...</td>\n",
       "      <td>NaN</td>\n",
       "      <td>NaN</td>\n",
       "      <td>NaN</td>\n",
       "      <td>https://twitter.com/dog_rates/status/666063827...</td>\n",
       "      <td>10</td>\n",
       "      <td>10</td>\n",
       "      <td>the</td>\n",
       "      <td>None</td>\n",
       "      <td>None</td>\n",
       "      <td>None</td>\n",
       "      <td>None</td>\n",
       "    </tr>\n",
       "    <tr>\n",
       "      <th>2346</th>\n",
       "      <td>666058600524156928</td>\n",
       "      <td>NaN</td>\n",
       "      <td>NaN</td>\n",
       "      <td>2015-11-16 01:01:59 +0000</td>\n",
       "      <td>&lt;a href=\"http://twitter.com/download/iphone\" r...</td>\n",
       "      <td>Here is the Rand Paul of retrievers folks! He'...</td>\n",
       "      <td>NaN</td>\n",
       "      <td>NaN</td>\n",
       "      <td>NaN</td>\n",
       "      <td>https://twitter.com/dog_rates/status/666058600...</td>\n",
       "      <td>8</td>\n",
       "      <td>10</td>\n",
       "      <td>the</td>\n",
       "      <td>None</td>\n",
       "      <td>None</td>\n",
       "      <td>None</td>\n",
       "      <td>None</td>\n",
       "    </tr>\n",
       "    <tr>\n",
       "      <th>2347</th>\n",
       "      <td>666057090499244032</td>\n",
       "      <td>NaN</td>\n",
       "      <td>NaN</td>\n",
       "      <td>2015-11-16 00:55:59 +0000</td>\n",
       "      <td>&lt;a href=\"http://twitter.com/download/iphone\" r...</td>\n",
       "      <td>My oh my. This is a rare blond Canadian terrie...</td>\n",
       "      <td>NaN</td>\n",
       "      <td>NaN</td>\n",
       "      <td>NaN</td>\n",
       "      <td>https://twitter.com/dog_rates/status/666057090...</td>\n",
       "      <td>9</td>\n",
       "      <td>10</td>\n",
       "      <td>a</td>\n",
       "      <td>None</td>\n",
       "      <td>None</td>\n",
       "      <td>None</td>\n",
       "      <td>None</td>\n",
       "    </tr>\n",
       "    <tr>\n",
       "      <th>2348</th>\n",
       "      <td>666055525042405380</td>\n",
       "      <td>NaN</td>\n",
       "      <td>NaN</td>\n",
       "      <td>2015-11-16 00:49:46 +0000</td>\n",
       "      <td>&lt;a href=\"http://twitter.com/download/iphone\" r...</td>\n",
       "      <td>Here is a Siberian heavily armored polar bear ...</td>\n",
       "      <td>NaN</td>\n",
       "      <td>NaN</td>\n",
       "      <td>NaN</td>\n",
       "      <td>https://twitter.com/dog_rates/status/666055525...</td>\n",
       "      <td>10</td>\n",
       "      <td>10</td>\n",
       "      <td>a</td>\n",
       "      <td>None</td>\n",
       "      <td>None</td>\n",
       "      <td>None</td>\n",
       "      <td>None</td>\n",
       "    </tr>\n",
       "    <tr>\n",
       "      <th>2349</th>\n",
       "      <td>666051853826850816</td>\n",
       "      <td>NaN</td>\n",
       "      <td>NaN</td>\n",
       "      <td>2015-11-16 00:35:11 +0000</td>\n",
       "      <td>&lt;a href=\"http://twitter.com/download/iphone\" r...</td>\n",
       "      <td>This is an odd dog. Hard on the outside but lo...</td>\n",
       "      <td>NaN</td>\n",
       "      <td>NaN</td>\n",
       "      <td>NaN</td>\n",
       "      <td>https://twitter.com/dog_rates/status/666051853...</td>\n",
       "      <td>2</td>\n",
       "      <td>10</td>\n",
       "      <td>an</td>\n",
       "      <td>None</td>\n",
       "      <td>None</td>\n",
       "      <td>None</td>\n",
       "      <td>None</td>\n",
       "    </tr>\n",
       "    <tr>\n",
       "      <th>2350</th>\n",
       "      <td>666050758794694657</td>\n",
       "      <td>NaN</td>\n",
       "      <td>NaN</td>\n",
       "      <td>2015-11-16 00:30:50 +0000</td>\n",
       "      <td>&lt;a href=\"http://twitter.com/download/iphone\" r...</td>\n",
       "      <td>This is a truly beautiful English Wilson Staff...</td>\n",
       "      <td>NaN</td>\n",
       "      <td>NaN</td>\n",
       "      <td>NaN</td>\n",
       "      <td>https://twitter.com/dog_rates/status/666050758...</td>\n",
       "      <td>10</td>\n",
       "      <td>10</td>\n",
       "      <td>a</td>\n",
       "      <td>None</td>\n",
       "      <td>None</td>\n",
       "      <td>None</td>\n",
       "      <td>None</td>\n",
       "    </tr>\n",
       "    <tr>\n",
       "      <th>2351</th>\n",
       "      <td>666049248165822465</td>\n",
       "      <td>NaN</td>\n",
       "      <td>NaN</td>\n",
       "      <td>2015-11-16 00:24:50 +0000</td>\n",
       "      <td>&lt;a href=\"http://twitter.com/download/iphone\" r...</td>\n",
       "      <td>Here we have a 1949 1st generation vulpix. Enj...</td>\n",
       "      <td>NaN</td>\n",
       "      <td>NaN</td>\n",
       "      <td>NaN</td>\n",
       "      <td>https://twitter.com/dog_rates/status/666049248...</td>\n",
       "      <td>5</td>\n",
       "      <td>10</td>\n",
       "      <td>None</td>\n",
       "      <td>None</td>\n",
       "      <td>None</td>\n",
       "      <td>None</td>\n",
       "      <td>None</td>\n",
       "    </tr>\n",
       "    <tr>\n",
       "      <th>2352</th>\n",
       "      <td>666044226329800704</td>\n",
       "      <td>NaN</td>\n",
       "      <td>NaN</td>\n",
       "      <td>2015-11-16 00:04:52 +0000</td>\n",
       "      <td>&lt;a href=\"http://twitter.com/download/iphone\" r...</td>\n",
       "      <td>This is a purebred Piers Morgan. Loves to Netf...</td>\n",
       "      <td>NaN</td>\n",
       "      <td>NaN</td>\n",
       "      <td>NaN</td>\n",
       "      <td>https://twitter.com/dog_rates/status/666044226...</td>\n",
       "      <td>6</td>\n",
       "      <td>10</td>\n",
       "      <td>a</td>\n",
       "      <td>None</td>\n",
       "      <td>None</td>\n",
       "      <td>None</td>\n",
       "      <td>None</td>\n",
       "    </tr>\n",
       "    <tr>\n",
       "      <th>2353</th>\n",
       "      <td>666033412701032449</td>\n",
       "      <td>NaN</td>\n",
       "      <td>NaN</td>\n",
       "      <td>2015-11-15 23:21:54 +0000</td>\n",
       "      <td>&lt;a href=\"http://twitter.com/download/iphone\" r...</td>\n",
       "      <td>Here is a very happy pup. Big fan of well-main...</td>\n",
       "      <td>NaN</td>\n",
       "      <td>NaN</td>\n",
       "      <td>NaN</td>\n",
       "      <td>https://twitter.com/dog_rates/status/666033412...</td>\n",
       "      <td>9</td>\n",
       "      <td>10</td>\n",
       "      <td>a</td>\n",
       "      <td>None</td>\n",
       "      <td>None</td>\n",
       "      <td>None</td>\n",
       "      <td>None</td>\n",
       "    </tr>\n",
       "    <tr>\n",
       "      <th>2354</th>\n",
       "      <td>666029285002620928</td>\n",
       "      <td>NaN</td>\n",
       "      <td>NaN</td>\n",
       "      <td>2015-11-15 23:05:30 +0000</td>\n",
       "      <td>&lt;a href=\"http://twitter.com/download/iphone\" r...</td>\n",
       "      <td>This is a western brown Mitsubishi terrier. Up...</td>\n",
       "      <td>NaN</td>\n",
       "      <td>NaN</td>\n",
       "      <td>NaN</td>\n",
       "      <td>https://twitter.com/dog_rates/status/666029285...</td>\n",
       "      <td>7</td>\n",
       "      <td>10</td>\n",
       "      <td>a</td>\n",
       "      <td>None</td>\n",
       "      <td>None</td>\n",
       "      <td>None</td>\n",
       "      <td>None</td>\n",
       "    </tr>\n",
       "    <tr>\n",
       "      <th>2355</th>\n",
       "      <td>666020888022790149</td>\n",
       "      <td>NaN</td>\n",
       "      <td>NaN</td>\n",
       "      <td>2015-11-15 22:32:08 +0000</td>\n",
       "      <td>&lt;a href=\"http://twitter.com/download/iphone\" r...</td>\n",
       "      <td>Here we have a Japanese Irish Setter. Lost eye...</td>\n",
       "      <td>NaN</td>\n",
       "      <td>NaN</td>\n",
       "      <td>NaN</td>\n",
       "      <td>https://twitter.com/dog_rates/status/666020888...</td>\n",
       "      <td>8</td>\n",
       "      <td>10</td>\n",
       "      <td>None</td>\n",
       "      <td>None</td>\n",
       "      <td>None</td>\n",
       "      <td>None</td>\n",
       "      <td>None</td>\n",
       "    </tr>\n",
       "  </tbody>\n",
       "</table>\n",
       "<p>2356 rows × 17 columns</p>\n",
       "</div>"
      ],
      "text/plain": [
       "                tweet_id  in_reply_to_status_id  in_reply_to_user_id  \\\n",
       "0     892420643555336193                    NaN                  NaN   \n",
       "1     892177421306343426                    NaN                  NaN   \n",
       "2     891815181378084864                    NaN                  NaN   \n",
       "3     891689557279858688                    NaN                  NaN   \n",
       "4     891327558926688256                    NaN                  NaN   \n",
       "5     891087950875897856                    NaN                  NaN   \n",
       "6     890971913173991426                    NaN                  NaN   \n",
       "7     890729181411237888                    NaN                  NaN   \n",
       "8     890609185150312448                    NaN                  NaN   \n",
       "9     890240255349198849                    NaN                  NaN   \n",
       "10    890006608113172480                    NaN                  NaN   \n",
       "11    889880896479866881                    NaN                  NaN   \n",
       "12    889665388333682689                    NaN                  NaN   \n",
       "13    889638837579907072                    NaN                  NaN   \n",
       "14    889531135344209921                    NaN                  NaN   \n",
       "15    889278841981685760                    NaN                  NaN   \n",
       "16    888917238123831296                    NaN                  NaN   \n",
       "17    888804989199671297                    NaN                  NaN   \n",
       "18    888554962724278272                    NaN                  NaN   \n",
       "19    888202515573088257                    NaN                  NaN   \n",
       "20    888078434458587136                    NaN                  NaN   \n",
       "21    887705289381826560                    NaN                  NaN   \n",
       "22    887517139158093824                    NaN                  NaN   \n",
       "23    887473957103951883                    NaN                  NaN   \n",
       "24    887343217045368832                    NaN                  NaN   \n",
       "25    887101392804085760                    NaN                  NaN   \n",
       "26    886983233522544640                    NaN                  NaN   \n",
       "27    886736880519319552                    NaN                  NaN   \n",
       "28    886680336477933568                    NaN                  NaN   \n",
       "29    886366144734445568                    NaN                  NaN   \n",
       "...                  ...                    ...                  ...   \n",
       "2326  666411507551481857                    NaN                  NaN   \n",
       "2327  666407126856765440                    NaN                  NaN   \n",
       "2328  666396247373291520                    NaN                  NaN   \n",
       "2329  666373753744588802                    NaN                  NaN   \n",
       "2330  666362758909284353                    NaN                  NaN   \n",
       "2331  666353288456101888                    NaN                  NaN   \n",
       "2332  666345417576210432                    NaN                  NaN   \n",
       "2333  666337882303524864                    NaN                  NaN   \n",
       "2334  666293911632134144                    NaN                  NaN   \n",
       "2335  666287406224695296                    NaN                  NaN   \n",
       "2336  666273097616637952                    NaN                  NaN   \n",
       "2337  666268910803644416                    NaN                  NaN   \n",
       "2338  666104133288665088                    NaN                  NaN   \n",
       "2339  666102155909144576                    NaN                  NaN   \n",
       "2340  666099513787052032                    NaN                  NaN   \n",
       "2341  666094000022159362                    NaN                  NaN   \n",
       "2342  666082916733198337                    NaN                  NaN   \n",
       "2343  666073100786774016                    NaN                  NaN   \n",
       "2344  666071193221509120                    NaN                  NaN   \n",
       "2345  666063827256086533                    NaN                  NaN   \n",
       "2346  666058600524156928                    NaN                  NaN   \n",
       "2347  666057090499244032                    NaN                  NaN   \n",
       "2348  666055525042405380                    NaN                  NaN   \n",
       "2349  666051853826850816                    NaN                  NaN   \n",
       "2350  666050758794694657                    NaN                  NaN   \n",
       "2351  666049248165822465                    NaN                  NaN   \n",
       "2352  666044226329800704                    NaN                  NaN   \n",
       "2353  666033412701032449                    NaN                  NaN   \n",
       "2354  666029285002620928                    NaN                  NaN   \n",
       "2355  666020888022790149                    NaN                  NaN   \n",
       "\n",
       "                      timestamp  \\\n",
       "0     2017-08-01 16:23:56 +0000   \n",
       "1     2017-08-01 00:17:27 +0000   \n",
       "2     2017-07-31 00:18:03 +0000   \n",
       "3     2017-07-30 15:58:51 +0000   \n",
       "4     2017-07-29 16:00:24 +0000   \n",
       "5     2017-07-29 00:08:17 +0000   \n",
       "6     2017-07-28 16:27:12 +0000   \n",
       "7     2017-07-28 00:22:40 +0000   \n",
       "8     2017-07-27 16:25:51 +0000   \n",
       "9     2017-07-26 15:59:51 +0000   \n",
       "10    2017-07-26 00:31:25 +0000   \n",
       "11    2017-07-25 16:11:53 +0000   \n",
       "12    2017-07-25 01:55:32 +0000   \n",
       "13    2017-07-25 00:10:02 +0000   \n",
       "14    2017-07-24 17:02:04 +0000   \n",
       "15    2017-07-24 00:19:32 +0000   \n",
       "16    2017-07-23 00:22:39 +0000   \n",
       "17    2017-07-22 16:56:37 +0000   \n",
       "18    2017-07-22 00:23:06 +0000   \n",
       "19    2017-07-21 01:02:36 +0000   \n",
       "20    2017-07-20 16:49:33 +0000   \n",
       "21    2017-07-19 16:06:48 +0000   \n",
       "22    2017-07-19 03:39:09 +0000   \n",
       "23    2017-07-19 00:47:34 +0000   \n",
       "24    2017-07-18 16:08:03 +0000   \n",
       "25    2017-07-18 00:07:08 +0000   \n",
       "26    2017-07-17 16:17:36 +0000   \n",
       "27    2017-07-16 23:58:41 +0000   \n",
       "28    2017-07-16 20:14:00 +0000   \n",
       "29    2017-07-15 23:25:31 +0000   \n",
       "...                         ...   \n",
       "2326  2015-11-17 00:24:19 +0000   \n",
       "2327  2015-11-17 00:06:54 +0000   \n",
       "2328  2015-11-16 23:23:41 +0000   \n",
       "2329  2015-11-16 21:54:18 +0000   \n",
       "2330  2015-11-16 21:10:36 +0000   \n",
       "2331  2015-11-16 20:32:58 +0000   \n",
       "2332  2015-11-16 20:01:42 +0000   \n",
       "2333  2015-11-16 19:31:45 +0000   \n",
       "2334  2015-11-16 16:37:02 +0000   \n",
       "2335  2015-11-16 16:11:11 +0000   \n",
       "2336  2015-11-16 15:14:19 +0000   \n",
       "2337  2015-11-16 14:57:41 +0000   \n",
       "2338  2015-11-16 04:02:55 +0000   \n",
       "2339  2015-11-16 03:55:04 +0000   \n",
       "2340  2015-11-16 03:44:34 +0000   \n",
       "2341  2015-11-16 03:22:39 +0000   \n",
       "2342  2015-11-16 02:38:37 +0000   \n",
       "2343  2015-11-16 01:59:36 +0000   \n",
       "2344  2015-11-16 01:52:02 +0000   \n",
       "2345  2015-11-16 01:22:45 +0000   \n",
       "2346  2015-11-16 01:01:59 +0000   \n",
       "2347  2015-11-16 00:55:59 +0000   \n",
       "2348  2015-11-16 00:49:46 +0000   \n",
       "2349  2015-11-16 00:35:11 +0000   \n",
       "2350  2015-11-16 00:30:50 +0000   \n",
       "2351  2015-11-16 00:24:50 +0000   \n",
       "2352  2015-11-16 00:04:52 +0000   \n",
       "2353  2015-11-15 23:21:54 +0000   \n",
       "2354  2015-11-15 23:05:30 +0000   \n",
       "2355  2015-11-15 22:32:08 +0000   \n",
       "\n",
       "                                                 source  \\\n",
       "0     <a href=\"http://twitter.com/download/iphone\" r...   \n",
       "1     <a href=\"http://twitter.com/download/iphone\" r...   \n",
       "2     <a href=\"http://twitter.com/download/iphone\" r...   \n",
       "3     <a href=\"http://twitter.com/download/iphone\" r...   \n",
       "4     <a href=\"http://twitter.com/download/iphone\" r...   \n",
       "5     <a href=\"http://twitter.com/download/iphone\" r...   \n",
       "6     <a href=\"http://twitter.com/download/iphone\" r...   \n",
       "7     <a href=\"http://twitter.com/download/iphone\" r...   \n",
       "8     <a href=\"http://twitter.com/download/iphone\" r...   \n",
       "9     <a href=\"http://twitter.com/download/iphone\" r...   \n",
       "10    <a href=\"http://twitter.com/download/iphone\" r...   \n",
       "11    <a href=\"http://twitter.com/download/iphone\" r...   \n",
       "12    <a href=\"http://twitter.com/download/iphone\" r...   \n",
       "13    <a href=\"http://twitter.com/download/iphone\" r...   \n",
       "14    <a href=\"http://twitter.com/download/iphone\" r...   \n",
       "15    <a href=\"http://twitter.com/download/iphone\" r...   \n",
       "16    <a href=\"http://twitter.com/download/iphone\" r...   \n",
       "17    <a href=\"http://twitter.com/download/iphone\" r...   \n",
       "18    <a href=\"http://twitter.com/download/iphone\" r...   \n",
       "19    <a href=\"http://twitter.com/download/iphone\" r...   \n",
       "20    <a href=\"http://twitter.com/download/iphone\" r...   \n",
       "21    <a href=\"http://twitter.com/download/iphone\" r...   \n",
       "22    <a href=\"http://twitter.com/download/iphone\" r...   \n",
       "23    <a href=\"http://twitter.com/download/iphone\" r...   \n",
       "24    <a href=\"http://twitter.com/download/iphone\" r...   \n",
       "25    <a href=\"http://twitter.com/download/iphone\" r...   \n",
       "26    <a href=\"http://twitter.com/download/iphone\" r...   \n",
       "27    <a href=\"http://twitter.com/download/iphone\" r...   \n",
       "28    <a href=\"http://twitter.com/download/iphone\" r...   \n",
       "29    <a href=\"http://twitter.com/download/iphone\" r...   \n",
       "...                                                 ...   \n",
       "2326  <a href=\"http://twitter.com/download/iphone\" r...   \n",
       "2327  <a href=\"http://twitter.com/download/iphone\" r...   \n",
       "2328  <a href=\"http://twitter.com/download/iphone\" r...   \n",
       "2329  <a href=\"http://twitter.com/download/iphone\" r...   \n",
       "2330  <a href=\"http://twitter.com/download/iphone\" r...   \n",
       "2331  <a href=\"http://twitter.com/download/iphone\" r...   \n",
       "2332  <a href=\"http://twitter.com/download/iphone\" r...   \n",
       "2333  <a href=\"http://twitter.com/download/iphone\" r...   \n",
       "2334  <a href=\"http://twitter.com/download/iphone\" r...   \n",
       "2335  <a href=\"http://twitter.com/download/iphone\" r...   \n",
       "2336  <a href=\"http://twitter.com/download/iphone\" r...   \n",
       "2337  <a href=\"http://twitter.com/download/iphone\" r...   \n",
       "2338  <a href=\"http://twitter.com/download/iphone\" r...   \n",
       "2339  <a href=\"http://twitter.com/download/iphone\" r...   \n",
       "2340  <a href=\"http://twitter.com/download/iphone\" r...   \n",
       "2341  <a href=\"http://twitter.com/download/iphone\" r...   \n",
       "2342  <a href=\"http://twitter.com/download/iphone\" r...   \n",
       "2343  <a href=\"http://twitter.com/download/iphone\" r...   \n",
       "2344  <a href=\"http://twitter.com/download/iphone\" r...   \n",
       "2345  <a href=\"http://twitter.com/download/iphone\" r...   \n",
       "2346  <a href=\"http://twitter.com/download/iphone\" r...   \n",
       "2347  <a href=\"http://twitter.com/download/iphone\" r...   \n",
       "2348  <a href=\"http://twitter.com/download/iphone\" r...   \n",
       "2349  <a href=\"http://twitter.com/download/iphone\" r...   \n",
       "2350  <a href=\"http://twitter.com/download/iphone\" r...   \n",
       "2351  <a href=\"http://twitter.com/download/iphone\" r...   \n",
       "2352  <a href=\"http://twitter.com/download/iphone\" r...   \n",
       "2353  <a href=\"http://twitter.com/download/iphone\" r...   \n",
       "2354  <a href=\"http://twitter.com/download/iphone\" r...   \n",
       "2355  <a href=\"http://twitter.com/download/iphone\" r...   \n",
       "\n",
       "                                                   text  retweeted_status_id  \\\n",
       "0     This is Phineas. He's a mystical boy. Only eve...                  NaN   \n",
       "1     This is Tilly. She's just checking pup on you....                  NaN   \n",
       "2     This is Archie. He is a rare Norwegian Pouncin...                  NaN   \n",
       "3     This is Darla. She commenced a snooze mid meal...                  NaN   \n",
       "4     This is Franklin. He would like you to stop ca...                  NaN   \n",
       "5     Here we have a majestic great white breaching ...                  NaN   \n",
       "6     Meet Jax. He enjoys ice cream so much he gets ...                  NaN   \n",
       "7     When you watch your owner call another dog a g...                  NaN   \n",
       "8     This is Zoey. She doesn't want to be one of th...                  NaN   \n",
       "9     This is Cassie. She is a college pup. Studying...                  NaN   \n",
       "10    This is Koda. He is a South Australian decksha...                  NaN   \n",
       "11    This is Bruno. He is a service shark. Only get...                  NaN   \n",
       "12    Here's a puppo that seems to be on the fence a...                  NaN   \n",
       "13    This is Ted. He does his best. Sometimes that'...                  NaN   \n",
       "14    This is Stuart. He's sporting his favorite fan...                  NaN   \n",
       "15    This is Oliver. You're witnessing one of his m...                  NaN   \n",
       "16    This is Jim. He found a fren. Taught him how t...                  NaN   \n",
       "17    This is Zeke. He has a new stick. Very proud o...                  NaN   \n",
       "18    This is Ralphus. He's powering up. Attempting ...                  NaN   \n",
       "19    RT @dog_rates: This is Canela. She attempted s...         8.874740e+17   \n",
       "20    This is Gerald. He was just told he didn't get...                  NaN   \n",
       "21    This is Jeffrey. He has a monopoly on the pool...                  NaN   \n",
       "22    I've yet to rate a Venezuelan Hover Wiener. Th...                  NaN   \n",
       "23    This is Canela. She attempted some fancy porch...                  NaN   \n",
       "24    You may not have known you needed to see this ...                  NaN   \n",
       "25    This... is a Jubilant Antarctic House Bear. We...                  NaN   \n",
       "26    This is Maya. She's very shy. Rarely leaves he...                  NaN   \n",
       "27    This is Mingus. He's a wonderful father to his...                  NaN   \n",
       "28    This is Derek. He's late for a dog meeting. 13...                  NaN   \n",
       "29    This is Roscoe. Another pupper fallen victim t...                  NaN   \n",
       "...                                                 ...                  ...   \n",
       "2326  This is quite the dog. Gets really excited whe...                  NaN   \n",
       "2327  This is a southern Vesuvius bumblegruff. Can d...                  NaN   \n",
       "2328  Oh goodness. A super rare northeast Qdoba kang...                  NaN   \n",
       "2329  Those are sunglasses and a jean jacket. 11/10 ...                  NaN   \n",
       "2330  Unique dog here. Very small. Lives in containe...                  NaN   \n",
       "2331  Here we have a mixed Asiago from the Galápagos...                  NaN   \n",
       "2332  Look at this jokester thinking seat belt laws ...                  NaN   \n",
       "2333  This is an extremely rare horned Parthenon. No...                  NaN   \n",
       "2334  This is a funny dog. Weird toes. Won't come do...                  NaN   \n",
       "2335  This is an Albanian 3 1/2 legged  Episcopalian...                  NaN   \n",
       "2336     Can take selfies 11/10 https://t.co/ws2AMaNwPW                  NaN   \n",
       "2337  Very concerned about fellow dog trapped in com...                  NaN   \n",
       "2338  Not familiar with this breed. No tail (weird)....                  NaN   \n",
       "2339  Oh my. Here you are seeing an Adobe Setter giv...                  NaN   \n",
       "2340  Can stand on stump for what seems like a while...                  NaN   \n",
       "2341  This appears to be a Mongolian Presbyterian mi...                  NaN   \n",
       "2342  Here we have a well-established sunblockerspan...                  NaN   \n",
       "2343  Let's hope this flight isn't Malaysian (lol). ...                  NaN   \n",
       "2344  Here we have a northern speckled Rhododendron....                  NaN   \n",
       "2345  This is the happiest dog you will ever see. Ve...                  NaN   \n",
       "2346  Here is the Rand Paul of retrievers folks! He'...                  NaN   \n",
       "2347  My oh my. This is a rare blond Canadian terrie...                  NaN   \n",
       "2348  Here is a Siberian heavily armored polar bear ...                  NaN   \n",
       "2349  This is an odd dog. Hard on the outside but lo...                  NaN   \n",
       "2350  This is a truly beautiful English Wilson Staff...                  NaN   \n",
       "2351  Here we have a 1949 1st generation vulpix. Enj...                  NaN   \n",
       "2352  This is a purebred Piers Morgan. Loves to Netf...                  NaN   \n",
       "2353  Here is a very happy pup. Big fan of well-main...                  NaN   \n",
       "2354  This is a western brown Mitsubishi terrier. Up...                  NaN   \n",
       "2355  Here we have a Japanese Irish Setter. Lost eye...                  NaN   \n",
       "\n",
       "      retweeted_status_user_id retweeted_status_timestamp  \\\n",
       "0                          NaN                        NaN   \n",
       "1                          NaN                        NaN   \n",
       "2                          NaN                        NaN   \n",
       "3                          NaN                        NaN   \n",
       "4                          NaN                        NaN   \n",
       "5                          NaN                        NaN   \n",
       "6                          NaN                        NaN   \n",
       "7                          NaN                        NaN   \n",
       "8                          NaN                        NaN   \n",
       "9                          NaN                        NaN   \n",
       "10                         NaN                        NaN   \n",
       "11                         NaN                        NaN   \n",
       "12                         NaN                        NaN   \n",
       "13                         NaN                        NaN   \n",
       "14                         NaN                        NaN   \n",
       "15                         NaN                        NaN   \n",
       "16                         NaN                        NaN   \n",
       "17                         NaN                        NaN   \n",
       "18                         NaN                        NaN   \n",
       "19                4.196984e+09  2017-07-19 00:47:34 +0000   \n",
       "20                         NaN                        NaN   \n",
       "21                         NaN                        NaN   \n",
       "22                         NaN                        NaN   \n",
       "23                         NaN                        NaN   \n",
       "24                         NaN                        NaN   \n",
       "25                         NaN                        NaN   \n",
       "26                         NaN                        NaN   \n",
       "27                         NaN                        NaN   \n",
       "28                         NaN                        NaN   \n",
       "29                         NaN                        NaN   \n",
       "...                        ...                        ...   \n",
       "2326                       NaN                        NaN   \n",
       "2327                       NaN                        NaN   \n",
       "2328                       NaN                        NaN   \n",
       "2329                       NaN                        NaN   \n",
       "2330                       NaN                        NaN   \n",
       "2331                       NaN                        NaN   \n",
       "2332                       NaN                        NaN   \n",
       "2333                       NaN                        NaN   \n",
       "2334                       NaN                        NaN   \n",
       "2335                       NaN                        NaN   \n",
       "2336                       NaN                        NaN   \n",
       "2337                       NaN                        NaN   \n",
       "2338                       NaN                        NaN   \n",
       "2339                       NaN                        NaN   \n",
       "2340                       NaN                        NaN   \n",
       "2341                       NaN                        NaN   \n",
       "2342                       NaN                        NaN   \n",
       "2343                       NaN                        NaN   \n",
       "2344                       NaN                        NaN   \n",
       "2345                       NaN                        NaN   \n",
       "2346                       NaN                        NaN   \n",
       "2347                       NaN                        NaN   \n",
       "2348                       NaN                        NaN   \n",
       "2349                       NaN                        NaN   \n",
       "2350                       NaN                        NaN   \n",
       "2351                       NaN                        NaN   \n",
       "2352                       NaN                        NaN   \n",
       "2353                       NaN                        NaN   \n",
       "2354                       NaN                        NaN   \n",
       "2355                       NaN                        NaN   \n",
       "\n",
       "                                          expanded_urls  rating_numerator  \\\n",
       "0     https://twitter.com/dog_rates/status/892420643...                13   \n",
       "1     https://twitter.com/dog_rates/status/892177421...                13   \n",
       "2     https://twitter.com/dog_rates/status/891815181...                12   \n",
       "3     https://twitter.com/dog_rates/status/891689557...                13   \n",
       "4     https://twitter.com/dog_rates/status/891327558...                12   \n",
       "5     https://twitter.com/dog_rates/status/891087950...                13   \n",
       "6     https://gofundme.com/ydvmve-surgery-for-jax,ht...                13   \n",
       "7     https://twitter.com/dog_rates/status/890729181...                13   \n",
       "8     https://twitter.com/dog_rates/status/890609185...                13   \n",
       "9     https://twitter.com/dog_rates/status/890240255...                14   \n",
       "10    https://twitter.com/dog_rates/status/890006608...                13   \n",
       "11    https://twitter.com/dog_rates/status/889880896...                13   \n",
       "12    https://twitter.com/dog_rates/status/889665388...                13   \n",
       "13    https://twitter.com/dog_rates/status/889638837...                12   \n",
       "14    https://twitter.com/dog_rates/status/889531135...                13   \n",
       "15    https://twitter.com/dog_rates/status/889278841...                13   \n",
       "16    https://twitter.com/dog_rates/status/888917238...                12   \n",
       "17    https://twitter.com/dog_rates/status/888804989...                13   \n",
       "18    https://twitter.com/dog_rates/status/888554962...                13   \n",
       "19    https://twitter.com/dog_rates/status/887473957...                13   \n",
       "20    https://twitter.com/dog_rates/status/888078434...                12   \n",
       "21    https://twitter.com/dog_rates/status/887705289...                13   \n",
       "22    https://twitter.com/dog_rates/status/887517139...                14   \n",
       "23    https://twitter.com/dog_rates/status/887473957...                13   \n",
       "24    https://twitter.com/dog_rates/status/887343217...                13   \n",
       "25    https://twitter.com/dog_rates/status/887101392...                12   \n",
       "26    https://twitter.com/dog_rates/status/886983233...                13   \n",
       "27    https://www.gofundme.com/mingusneedsus,https:/...                13   \n",
       "28    https://twitter.com/dog_rates/status/886680336...                13   \n",
       "29    https://twitter.com/dog_rates/status/886366144...                12   \n",
       "...                                                 ...               ...   \n",
       "2326  https://twitter.com/dog_rates/status/666411507...                 2   \n",
       "2327  https://twitter.com/dog_rates/status/666407126...                 7   \n",
       "2328  https://twitter.com/dog_rates/status/666396247...                 9   \n",
       "2329  https://twitter.com/dog_rates/status/666373753...                11   \n",
       "2330  https://twitter.com/dog_rates/status/666362758...                 6   \n",
       "2331  https://twitter.com/dog_rates/status/666353288...                 8   \n",
       "2332  https://twitter.com/dog_rates/status/666345417...                10   \n",
       "2333  https://twitter.com/dog_rates/status/666337882...                 9   \n",
       "2334  https://twitter.com/dog_rates/status/666293911...                 3   \n",
       "2335  https://twitter.com/dog_rates/status/666287406...                 1   \n",
       "2336  https://twitter.com/dog_rates/status/666273097...                11   \n",
       "2337  https://twitter.com/dog_rates/status/666268910...                10   \n",
       "2338  https://twitter.com/dog_rates/status/666104133...                 1   \n",
       "2339  https://twitter.com/dog_rates/status/666102155...                11   \n",
       "2340  https://twitter.com/dog_rates/status/666099513...                 8   \n",
       "2341  https://twitter.com/dog_rates/status/666094000...                 9   \n",
       "2342  https://twitter.com/dog_rates/status/666082916...                 6   \n",
       "2343  https://twitter.com/dog_rates/status/666073100...                10   \n",
       "2344  https://twitter.com/dog_rates/status/666071193...                 9   \n",
       "2345  https://twitter.com/dog_rates/status/666063827...                10   \n",
       "2346  https://twitter.com/dog_rates/status/666058600...                 8   \n",
       "2347  https://twitter.com/dog_rates/status/666057090...                 9   \n",
       "2348  https://twitter.com/dog_rates/status/666055525...                10   \n",
       "2349  https://twitter.com/dog_rates/status/666051853...                 2   \n",
       "2350  https://twitter.com/dog_rates/status/666050758...                10   \n",
       "2351  https://twitter.com/dog_rates/status/666049248...                 5   \n",
       "2352  https://twitter.com/dog_rates/status/666044226...                 6   \n",
       "2353  https://twitter.com/dog_rates/status/666033412...                 9   \n",
       "2354  https://twitter.com/dog_rates/status/666029285...                 7   \n",
       "2355  https://twitter.com/dog_rates/status/666020888...                 8   \n",
       "\n",
       "      rating_denominator      name  doggo floofer  pupper  puppo  \n",
       "0                     10   Phineas   None    None    None   None  \n",
       "1                     10     Tilly   None    None    None   None  \n",
       "2                     10    Archie   None    None    None   None  \n",
       "3                     10     Darla   None    None    None   None  \n",
       "4                     10  Franklin   None    None    None   None  \n",
       "5                     10      None   None    None    None   None  \n",
       "6                     10       Jax   None    None    None   None  \n",
       "7                     10      None   None    None    None   None  \n",
       "8                     10      Zoey   None    None    None   None  \n",
       "9                     10    Cassie  doggo    None    None   None  \n",
       "10                    10      Koda   None    None    None   None  \n",
       "11                    10     Bruno   None    None    None   None  \n",
       "12                    10      None   None    None    None  puppo  \n",
       "13                    10       Ted   None    None    None   None  \n",
       "14                    10    Stuart   None    None    None  puppo  \n",
       "15                    10    Oliver   None    None    None   None  \n",
       "16                    10       Jim   None    None    None   None  \n",
       "17                    10      Zeke   None    None    None   None  \n",
       "18                    10   Ralphus   None    None    None   None  \n",
       "19                    10    Canela   None    None    None   None  \n",
       "20                    10    Gerald   None    None    None   None  \n",
       "21                    10   Jeffrey   None    None    None   None  \n",
       "22                    10      such   None    None    None   None  \n",
       "23                    10    Canela   None    None    None   None  \n",
       "24                    10      None   None    None    None   None  \n",
       "25                    10      None   None    None    None   None  \n",
       "26                    10      Maya   None    None    None   None  \n",
       "27                    10    Mingus   None    None    None   None  \n",
       "28                    10     Derek   None    None    None   None  \n",
       "29                    10    Roscoe   None    None  pupper   None  \n",
       "...                  ...       ...    ...     ...     ...    ...  \n",
       "2326                  10     quite   None    None    None   None  \n",
       "2327                  10         a   None    None    None   None  \n",
       "2328                  10      None   None    None    None   None  \n",
       "2329                  10      None   None    None    None   None  \n",
       "2330                  10      None   None    None    None   None  \n",
       "2331                  10      None   None    None    None   None  \n",
       "2332                  10      None   None    None    None   None  \n",
       "2333                  10        an   None    None    None   None  \n",
       "2334                  10         a   None    None    None   None  \n",
       "2335                   2        an   None    None    None   None  \n",
       "2336                  10      None   None    None    None   None  \n",
       "2337                  10      None   None    None    None   None  \n",
       "2338                  10      None   None    None    None   None  \n",
       "2339                  10      None   None    None    None   None  \n",
       "2340                  10      None   None    None    None   None  \n",
       "2341                  10      None   None    None    None   None  \n",
       "2342                  10      None   None    None    None   None  \n",
       "2343                  10      None   None    None    None   None  \n",
       "2344                  10      None   None    None    None   None  \n",
       "2345                  10       the   None    None    None   None  \n",
       "2346                  10       the   None    None    None   None  \n",
       "2347                  10         a   None    None    None   None  \n",
       "2348                  10         a   None    None    None   None  \n",
       "2349                  10        an   None    None    None   None  \n",
       "2350                  10         a   None    None    None   None  \n",
       "2351                  10      None   None    None    None   None  \n",
       "2352                  10         a   None    None    None   None  \n",
       "2353                  10         a   None    None    None   None  \n",
       "2354                  10         a   None    None    None   None  \n",
       "2355                  10      None   None    None    None   None  \n",
       "\n",
       "[2356 rows x 17 columns]"
      ]
     },
     "execution_count": 8,
     "metadata": {},
     "output_type": "execute_result"
    }
   ],
   "source": [
    "df_arcv"
   ]
  },
  {
   "cell_type": "markdown",
   "metadata": {},
   "source": [
    "#### 2.1.2 Archive data frame information"
   ]
  },
  {
   "cell_type": "code",
   "execution_count": 9,
   "metadata": {},
   "outputs": [
    {
     "name": "stdout",
     "output_type": "stream",
     "text": [
      "<class 'pandas.core.frame.DataFrame'>\n",
      "RangeIndex: 2356 entries, 0 to 2355\n",
      "Data columns (total 17 columns):\n",
      "tweet_id                      2356 non-null int64\n",
      "in_reply_to_status_id         78 non-null float64\n",
      "in_reply_to_user_id           78 non-null float64\n",
      "timestamp                     2356 non-null object\n",
      "source                        2356 non-null object\n",
      "text                          2356 non-null object\n",
      "retweeted_status_id           181 non-null float64\n",
      "retweeted_status_user_id      181 non-null float64\n",
      "retweeted_status_timestamp    181 non-null object\n",
      "expanded_urls                 2297 non-null object\n",
      "rating_numerator              2356 non-null int64\n",
      "rating_denominator            2356 non-null int64\n",
      "name                          2356 non-null object\n",
      "doggo                         2356 non-null object\n",
      "floofer                       2356 non-null object\n",
      "pupper                        2356 non-null object\n",
      "puppo                         2356 non-null object\n",
      "dtypes: float64(4), int64(3), object(10)\n",
      "memory usage: 313.0+ KB\n"
     ]
    }
   ],
   "source": [
    "df_arcv.info()"
   ]
  },
  {
   "cell_type": "markdown",
   "metadata": {
    "scrolled": true
   },
   "source": [
    "There are 78 reply and 181 retweet , they are not original tweets and shall be removed "
   ]
  },
  {
   "cell_type": "markdown",
   "metadata": {},
   "source": [
    "#### 2.1.3 Archive data frame check for duplicated rows"
   ]
  },
  {
   "cell_type": "code",
   "execution_count": 10,
   "metadata": {},
   "outputs": [
    {
     "data": {
      "text/plain": [
       "0"
      ]
     },
     "execution_count": 10,
     "metadata": {},
     "output_type": "execute_result"
    }
   ],
   "source": [
    "df_arcv.duplicated().sum()"
   ]
  },
  {
   "cell_type": "markdown",
   "metadata": {},
   "source": [
    "#### 2.1.4 Descriptive statistis for archive data frame"
   ]
  },
  {
   "cell_type": "code",
   "execution_count": 11,
   "metadata": {},
   "outputs": [
    {
     "data": {
      "text/html": [
       "<div>\n",
       "<style scoped>\n",
       "    .dataframe tbody tr th:only-of-type {\n",
       "        vertical-align: middle;\n",
       "    }\n",
       "\n",
       "    .dataframe tbody tr th {\n",
       "        vertical-align: top;\n",
       "    }\n",
       "\n",
       "    .dataframe thead th {\n",
       "        text-align: right;\n",
       "    }\n",
       "</style>\n",
       "<table border=\"1\" class=\"dataframe\">\n",
       "  <thead>\n",
       "    <tr style=\"text-align: right;\">\n",
       "      <th></th>\n",
       "      <th>tweet_id</th>\n",
       "      <th>in_reply_to_status_id</th>\n",
       "      <th>in_reply_to_user_id</th>\n",
       "      <th>retweeted_status_id</th>\n",
       "      <th>retweeted_status_user_id</th>\n",
       "      <th>rating_numerator</th>\n",
       "      <th>rating_denominator</th>\n",
       "    </tr>\n",
       "  </thead>\n",
       "  <tbody>\n",
       "    <tr>\n",
       "      <th>count</th>\n",
       "      <td>2.356000e+03</td>\n",
       "      <td>7.800000e+01</td>\n",
       "      <td>7.800000e+01</td>\n",
       "      <td>1.810000e+02</td>\n",
       "      <td>1.810000e+02</td>\n",
       "      <td>2356.000000</td>\n",
       "      <td>2356.000000</td>\n",
       "    </tr>\n",
       "    <tr>\n",
       "      <th>mean</th>\n",
       "      <td>7.427716e+17</td>\n",
       "      <td>7.455079e+17</td>\n",
       "      <td>2.014171e+16</td>\n",
       "      <td>7.720400e+17</td>\n",
       "      <td>1.241698e+16</td>\n",
       "      <td>13.126486</td>\n",
       "      <td>10.455433</td>\n",
       "    </tr>\n",
       "    <tr>\n",
       "      <th>std</th>\n",
       "      <td>6.856705e+16</td>\n",
       "      <td>7.582492e+16</td>\n",
       "      <td>1.252797e+17</td>\n",
       "      <td>6.236928e+16</td>\n",
       "      <td>9.599254e+16</td>\n",
       "      <td>45.876648</td>\n",
       "      <td>6.745237</td>\n",
       "    </tr>\n",
       "    <tr>\n",
       "      <th>min</th>\n",
       "      <td>6.660209e+17</td>\n",
       "      <td>6.658147e+17</td>\n",
       "      <td>1.185634e+07</td>\n",
       "      <td>6.661041e+17</td>\n",
       "      <td>7.832140e+05</td>\n",
       "      <td>0.000000</td>\n",
       "      <td>0.000000</td>\n",
       "    </tr>\n",
       "    <tr>\n",
       "      <th>25%</th>\n",
       "      <td>6.783989e+17</td>\n",
       "      <td>6.757419e+17</td>\n",
       "      <td>3.086374e+08</td>\n",
       "      <td>7.186315e+17</td>\n",
       "      <td>4.196984e+09</td>\n",
       "      <td>10.000000</td>\n",
       "      <td>10.000000</td>\n",
       "    </tr>\n",
       "    <tr>\n",
       "      <th>50%</th>\n",
       "      <td>7.196279e+17</td>\n",
       "      <td>7.038708e+17</td>\n",
       "      <td>4.196984e+09</td>\n",
       "      <td>7.804657e+17</td>\n",
       "      <td>4.196984e+09</td>\n",
       "      <td>11.000000</td>\n",
       "      <td>10.000000</td>\n",
       "    </tr>\n",
       "    <tr>\n",
       "      <th>75%</th>\n",
       "      <td>7.993373e+17</td>\n",
       "      <td>8.257804e+17</td>\n",
       "      <td>4.196984e+09</td>\n",
       "      <td>8.203146e+17</td>\n",
       "      <td>4.196984e+09</td>\n",
       "      <td>12.000000</td>\n",
       "      <td>10.000000</td>\n",
       "    </tr>\n",
       "    <tr>\n",
       "      <th>max</th>\n",
       "      <td>8.924206e+17</td>\n",
       "      <td>8.862664e+17</td>\n",
       "      <td>8.405479e+17</td>\n",
       "      <td>8.874740e+17</td>\n",
       "      <td>7.874618e+17</td>\n",
       "      <td>1776.000000</td>\n",
       "      <td>170.000000</td>\n",
       "    </tr>\n",
       "  </tbody>\n",
       "</table>\n",
       "</div>"
      ],
      "text/plain": [
       "           tweet_id  in_reply_to_status_id  in_reply_to_user_id  \\\n",
       "count  2.356000e+03           7.800000e+01         7.800000e+01   \n",
       "mean   7.427716e+17           7.455079e+17         2.014171e+16   \n",
       "std    6.856705e+16           7.582492e+16         1.252797e+17   \n",
       "min    6.660209e+17           6.658147e+17         1.185634e+07   \n",
       "25%    6.783989e+17           6.757419e+17         3.086374e+08   \n",
       "50%    7.196279e+17           7.038708e+17         4.196984e+09   \n",
       "75%    7.993373e+17           8.257804e+17         4.196984e+09   \n",
       "max    8.924206e+17           8.862664e+17         8.405479e+17   \n",
       "\n",
       "       retweeted_status_id  retweeted_status_user_id  rating_numerator  \\\n",
       "count         1.810000e+02              1.810000e+02       2356.000000   \n",
       "mean          7.720400e+17              1.241698e+16         13.126486   \n",
       "std           6.236928e+16              9.599254e+16         45.876648   \n",
       "min           6.661041e+17              7.832140e+05          0.000000   \n",
       "25%           7.186315e+17              4.196984e+09         10.000000   \n",
       "50%           7.804657e+17              4.196984e+09         11.000000   \n",
       "75%           8.203146e+17              4.196984e+09         12.000000   \n",
       "max           8.874740e+17              7.874618e+17       1776.000000   \n",
       "\n",
       "       rating_denominator  \n",
       "count         2356.000000  \n",
       "mean            10.455433  \n",
       "std              6.745237  \n",
       "min              0.000000  \n",
       "25%             10.000000  \n",
       "50%             10.000000  \n",
       "75%             10.000000  \n",
       "max            170.000000  "
      ]
     },
     "execution_count": 11,
     "metadata": {},
     "output_type": "execute_result"
    }
   ],
   "source": [
    "df_arcv.describe()"
   ]
  },
  {
   "cell_type": "markdown",
   "metadata": {},
   "source": [
    "#### 2.1.5 Explore the numerator"
   ]
  },
  {
   "cell_type": "code",
   "execution_count": 12,
   "metadata": {
    "scrolled": true
   },
   "outputs": [
    {
     "data": {
      "text/plain": [
       "12      558\n",
       "11      464\n",
       "10      461\n",
       "13      351\n",
       "9       158\n",
       "8       102\n",
       "7        55\n",
       "14       54\n",
       "5        37\n",
       "6        32\n",
       "3        19\n",
       "4        17\n",
       "1         9\n",
       "2         9\n",
       "420       2\n",
       "0         2\n",
       "15        2\n",
       "75        2\n",
       "80        1\n",
       "20        1\n",
       "24        1\n",
       "26        1\n",
       "44        1\n",
       "50        1\n",
       "60        1\n",
       "165       1\n",
       "84        1\n",
       "88        1\n",
       "144       1\n",
       "182       1\n",
       "143       1\n",
       "666       1\n",
       "960       1\n",
       "1776      1\n",
       "17        1\n",
       "27        1\n",
       "45        1\n",
       "99        1\n",
       "121       1\n",
       "204       1\n",
       "Name: rating_numerator, dtype: int64"
      ]
     },
     "execution_count": 12,
     "metadata": {},
     "output_type": "execute_result"
    }
   ],
   "source": [
    "df_arcv['rating_numerator'].value_counts()"
   ]
  },
  {
   "cell_type": "markdown",
   "metadata": {},
   "source": [
    "##### 2.1.6 Explore the denominator"
   ]
  },
  {
   "cell_type": "code",
   "execution_count": 13,
   "metadata": {
    "scrolled": true
   },
   "outputs": [
    {
     "data": {
      "text/plain": [
       "10     2333\n",
       "11        3\n",
       "50        3\n",
       "80        2\n",
       "20        2\n",
       "2         1\n",
       "16        1\n",
       "40        1\n",
       "70        1\n",
       "15        1\n",
       "90        1\n",
       "110       1\n",
       "120       1\n",
       "130       1\n",
       "150       1\n",
       "170       1\n",
       "7         1\n",
       "0         1\n",
       "Name: rating_denominator, dtype: int64"
      ]
     },
     "execution_count": 13,
     "metadata": {},
     "output_type": "execute_result"
    }
   ],
   "source": [
    "df_arcv['rating_denominator'].value_counts()"
   ]
  },
  {
   "cell_type": "markdown",
   "metadata": {},
   "source": [
    "### 2.2 Image data frame "
   ]
  },
  {
   "cell_type": "markdown",
   "metadata": {},
   "source": [
    "#### 2.2.1 Displaying the Image data frame "
   ]
  },
  {
   "cell_type": "code",
   "execution_count": 14,
   "metadata": {
    "scrolled": true
   },
   "outputs": [
    {
     "data": {
      "text/html": [
       "<div>\n",
       "<style scoped>\n",
       "    .dataframe tbody tr th:only-of-type {\n",
       "        vertical-align: middle;\n",
       "    }\n",
       "\n",
       "    .dataframe tbody tr th {\n",
       "        vertical-align: top;\n",
       "    }\n",
       "\n",
       "    .dataframe thead th {\n",
       "        text-align: right;\n",
       "    }\n",
       "</style>\n",
       "<table border=\"1\" class=\"dataframe\">\n",
       "  <thead>\n",
       "    <tr style=\"text-align: right;\">\n",
       "      <th></th>\n",
       "      <th>tweet_id</th>\n",
       "      <th>jpg_url</th>\n",
       "      <th>img_num</th>\n",
       "      <th>p1</th>\n",
       "      <th>p1_conf</th>\n",
       "      <th>p1_dog</th>\n",
       "      <th>p2</th>\n",
       "      <th>p2_conf</th>\n",
       "      <th>p2_dog</th>\n",
       "      <th>p3</th>\n",
       "      <th>p3_conf</th>\n",
       "      <th>p3_dog</th>\n",
       "    </tr>\n",
       "  </thead>\n",
       "  <tbody>\n",
       "    <tr>\n",
       "      <th>0</th>\n",
       "      <td>666020888022790149</td>\n",
       "      <td>https://pbs.twimg.com/media/CT4udn0WwAA0aMy.jpg</td>\n",
       "      <td>1</td>\n",
       "      <td>Welsh_springer_spaniel</td>\n",
       "      <td>0.465074</td>\n",
       "      <td>True</td>\n",
       "      <td>collie</td>\n",
       "      <td>0.156665</td>\n",
       "      <td>True</td>\n",
       "      <td>Shetland_sheepdog</td>\n",
       "      <td>0.061428</td>\n",
       "      <td>True</td>\n",
       "    </tr>\n",
       "    <tr>\n",
       "      <th>1</th>\n",
       "      <td>666029285002620928</td>\n",
       "      <td>https://pbs.twimg.com/media/CT42GRgUYAA5iDo.jpg</td>\n",
       "      <td>1</td>\n",
       "      <td>redbone</td>\n",
       "      <td>0.506826</td>\n",
       "      <td>True</td>\n",
       "      <td>miniature_pinscher</td>\n",
       "      <td>0.074192</td>\n",
       "      <td>True</td>\n",
       "      <td>Rhodesian_ridgeback</td>\n",
       "      <td>0.072010</td>\n",
       "      <td>True</td>\n",
       "    </tr>\n",
       "    <tr>\n",
       "      <th>2</th>\n",
       "      <td>666033412701032449</td>\n",
       "      <td>https://pbs.twimg.com/media/CT4521TWwAEvMyu.jpg</td>\n",
       "      <td>1</td>\n",
       "      <td>German_shepherd</td>\n",
       "      <td>0.596461</td>\n",
       "      <td>True</td>\n",
       "      <td>malinois</td>\n",
       "      <td>0.138584</td>\n",
       "      <td>True</td>\n",
       "      <td>bloodhound</td>\n",
       "      <td>0.116197</td>\n",
       "      <td>True</td>\n",
       "    </tr>\n",
       "    <tr>\n",
       "      <th>3</th>\n",
       "      <td>666044226329800704</td>\n",
       "      <td>https://pbs.twimg.com/media/CT5Dr8HUEAA-lEu.jpg</td>\n",
       "      <td>1</td>\n",
       "      <td>Rhodesian_ridgeback</td>\n",
       "      <td>0.408143</td>\n",
       "      <td>True</td>\n",
       "      <td>redbone</td>\n",
       "      <td>0.360687</td>\n",
       "      <td>True</td>\n",
       "      <td>miniature_pinscher</td>\n",
       "      <td>0.222752</td>\n",
       "      <td>True</td>\n",
       "    </tr>\n",
       "    <tr>\n",
       "      <th>4</th>\n",
       "      <td>666049248165822465</td>\n",
       "      <td>https://pbs.twimg.com/media/CT5IQmsXIAAKY4A.jpg</td>\n",
       "      <td>1</td>\n",
       "      <td>miniature_pinscher</td>\n",
       "      <td>0.560311</td>\n",
       "      <td>True</td>\n",
       "      <td>Rottweiler</td>\n",
       "      <td>0.243682</td>\n",
       "      <td>True</td>\n",
       "      <td>Doberman</td>\n",
       "      <td>0.154629</td>\n",
       "      <td>True</td>\n",
       "    </tr>\n",
       "    <tr>\n",
       "      <th>5</th>\n",
       "      <td>666050758794694657</td>\n",
       "      <td>https://pbs.twimg.com/media/CT5Jof1WUAEuVxN.jpg</td>\n",
       "      <td>1</td>\n",
       "      <td>Bernese_mountain_dog</td>\n",
       "      <td>0.651137</td>\n",
       "      <td>True</td>\n",
       "      <td>English_springer</td>\n",
       "      <td>0.263788</td>\n",
       "      <td>True</td>\n",
       "      <td>Greater_Swiss_Mountain_dog</td>\n",
       "      <td>0.016199</td>\n",
       "      <td>True</td>\n",
       "    </tr>\n",
       "    <tr>\n",
       "      <th>6</th>\n",
       "      <td>666051853826850816</td>\n",
       "      <td>https://pbs.twimg.com/media/CT5KoJ1WoAAJash.jpg</td>\n",
       "      <td>1</td>\n",
       "      <td>box_turtle</td>\n",
       "      <td>0.933012</td>\n",
       "      <td>False</td>\n",
       "      <td>mud_turtle</td>\n",
       "      <td>0.045885</td>\n",
       "      <td>False</td>\n",
       "      <td>terrapin</td>\n",
       "      <td>0.017885</td>\n",
       "      <td>False</td>\n",
       "    </tr>\n",
       "    <tr>\n",
       "      <th>7</th>\n",
       "      <td>666055525042405380</td>\n",
       "      <td>https://pbs.twimg.com/media/CT5N9tpXIAAifs1.jpg</td>\n",
       "      <td>1</td>\n",
       "      <td>chow</td>\n",
       "      <td>0.692517</td>\n",
       "      <td>True</td>\n",
       "      <td>Tibetan_mastiff</td>\n",
       "      <td>0.058279</td>\n",
       "      <td>True</td>\n",
       "      <td>fur_coat</td>\n",
       "      <td>0.054449</td>\n",
       "      <td>False</td>\n",
       "    </tr>\n",
       "    <tr>\n",
       "      <th>8</th>\n",
       "      <td>666057090499244032</td>\n",
       "      <td>https://pbs.twimg.com/media/CT5PY90WoAAQGLo.jpg</td>\n",
       "      <td>1</td>\n",
       "      <td>shopping_cart</td>\n",
       "      <td>0.962465</td>\n",
       "      <td>False</td>\n",
       "      <td>shopping_basket</td>\n",
       "      <td>0.014594</td>\n",
       "      <td>False</td>\n",
       "      <td>golden_retriever</td>\n",
       "      <td>0.007959</td>\n",
       "      <td>True</td>\n",
       "    </tr>\n",
       "    <tr>\n",
       "      <th>9</th>\n",
       "      <td>666058600524156928</td>\n",
       "      <td>https://pbs.twimg.com/media/CT5Qw94XAAA_2dP.jpg</td>\n",
       "      <td>1</td>\n",
       "      <td>miniature_poodle</td>\n",
       "      <td>0.201493</td>\n",
       "      <td>True</td>\n",
       "      <td>komondor</td>\n",
       "      <td>0.192305</td>\n",
       "      <td>True</td>\n",
       "      <td>soft-coated_wheaten_terrier</td>\n",
       "      <td>0.082086</td>\n",
       "      <td>True</td>\n",
       "    </tr>\n",
       "    <tr>\n",
       "      <th>10</th>\n",
       "      <td>666063827256086533</td>\n",
       "      <td>https://pbs.twimg.com/media/CT5Vg_wXIAAXfnj.jpg</td>\n",
       "      <td>1</td>\n",
       "      <td>golden_retriever</td>\n",
       "      <td>0.775930</td>\n",
       "      <td>True</td>\n",
       "      <td>Tibetan_mastiff</td>\n",
       "      <td>0.093718</td>\n",
       "      <td>True</td>\n",
       "      <td>Labrador_retriever</td>\n",
       "      <td>0.072427</td>\n",
       "      <td>True</td>\n",
       "    </tr>\n",
       "    <tr>\n",
       "      <th>11</th>\n",
       "      <td>666071193221509120</td>\n",
       "      <td>https://pbs.twimg.com/media/CT5cN_3WEAAlOoZ.jpg</td>\n",
       "      <td>1</td>\n",
       "      <td>Gordon_setter</td>\n",
       "      <td>0.503672</td>\n",
       "      <td>True</td>\n",
       "      <td>Yorkshire_terrier</td>\n",
       "      <td>0.174201</td>\n",
       "      <td>True</td>\n",
       "      <td>Pekinese</td>\n",
       "      <td>0.109454</td>\n",
       "      <td>True</td>\n",
       "    </tr>\n",
       "    <tr>\n",
       "      <th>12</th>\n",
       "      <td>666073100786774016</td>\n",
       "      <td>https://pbs.twimg.com/media/CT5d9DZXAAALcwe.jpg</td>\n",
       "      <td>1</td>\n",
       "      <td>Walker_hound</td>\n",
       "      <td>0.260857</td>\n",
       "      <td>True</td>\n",
       "      <td>English_foxhound</td>\n",
       "      <td>0.175382</td>\n",
       "      <td>True</td>\n",
       "      <td>Ibizan_hound</td>\n",
       "      <td>0.097471</td>\n",
       "      <td>True</td>\n",
       "    </tr>\n",
       "    <tr>\n",
       "      <th>13</th>\n",
       "      <td>666082916733198337</td>\n",
       "      <td>https://pbs.twimg.com/media/CT5m4VGWEAAtKc8.jpg</td>\n",
       "      <td>1</td>\n",
       "      <td>pug</td>\n",
       "      <td>0.489814</td>\n",
       "      <td>True</td>\n",
       "      <td>bull_mastiff</td>\n",
       "      <td>0.404722</td>\n",
       "      <td>True</td>\n",
       "      <td>French_bulldog</td>\n",
       "      <td>0.048960</td>\n",
       "      <td>True</td>\n",
       "    </tr>\n",
       "    <tr>\n",
       "      <th>14</th>\n",
       "      <td>666094000022159362</td>\n",
       "      <td>https://pbs.twimg.com/media/CT5w9gUW4AAsBNN.jpg</td>\n",
       "      <td>1</td>\n",
       "      <td>bloodhound</td>\n",
       "      <td>0.195217</td>\n",
       "      <td>True</td>\n",
       "      <td>German_shepherd</td>\n",
       "      <td>0.078260</td>\n",
       "      <td>True</td>\n",
       "      <td>malinois</td>\n",
       "      <td>0.075628</td>\n",
       "      <td>True</td>\n",
       "    </tr>\n",
       "    <tr>\n",
       "      <th>15</th>\n",
       "      <td>666099513787052032</td>\n",
       "      <td>https://pbs.twimg.com/media/CT51-JJUEAA6hV8.jpg</td>\n",
       "      <td>1</td>\n",
       "      <td>Lhasa</td>\n",
       "      <td>0.582330</td>\n",
       "      <td>True</td>\n",
       "      <td>Shih-Tzu</td>\n",
       "      <td>0.166192</td>\n",
       "      <td>True</td>\n",
       "      <td>Dandie_Dinmont</td>\n",
       "      <td>0.089688</td>\n",
       "      <td>True</td>\n",
       "    </tr>\n",
       "    <tr>\n",
       "      <th>16</th>\n",
       "      <td>666102155909144576</td>\n",
       "      <td>https://pbs.twimg.com/media/CT54YGiWUAEZnoK.jpg</td>\n",
       "      <td>1</td>\n",
       "      <td>English_setter</td>\n",
       "      <td>0.298617</td>\n",
       "      <td>True</td>\n",
       "      <td>Newfoundland</td>\n",
       "      <td>0.149842</td>\n",
       "      <td>True</td>\n",
       "      <td>borzoi</td>\n",
       "      <td>0.133649</td>\n",
       "      <td>True</td>\n",
       "    </tr>\n",
       "    <tr>\n",
       "      <th>17</th>\n",
       "      <td>666104133288665088</td>\n",
       "      <td>https://pbs.twimg.com/media/CT56LSZWoAAlJj2.jpg</td>\n",
       "      <td>1</td>\n",
       "      <td>hen</td>\n",
       "      <td>0.965932</td>\n",
       "      <td>False</td>\n",
       "      <td>cock</td>\n",
       "      <td>0.033919</td>\n",
       "      <td>False</td>\n",
       "      <td>partridge</td>\n",
       "      <td>0.000052</td>\n",
       "      <td>False</td>\n",
       "    </tr>\n",
       "    <tr>\n",
       "      <th>18</th>\n",
       "      <td>666268910803644416</td>\n",
       "      <td>https://pbs.twimg.com/media/CT8QCd1WEAADXws.jpg</td>\n",
       "      <td>1</td>\n",
       "      <td>desktop_computer</td>\n",
       "      <td>0.086502</td>\n",
       "      <td>False</td>\n",
       "      <td>desk</td>\n",
       "      <td>0.085547</td>\n",
       "      <td>False</td>\n",
       "      <td>bookcase</td>\n",
       "      <td>0.079480</td>\n",
       "      <td>False</td>\n",
       "    </tr>\n",
       "    <tr>\n",
       "      <th>19</th>\n",
       "      <td>666273097616637952</td>\n",
       "      <td>https://pbs.twimg.com/media/CT8T1mtUwAA3aqm.jpg</td>\n",
       "      <td>1</td>\n",
       "      <td>Italian_greyhound</td>\n",
       "      <td>0.176053</td>\n",
       "      <td>True</td>\n",
       "      <td>toy_terrier</td>\n",
       "      <td>0.111884</td>\n",
       "      <td>True</td>\n",
       "      <td>basenji</td>\n",
       "      <td>0.111152</td>\n",
       "      <td>True</td>\n",
       "    </tr>\n",
       "    <tr>\n",
       "      <th>20</th>\n",
       "      <td>666287406224695296</td>\n",
       "      <td>https://pbs.twimg.com/media/CT8g3BpUEAAuFjg.jpg</td>\n",
       "      <td>1</td>\n",
       "      <td>Maltese_dog</td>\n",
       "      <td>0.857531</td>\n",
       "      <td>True</td>\n",
       "      <td>toy_poodle</td>\n",
       "      <td>0.063064</td>\n",
       "      <td>True</td>\n",
       "      <td>miniature_poodle</td>\n",
       "      <td>0.025581</td>\n",
       "      <td>True</td>\n",
       "    </tr>\n",
       "    <tr>\n",
       "      <th>21</th>\n",
       "      <td>666293911632134144</td>\n",
       "      <td>https://pbs.twimg.com/media/CT8mx7KW4AEQu8N.jpg</td>\n",
       "      <td>1</td>\n",
       "      <td>three-toed_sloth</td>\n",
       "      <td>0.914671</td>\n",
       "      <td>False</td>\n",
       "      <td>otter</td>\n",
       "      <td>0.015250</td>\n",
       "      <td>False</td>\n",
       "      <td>great_grey_owl</td>\n",
       "      <td>0.013207</td>\n",
       "      <td>False</td>\n",
       "    </tr>\n",
       "    <tr>\n",
       "      <th>22</th>\n",
       "      <td>666337882303524864</td>\n",
       "      <td>https://pbs.twimg.com/media/CT9OwFIWEAMuRje.jpg</td>\n",
       "      <td>1</td>\n",
       "      <td>ox</td>\n",
       "      <td>0.416669</td>\n",
       "      <td>False</td>\n",
       "      <td>Newfoundland</td>\n",
       "      <td>0.278407</td>\n",
       "      <td>True</td>\n",
       "      <td>groenendael</td>\n",
       "      <td>0.102643</td>\n",
       "      <td>True</td>\n",
       "    </tr>\n",
       "    <tr>\n",
       "      <th>23</th>\n",
       "      <td>666345417576210432</td>\n",
       "      <td>https://pbs.twimg.com/media/CT9Vn7PWoAA_ZCM.jpg</td>\n",
       "      <td>1</td>\n",
       "      <td>golden_retriever</td>\n",
       "      <td>0.858744</td>\n",
       "      <td>True</td>\n",
       "      <td>Chesapeake_Bay_retriever</td>\n",
       "      <td>0.054787</td>\n",
       "      <td>True</td>\n",
       "      <td>Labrador_retriever</td>\n",
       "      <td>0.014241</td>\n",
       "      <td>True</td>\n",
       "    </tr>\n",
       "    <tr>\n",
       "      <th>24</th>\n",
       "      <td>666353288456101888</td>\n",
       "      <td>https://pbs.twimg.com/media/CT9cx0tUEAAhNN_.jpg</td>\n",
       "      <td>1</td>\n",
       "      <td>malamute</td>\n",
       "      <td>0.336874</td>\n",
       "      <td>True</td>\n",
       "      <td>Siberian_husky</td>\n",
       "      <td>0.147655</td>\n",
       "      <td>True</td>\n",
       "      <td>Eskimo_dog</td>\n",
       "      <td>0.093412</td>\n",
       "      <td>True</td>\n",
       "    </tr>\n",
       "    <tr>\n",
       "      <th>25</th>\n",
       "      <td>666362758909284353</td>\n",
       "      <td>https://pbs.twimg.com/media/CT9lXGsUcAAyUFt.jpg</td>\n",
       "      <td>1</td>\n",
       "      <td>guinea_pig</td>\n",
       "      <td>0.996496</td>\n",
       "      <td>False</td>\n",
       "      <td>skunk</td>\n",
       "      <td>0.002402</td>\n",
       "      <td>False</td>\n",
       "      <td>hamster</td>\n",
       "      <td>0.000461</td>\n",
       "      <td>False</td>\n",
       "    </tr>\n",
       "    <tr>\n",
       "      <th>26</th>\n",
       "      <td>666373753744588802</td>\n",
       "      <td>https://pbs.twimg.com/media/CT9vZEYWUAAlZ05.jpg</td>\n",
       "      <td>1</td>\n",
       "      <td>soft-coated_wheaten_terrier</td>\n",
       "      <td>0.326467</td>\n",
       "      <td>True</td>\n",
       "      <td>Afghan_hound</td>\n",
       "      <td>0.259551</td>\n",
       "      <td>True</td>\n",
       "      <td>briard</td>\n",
       "      <td>0.206803</td>\n",
       "      <td>True</td>\n",
       "    </tr>\n",
       "    <tr>\n",
       "      <th>27</th>\n",
       "      <td>666396247373291520</td>\n",
       "      <td>https://pbs.twimg.com/media/CT-D2ZHWIAA3gK1.jpg</td>\n",
       "      <td>1</td>\n",
       "      <td>Chihuahua</td>\n",
       "      <td>0.978108</td>\n",
       "      <td>True</td>\n",
       "      <td>toy_terrier</td>\n",
       "      <td>0.009397</td>\n",
       "      <td>True</td>\n",
       "      <td>papillon</td>\n",
       "      <td>0.004577</td>\n",
       "      <td>True</td>\n",
       "    </tr>\n",
       "    <tr>\n",
       "      <th>28</th>\n",
       "      <td>666407126856765440</td>\n",
       "      <td>https://pbs.twimg.com/media/CT-NvwmW4AAugGZ.jpg</td>\n",
       "      <td>1</td>\n",
       "      <td>black-and-tan_coonhound</td>\n",
       "      <td>0.529139</td>\n",
       "      <td>True</td>\n",
       "      <td>bloodhound</td>\n",
       "      <td>0.244220</td>\n",
       "      <td>True</td>\n",
       "      <td>flat-coated_retriever</td>\n",
       "      <td>0.173810</td>\n",
       "      <td>True</td>\n",
       "    </tr>\n",
       "    <tr>\n",
       "      <th>29</th>\n",
       "      <td>666411507551481857</td>\n",
       "      <td>https://pbs.twimg.com/media/CT-RugiWIAELEaq.jpg</td>\n",
       "      <td>1</td>\n",
       "      <td>coho</td>\n",
       "      <td>0.404640</td>\n",
       "      <td>False</td>\n",
       "      <td>barracouta</td>\n",
       "      <td>0.271485</td>\n",
       "      <td>False</td>\n",
       "      <td>gar</td>\n",
       "      <td>0.189945</td>\n",
       "      <td>False</td>\n",
       "    </tr>\n",
       "    <tr>\n",
       "      <th>...</th>\n",
       "      <td>...</td>\n",
       "      <td>...</td>\n",
       "      <td>...</td>\n",
       "      <td>...</td>\n",
       "      <td>...</td>\n",
       "      <td>...</td>\n",
       "      <td>...</td>\n",
       "      <td>...</td>\n",
       "      <td>...</td>\n",
       "      <td>...</td>\n",
       "      <td>...</td>\n",
       "      <td>...</td>\n",
       "    </tr>\n",
       "    <tr>\n",
       "      <th>2045</th>\n",
       "      <td>886366144734445568</td>\n",
       "      <td>https://pbs.twimg.com/media/DE0BTnQUwAApKEH.jpg</td>\n",
       "      <td>1</td>\n",
       "      <td>French_bulldog</td>\n",
       "      <td>0.999201</td>\n",
       "      <td>True</td>\n",
       "      <td>Chihuahua</td>\n",
       "      <td>0.000361</td>\n",
       "      <td>True</td>\n",
       "      <td>Boston_bull</td>\n",
       "      <td>0.000076</td>\n",
       "      <td>True</td>\n",
       "    </tr>\n",
       "    <tr>\n",
       "      <th>2046</th>\n",
       "      <td>886680336477933568</td>\n",
       "      <td>https://pbs.twimg.com/media/DE4fEDzWAAAyHMM.jpg</td>\n",
       "      <td>1</td>\n",
       "      <td>convertible</td>\n",
       "      <td>0.738995</td>\n",
       "      <td>False</td>\n",
       "      <td>sports_car</td>\n",
       "      <td>0.139952</td>\n",
       "      <td>False</td>\n",
       "      <td>car_wheel</td>\n",
       "      <td>0.044173</td>\n",
       "      <td>False</td>\n",
       "    </tr>\n",
       "    <tr>\n",
       "      <th>2047</th>\n",
       "      <td>886736880519319552</td>\n",
       "      <td>https://pbs.twimg.com/media/DE5Se8FXcAAJFx4.jpg</td>\n",
       "      <td>1</td>\n",
       "      <td>kuvasz</td>\n",
       "      <td>0.309706</td>\n",
       "      <td>True</td>\n",
       "      <td>Great_Pyrenees</td>\n",
       "      <td>0.186136</td>\n",
       "      <td>True</td>\n",
       "      <td>Dandie_Dinmont</td>\n",
       "      <td>0.086346</td>\n",
       "      <td>True</td>\n",
       "    </tr>\n",
       "    <tr>\n",
       "      <th>2048</th>\n",
       "      <td>886983233522544640</td>\n",
       "      <td>https://pbs.twimg.com/media/DE8yicJW0AAAvBJ.jpg</td>\n",
       "      <td>2</td>\n",
       "      <td>Chihuahua</td>\n",
       "      <td>0.793469</td>\n",
       "      <td>True</td>\n",
       "      <td>toy_terrier</td>\n",
       "      <td>0.143528</td>\n",
       "      <td>True</td>\n",
       "      <td>can_opener</td>\n",
       "      <td>0.032253</td>\n",
       "      <td>False</td>\n",
       "    </tr>\n",
       "    <tr>\n",
       "      <th>2049</th>\n",
       "      <td>887101392804085760</td>\n",
       "      <td>https://pbs.twimg.com/media/DE-eAq6UwAA-jaE.jpg</td>\n",
       "      <td>1</td>\n",
       "      <td>Samoyed</td>\n",
       "      <td>0.733942</td>\n",
       "      <td>True</td>\n",
       "      <td>Eskimo_dog</td>\n",
       "      <td>0.035029</td>\n",
       "      <td>True</td>\n",
       "      <td>Staffordshire_bullterrier</td>\n",
       "      <td>0.029705</td>\n",
       "      <td>True</td>\n",
       "    </tr>\n",
       "    <tr>\n",
       "      <th>2050</th>\n",
       "      <td>887343217045368832</td>\n",
       "      <td>https://pbs.twimg.com/ext_tw_video_thumb/88734...</td>\n",
       "      <td>1</td>\n",
       "      <td>Mexican_hairless</td>\n",
       "      <td>0.330741</td>\n",
       "      <td>True</td>\n",
       "      <td>sea_lion</td>\n",
       "      <td>0.275645</td>\n",
       "      <td>False</td>\n",
       "      <td>Weimaraner</td>\n",
       "      <td>0.134203</td>\n",
       "      <td>True</td>\n",
       "    </tr>\n",
       "    <tr>\n",
       "      <th>2051</th>\n",
       "      <td>887473957103951883</td>\n",
       "      <td>https://pbs.twimg.com/media/DFDw2tyUQAAAFke.jpg</td>\n",
       "      <td>2</td>\n",
       "      <td>Pembroke</td>\n",
       "      <td>0.809197</td>\n",
       "      <td>True</td>\n",
       "      <td>Rhodesian_ridgeback</td>\n",
       "      <td>0.054950</td>\n",
       "      <td>True</td>\n",
       "      <td>beagle</td>\n",
       "      <td>0.038915</td>\n",
       "      <td>True</td>\n",
       "    </tr>\n",
       "    <tr>\n",
       "      <th>2052</th>\n",
       "      <td>887517139158093824</td>\n",
       "      <td>https://pbs.twimg.com/ext_tw_video_thumb/88751...</td>\n",
       "      <td>1</td>\n",
       "      <td>limousine</td>\n",
       "      <td>0.130432</td>\n",
       "      <td>False</td>\n",
       "      <td>tow_truck</td>\n",
       "      <td>0.029175</td>\n",
       "      <td>False</td>\n",
       "      <td>shopping_cart</td>\n",
       "      <td>0.026321</td>\n",
       "      <td>False</td>\n",
       "    </tr>\n",
       "    <tr>\n",
       "      <th>2053</th>\n",
       "      <td>887705289381826560</td>\n",
       "      <td>https://pbs.twimg.com/media/DFHDQBbXgAEqY7t.jpg</td>\n",
       "      <td>1</td>\n",
       "      <td>basset</td>\n",
       "      <td>0.821664</td>\n",
       "      <td>True</td>\n",
       "      <td>redbone</td>\n",
       "      <td>0.087582</td>\n",
       "      <td>True</td>\n",
       "      <td>Weimaraner</td>\n",
       "      <td>0.026236</td>\n",
       "      <td>True</td>\n",
       "    </tr>\n",
       "    <tr>\n",
       "      <th>2054</th>\n",
       "      <td>888078434458587136</td>\n",
       "      <td>https://pbs.twimg.com/media/DFMWn56WsAAkA7B.jpg</td>\n",
       "      <td>1</td>\n",
       "      <td>French_bulldog</td>\n",
       "      <td>0.995026</td>\n",
       "      <td>True</td>\n",
       "      <td>pug</td>\n",
       "      <td>0.000932</td>\n",
       "      <td>True</td>\n",
       "      <td>bull_mastiff</td>\n",
       "      <td>0.000903</td>\n",
       "      <td>True</td>\n",
       "    </tr>\n",
       "    <tr>\n",
       "      <th>2055</th>\n",
       "      <td>888202515573088257</td>\n",
       "      <td>https://pbs.twimg.com/media/DFDw2tyUQAAAFke.jpg</td>\n",
       "      <td>2</td>\n",
       "      <td>Pembroke</td>\n",
       "      <td>0.809197</td>\n",
       "      <td>True</td>\n",
       "      <td>Rhodesian_ridgeback</td>\n",
       "      <td>0.054950</td>\n",
       "      <td>True</td>\n",
       "      <td>beagle</td>\n",
       "      <td>0.038915</td>\n",
       "      <td>True</td>\n",
       "    </tr>\n",
       "    <tr>\n",
       "      <th>2056</th>\n",
       "      <td>888554962724278272</td>\n",
       "      <td>https://pbs.twimg.com/media/DFTH_O-UQAACu20.jpg</td>\n",
       "      <td>3</td>\n",
       "      <td>Siberian_husky</td>\n",
       "      <td>0.700377</td>\n",
       "      <td>True</td>\n",
       "      <td>Eskimo_dog</td>\n",
       "      <td>0.166511</td>\n",
       "      <td>True</td>\n",
       "      <td>malamute</td>\n",
       "      <td>0.111411</td>\n",
       "      <td>True</td>\n",
       "    </tr>\n",
       "    <tr>\n",
       "      <th>2057</th>\n",
       "      <td>888804989199671297</td>\n",
       "      <td>https://pbs.twimg.com/media/DFWra-3VYAA2piG.jpg</td>\n",
       "      <td>1</td>\n",
       "      <td>golden_retriever</td>\n",
       "      <td>0.469760</td>\n",
       "      <td>True</td>\n",
       "      <td>Labrador_retriever</td>\n",
       "      <td>0.184172</td>\n",
       "      <td>True</td>\n",
       "      <td>English_setter</td>\n",
       "      <td>0.073482</td>\n",
       "      <td>True</td>\n",
       "    </tr>\n",
       "    <tr>\n",
       "      <th>2058</th>\n",
       "      <td>888917238123831296</td>\n",
       "      <td>https://pbs.twimg.com/media/DFYRgsOUQAARGhO.jpg</td>\n",
       "      <td>1</td>\n",
       "      <td>golden_retriever</td>\n",
       "      <td>0.714719</td>\n",
       "      <td>True</td>\n",
       "      <td>Tibetan_mastiff</td>\n",
       "      <td>0.120184</td>\n",
       "      <td>True</td>\n",
       "      <td>Labrador_retriever</td>\n",
       "      <td>0.105506</td>\n",
       "      <td>True</td>\n",
       "    </tr>\n",
       "    <tr>\n",
       "      <th>2059</th>\n",
       "      <td>889278841981685760</td>\n",
       "      <td>https://pbs.twimg.com/ext_tw_video_thumb/88927...</td>\n",
       "      <td>1</td>\n",
       "      <td>whippet</td>\n",
       "      <td>0.626152</td>\n",
       "      <td>True</td>\n",
       "      <td>borzoi</td>\n",
       "      <td>0.194742</td>\n",
       "      <td>True</td>\n",
       "      <td>Saluki</td>\n",
       "      <td>0.027351</td>\n",
       "      <td>True</td>\n",
       "    </tr>\n",
       "    <tr>\n",
       "      <th>2060</th>\n",
       "      <td>889531135344209921</td>\n",
       "      <td>https://pbs.twimg.com/media/DFg_2PVW0AEHN3p.jpg</td>\n",
       "      <td>1</td>\n",
       "      <td>golden_retriever</td>\n",
       "      <td>0.953442</td>\n",
       "      <td>True</td>\n",
       "      <td>Labrador_retriever</td>\n",
       "      <td>0.013834</td>\n",
       "      <td>True</td>\n",
       "      <td>redbone</td>\n",
       "      <td>0.007958</td>\n",
       "      <td>True</td>\n",
       "    </tr>\n",
       "    <tr>\n",
       "      <th>2061</th>\n",
       "      <td>889638837579907072</td>\n",
       "      <td>https://pbs.twimg.com/media/DFihzFfXsAYGDPR.jpg</td>\n",
       "      <td>1</td>\n",
       "      <td>French_bulldog</td>\n",
       "      <td>0.991650</td>\n",
       "      <td>True</td>\n",
       "      <td>boxer</td>\n",
       "      <td>0.002129</td>\n",
       "      <td>True</td>\n",
       "      <td>Staffordshire_bullterrier</td>\n",
       "      <td>0.001498</td>\n",
       "      <td>True</td>\n",
       "    </tr>\n",
       "    <tr>\n",
       "      <th>2062</th>\n",
       "      <td>889665388333682689</td>\n",
       "      <td>https://pbs.twimg.com/media/DFi579UWsAAatzw.jpg</td>\n",
       "      <td>1</td>\n",
       "      <td>Pembroke</td>\n",
       "      <td>0.966327</td>\n",
       "      <td>True</td>\n",
       "      <td>Cardigan</td>\n",
       "      <td>0.027356</td>\n",
       "      <td>True</td>\n",
       "      <td>basenji</td>\n",
       "      <td>0.004633</td>\n",
       "      <td>True</td>\n",
       "    </tr>\n",
       "    <tr>\n",
       "      <th>2063</th>\n",
       "      <td>889880896479866881</td>\n",
       "      <td>https://pbs.twimg.com/media/DFl99B1WsAITKsg.jpg</td>\n",
       "      <td>1</td>\n",
       "      <td>French_bulldog</td>\n",
       "      <td>0.377417</td>\n",
       "      <td>True</td>\n",
       "      <td>Labrador_retriever</td>\n",
       "      <td>0.151317</td>\n",
       "      <td>True</td>\n",
       "      <td>muzzle</td>\n",
       "      <td>0.082981</td>\n",
       "      <td>False</td>\n",
       "    </tr>\n",
       "    <tr>\n",
       "      <th>2064</th>\n",
       "      <td>890006608113172480</td>\n",
       "      <td>https://pbs.twimg.com/media/DFnwSY4WAAAMliS.jpg</td>\n",
       "      <td>1</td>\n",
       "      <td>Samoyed</td>\n",
       "      <td>0.957979</td>\n",
       "      <td>True</td>\n",
       "      <td>Pomeranian</td>\n",
       "      <td>0.013884</td>\n",
       "      <td>True</td>\n",
       "      <td>chow</td>\n",
       "      <td>0.008167</td>\n",
       "      <td>True</td>\n",
       "    </tr>\n",
       "    <tr>\n",
       "      <th>2065</th>\n",
       "      <td>890240255349198849</td>\n",
       "      <td>https://pbs.twimg.com/media/DFrEyVuW0AAO3t9.jpg</td>\n",
       "      <td>1</td>\n",
       "      <td>Pembroke</td>\n",
       "      <td>0.511319</td>\n",
       "      <td>True</td>\n",
       "      <td>Cardigan</td>\n",
       "      <td>0.451038</td>\n",
       "      <td>True</td>\n",
       "      <td>Chihuahua</td>\n",
       "      <td>0.029248</td>\n",
       "      <td>True</td>\n",
       "    </tr>\n",
       "    <tr>\n",
       "      <th>2066</th>\n",
       "      <td>890609185150312448</td>\n",
       "      <td>https://pbs.twimg.com/media/DFwUU__XcAEpyXI.jpg</td>\n",
       "      <td>1</td>\n",
       "      <td>Irish_terrier</td>\n",
       "      <td>0.487574</td>\n",
       "      <td>True</td>\n",
       "      <td>Irish_setter</td>\n",
       "      <td>0.193054</td>\n",
       "      <td>True</td>\n",
       "      <td>Chesapeake_Bay_retriever</td>\n",
       "      <td>0.118184</td>\n",
       "      <td>True</td>\n",
       "    </tr>\n",
       "    <tr>\n",
       "      <th>2067</th>\n",
       "      <td>890729181411237888</td>\n",
       "      <td>https://pbs.twimg.com/media/DFyBahAVwAAhUTd.jpg</td>\n",
       "      <td>2</td>\n",
       "      <td>Pomeranian</td>\n",
       "      <td>0.566142</td>\n",
       "      <td>True</td>\n",
       "      <td>Eskimo_dog</td>\n",
       "      <td>0.178406</td>\n",
       "      <td>True</td>\n",
       "      <td>Pembroke</td>\n",
       "      <td>0.076507</td>\n",
       "      <td>True</td>\n",
       "    </tr>\n",
       "    <tr>\n",
       "      <th>2068</th>\n",
       "      <td>890971913173991426</td>\n",
       "      <td>https://pbs.twimg.com/media/DF1eOmZXUAALUcq.jpg</td>\n",
       "      <td>1</td>\n",
       "      <td>Appenzeller</td>\n",
       "      <td>0.341703</td>\n",
       "      <td>True</td>\n",
       "      <td>Border_collie</td>\n",
       "      <td>0.199287</td>\n",
       "      <td>True</td>\n",
       "      <td>ice_lolly</td>\n",
       "      <td>0.193548</td>\n",
       "      <td>False</td>\n",
       "    </tr>\n",
       "    <tr>\n",
       "      <th>2069</th>\n",
       "      <td>891087950875897856</td>\n",
       "      <td>https://pbs.twimg.com/media/DF3HwyEWsAABqE6.jpg</td>\n",
       "      <td>1</td>\n",
       "      <td>Chesapeake_Bay_retriever</td>\n",
       "      <td>0.425595</td>\n",
       "      <td>True</td>\n",
       "      <td>Irish_terrier</td>\n",
       "      <td>0.116317</td>\n",
       "      <td>True</td>\n",
       "      <td>Indian_elephant</td>\n",
       "      <td>0.076902</td>\n",
       "      <td>False</td>\n",
       "    </tr>\n",
       "    <tr>\n",
       "      <th>2070</th>\n",
       "      <td>891327558926688256</td>\n",
       "      <td>https://pbs.twimg.com/media/DF6hr6BUMAAzZgT.jpg</td>\n",
       "      <td>2</td>\n",
       "      <td>basset</td>\n",
       "      <td>0.555712</td>\n",
       "      <td>True</td>\n",
       "      <td>English_springer</td>\n",
       "      <td>0.225770</td>\n",
       "      <td>True</td>\n",
       "      <td>German_short-haired_pointer</td>\n",
       "      <td>0.175219</td>\n",
       "      <td>True</td>\n",
       "    </tr>\n",
       "    <tr>\n",
       "      <th>2071</th>\n",
       "      <td>891689557279858688</td>\n",
       "      <td>https://pbs.twimg.com/media/DF_q7IAWsAEuuN8.jpg</td>\n",
       "      <td>1</td>\n",
       "      <td>paper_towel</td>\n",
       "      <td>0.170278</td>\n",
       "      <td>False</td>\n",
       "      <td>Labrador_retriever</td>\n",
       "      <td>0.168086</td>\n",
       "      <td>True</td>\n",
       "      <td>spatula</td>\n",
       "      <td>0.040836</td>\n",
       "      <td>False</td>\n",
       "    </tr>\n",
       "    <tr>\n",
       "      <th>2072</th>\n",
       "      <td>891815181378084864</td>\n",
       "      <td>https://pbs.twimg.com/media/DGBdLU1WsAANxJ9.jpg</td>\n",
       "      <td>1</td>\n",
       "      <td>Chihuahua</td>\n",
       "      <td>0.716012</td>\n",
       "      <td>True</td>\n",
       "      <td>malamute</td>\n",
       "      <td>0.078253</td>\n",
       "      <td>True</td>\n",
       "      <td>kelpie</td>\n",
       "      <td>0.031379</td>\n",
       "      <td>True</td>\n",
       "    </tr>\n",
       "    <tr>\n",
       "      <th>2073</th>\n",
       "      <td>892177421306343426</td>\n",
       "      <td>https://pbs.twimg.com/media/DGGmoV4XsAAUL6n.jpg</td>\n",
       "      <td>1</td>\n",
       "      <td>Chihuahua</td>\n",
       "      <td>0.323581</td>\n",
       "      <td>True</td>\n",
       "      <td>Pekinese</td>\n",
       "      <td>0.090647</td>\n",
       "      <td>True</td>\n",
       "      <td>papillon</td>\n",
       "      <td>0.068957</td>\n",
       "      <td>True</td>\n",
       "    </tr>\n",
       "    <tr>\n",
       "      <th>2074</th>\n",
       "      <td>892420643555336193</td>\n",
       "      <td>https://pbs.twimg.com/media/DGKD1-bXoAAIAUK.jpg</td>\n",
       "      <td>1</td>\n",
       "      <td>orange</td>\n",
       "      <td>0.097049</td>\n",
       "      <td>False</td>\n",
       "      <td>bagel</td>\n",
       "      <td>0.085851</td>\n",
       "      <td>False</td>\n",
       "      <td>banana</td>\n",
       "      <td>0.076110</td>\n",
       "      <td>False</td>\n",
       "    </tr>\n",
       "  </tbody>\n",
       "</table>\n",
       "<p>2075 rows × 12 columns</p>\n",
       "</div>"
      ],
      "text/plain": [
       "                tweet_id                                            jpg_url  \\\n",
       "0     666020888022790149    https://pbs.twimg.com/media/CT4udn0WwAA0aMy.jpg   \n",
       "1     666029285002620928    https://pbs.twimg.com/media/CT42GRgUYAA5iDo.jpg   \n",
       "2     666033412701032449    https://pbs.twimg.com/media/CT4521TWwAEvMyu.jpg   \n",
       "3     666044226329800704    https://pbs.twimg.com/media/CT5Dr8HUEAA-lEu.jpg   \n",
       "4     666049248165822465    https://pbs.twimg.com/media/CT5IQmsXIAAKY4A.jpg   \n",
       "5     666050758794694657    https://pbs.twimg.com/media/CT5Jof1WUAEuVxN.jpg   \n",
       "6     666051853826850816    https://pbs.twimg.com/media/CT5KoJ1WoAAJash.jpg   \n",
       "7     666055525042405380    https://pbs.twimg.com/media/CT5N9tpXIAAifs1.jpg   \n",
       "8     666057090499244032    https://pbs.twimg.com/media/CT5PY90WoAAQGLo.jpg   \n",
       "9     666058600524156928    https://pbs.twimg.com/media/CT5Qw94XAAA_2dP.jpg   \n",
       "10    666063827256086533    https://pbs.twimg.com/media/CT5Vg_wXIAAXfnj.jpg   \n",
       "11    666071193221509120    https://pbs.twimg.com/media/CT5cN_3WEAAlOoZ.jpg   \n",
       "12    666073100786774016    https://pbs.twimg.com/media/CT5d9DZXAAALcwe.jpg   \n",
       "13    666082916733198337    https://pbs.twimg.com/media/CT5m4VGWEAAtKc8.jpg   \n",
       "14    666094000022159362    https://pbs.twimg.com/media/CT5w9gUW4AAsBNN.jpg   \n",
       "15    666099513787052032    https://pbs.twimg.com/media/CT51-JJUEAA6hV8.jpg   \n",
       "16    666102155909144576    https://pbs.twimg.com/media/CT54YGiWUAEZnoK.jpg   \n",
       "17    666104133288665088    https://pbs.twimg.com/media/CT56LSZWoAAlJj2.jpg   \n",
       "18    666268910803644416    https://pbs.twimg.com/media/CT8QCd1WEAADXws.jpg   \n",
       "19    666273097616637952    https://pbs.twimg.com/media/CT8T1mtUwAA3aqm.jpg   \n",
       "20    666287406224695296    https://pbs.twimg.com/media/CT8g3BpUEAAuFjg.jpg   \n",
       "21    666293911632134144    https://pbs.twimg.com/media/CT8mx7KW4AEQu8N.jpg   \n",
       "22    666337882303524864    https://pbs.twimg.com/media/CT9OwFIWEAMuRje.jpg   \n",
       "23    666345417576210432    https://pbs.twimg.com/media/CT9Vn7PWoAA_ZCM.jpg   \n",
       "24    666353288456101888    https://pbs.twimg.com/media/CT9cx0tUEAAhNN_.jpg   \n",
       "25    666362758909284353    https://pbs.twimg.com/media/CT9lXGsUcAAyUFt.jpg   \n",
       "26    666373753744588802    https://pbs.twimg.com/media/CT9vZEYWUAAlZ05.jpg   \n",
       "27    666396247373291520    https://pbs.twimg.com/media/CT-D2ZHWIAA3gK1.jpg   \n",
       "28    666407126856765440    https://pbs.twimg.com/media/CT-NvwmW4AAugGZ.jpg   \n",
       "29    666411507551481857    https://pbs.twimg.com/media/CT-RugiWIAELEaq.jpg   \n",
       "...                  ...                                                ...   \n",
       "2045  886366144734445568    https://pbs.twimg.com/media/DE0BTnQUwAApKEH.jpg   \n",
       "2046  886680336477933568    https://pbs.twimg.com/media/DE4fEDzWAAAyHMM.jpg   \n",
       "2047  886736880519319552    https://pbs.twimg.com/media/DE5Se8FXcAAJFx4.jpg   \n",
       "2048  886983233522544640    https://pbs.twimg.com/media/DE8yicJW0AAAvBJ.jpg   \n",
       "2049  887101392804085760    https://pbs.twimg.com/media/DE-eAq6UwAA-jaE.jpg   \n",
       "2050  887343217045368832  https://pbs.twimg.com/ext_tw_video_thumb/88734...   \n",
       "2051  887473957103951883    https://pbs.twimg.com/media/DFDw2tyUQAAAFke.jpg   \n",
       "2052  887517139158093824  https://pbs.twimg.com/ext_tw_video_thumb/88751...   \n",
       "2053  887705289381826560    https://pbs.twimg.com/media/DFHDQBbXgAEqY7t.jpg   \n",
       "2054  888078434458587136    https://pbs.twimg.com/media/DFMWn56WsAAkA7B.jpg   \n",
       "2055  888202515573088257    https://pbs.twimg.com/media/DFDw2tyUQAAAFke.jpg   \n",
       "2056  888554962724278272    https://pbs.twimg.com/media/DFTH_O-UQAACu20.jpg   \n",
       "2057  888804989199671297    https://pbs.twimg.com/media/DFWra-3VYAA2piG.jpg   \n",
       "2058  888917238123831296    https://pbs.twimg.com/media/DFYRgsOUQAARGhO.jpg   \n",
       "2059  889278841981685760  https://pbs.twimg.com/ext_tw_video_thumb/88927...   \n",
       "2060  889531135344209921    https://pbs.twimg.com/media/DFg_2PVW0AEHN3p.jpg   \n",
       "2061  889638837579907072    https://pbs.twimg.com/media/DFihzFfXsAYGDPR.jpg   \n",
       "2062  889665388333682689    https://pbs.twimg.com/media/DFi579UWsAAatzw.jpg   \n",
       "2063  889880896479866881    https://pbs.twimg.com/media/DFl99B1WsAITKsg.jpg   \n",
       "2064  890006608113172480    https://pbs.twimg.com/media/DFnwSY4WAAAMliS.jpg   \n",
       "2065  890240255349198849    https://pbs.twimg.com/media/DFrEyVuW0AAO3t9.jpg   \n",
       "2066  890609185150312448    https://pbs.twimg.com/media/DFwUU__XcAEpyXI.jpg   \n",
       "2067  890729181411237888    https://pbs.twimg.com/media/DFyBahAVwAAhUTd.jpg   \n",
       "2068  890971913173991426    https://pbs.twimg.com/media/DF1eOmZXUAALUcq.jpg   \n",
       "2069  891087950875897856    https://pbs.twimg.com/media/DF3HwyEWsAABqE6.jpg   \n",
       "2070  891327558926688256    https://pbs.twimg.com/media/DF6hr6BUMAAzZgT.jpg   \n",
       "2071  891689557279858688    https://pbs.twimg.com/media/DF_q7IAWsAEuuN8.jpg   \n",
       "2072  891815181378084864    https://pbs.twimg.com/media/DGBdLU1WsAANxJ9.jpg   \n",
       "2073  892177421306343426    https://pbs.twimg.com/media/DGGmoV4XsAAUL6n.jpg   \n",
       "2074  892420643555336193    https://pbs.twimg.com/media/DGKD1-bXoAAIAUK.jpg   \n",
       "\n",
       "      img_num                           p1   p1_conf  p1_dog  \\\n",
       "0           1       Welsh_springer_spaniel  0.465074    True   \n",
       "1           1                      redbone  0.506826    True   \n",
       "2           1              German_shepherd  0.596461    True   \n",
       "3           1          Rhodesian_ridgeback  0.408143    True   \n",
       "4           1           miniature_pinscher  0.560311    True   \n",
       "5           1         Bernese_mountain_dog  0.651137    True   \n",
       "6           1                   box_turtle  0.933012   False   \n",
       "7           1                         chow  0.692517    True   \n",
       "8           1                shopping_cart  0.962465   False   \n",
       "9           1             miniature_poodle  0.201493    True   \n",
       "10          1             golden_retriever  0.775930    True   \n",
       "11          1                Gordon_setter  0.503672    True   \n",
       "12          1                 Walker_hound  0.260857    True   \n",
       "13          1                          pug  0.489814    True   \n",
       "14          1                   bloodhound  0.195217    True   \n",
       "15          1                        Lhasa  0.582330    True   \n",
       "16          1               English_setter  0.298617    True   \n",
       "17          1                          hen  0.965932   False   \n",
       "18          1             desktop_computer  0.086502   False   \n",
       "19          1            Italian_greyhound  0.176053    True   \n",
       "20          1                  Maltese_dog  0.857531    True   \n",
       "21          1             three-toed_sloth  0.914671   False   \n",
       "22          1                           ox  0.416669   False   \n",
       "23          1             golden_retriever  0.858744    True   \n",
       "24          1                     malamute  0.336874    True   \n",
       "25          1                   guinea_pig  0.996496   False   \n",
       "26          1  soft-coated_wheaten_terrier  0.326467    True   \n",
       "27          1                    Chihuahua  0.978108    True   \n",
       "28          1      black-and-tan_coonhound  0.529139    True   \n",
       "29          1                         coho  0.404640   False   \n",
       "...       ...                          ...       ...     ...   \n",
       "2045        1               French_bulldog  0.999201    True   \n",
       "2046        1                  convertible  0.738995   False   \n",
       "2047        1                       kuvasz  0.309706    True   \n",
       "2048        2                    Chihuahua  0.793469    True   \n",
       "2049        1                      Samoyed  0.733942    True   \n",
       "2050        1             Mexican_hairless  0.330741    True   \n",
       "2051        2                     Pembroke  0.809197    True   \n",
       "2052        1                    limousine  0.130432   False   \n",
       "2053        1                       basset  0.821664    True   \n",
       "2054        1               French_bulldog  0.995026    True   \n",
       "2055        2                     Pembroke  0.809197    True   \n",
       "2056        3               Siberian_husky  0.700377    True   \n",
       "2057        1             golden_retriever  0.469760    True   \n",
       "2058        1             golden_retriever  0.714719    True   \n",
       "2059        1                      whippet  0.626152    True   \n",
       "2060        1             golden_retriever  0.953442    True   \n",
       "2061        1               French_bulldog  0.991650    True   \n",
       "2062        1                     Pembroke  0.966327    True   \n",
       "2063        1               French_bulldog  0.377417    True   \n",
       "2064        1                      Samoyed  0.957979    True   \n",
       "2065        1                     Pembroke  0.511319    True   \n",
       "2066        1                Irish_terrier  0.487574    True   \n",
       "2067        2                   Pomeranian  0.566142    True   \n",
       "2068        1                  Appenzeller  0.341703    True   \n",
       "2069        1     Chesapeake_Bay_retriever  0.425595    True   \n",
       "2070        2                       basset  0.555712    True   \n",
       "2071        1                  paper_towel  0.170278   False   \n",
       "2072        1                    Chihuahua  0.716012    True   \n",
       "2073        1                    Chihuahua  0.323581    True   \n",
       "2074        1                       orange  0.097049   False   \n",
       "\n",
       "                            p2   p2_conf  p2_dog                           p3  \\\n",
       "0                       collie  0.156665    True            Shetland_sheepdog   \n",
       "1           miniature_pinscher  0.074192    True          Rhodesian_ridgeback   \n",
       "2                     malinois  0.138584    True                   bloodhound   \n",
       "3                      redbone  0.360687    True           miniature_pinscher   \n",
       "4                   Rottweiler  0.243682    True                     Doberman   \n",
       "5             English_springer  0.263788    True   Greater_Swiss_Mountain_dog   \n",
       "6                   mud_turtle  0.045885   False                     terrapin   \n",
       "7              Tibetan_mastiff  0.058279    True                     fur_coat   \n",
       "8              shopping_basket  0.014594   False             golden_retriever   \n",
       "9                     komondor  0.192305    True  soft-coated_wheaten_terrier   \n",
       "10             Tibetan_mastiff  0.093718    True           Labrador_retriever   \n",
       "11           Yorkshire_terrier  0.174201    True                     Pekinese   \n",
       "12            English_foxhound  0.175382    True                 Ibizan_hound   \n",
       "13                bull_mastiff  0.404722    True               French_bulldog   \n",
       "14             German_shepherd  0.078260    True                     malinois   \n",
       "15                    Shih-Tzu  0.166192    True               Dandie_Dinmont   \n",
       "16                Newfoundland  0.149842    True                       borzoi   \n",
       "17                        cock  0.033919   False                    partridge   \n",
       "18                        desk  0.085547   False                     bookcase   \n",
       "19                 toy_terrier  0.111884    True                      basenji   \n",
       "20                  toy_poodle  0.063064    True             miniature_poodle   \n",
       "21                       otter  0.015250   False               great_grey_owl   \n",
       "22                Newfoundland  0.278407    True                  groenendael   \n",
       "23    Chesapeake_Bay_retriever  0.054787    True           Labrador_retriever   \n",
       "24              Siberian_husky  0.147655    True                   Eskimo_dog   \n",
       "25                       skunk  0.002402   False                      hamster   \n",
       "26                Afghan_hound  0.259551    True                       briard   \n",
       "27                 toy_terrier  0.009397    True                     papillon   \n",
       "28                  bloodhound  0.244220    True        flat-coated_retriever   \n",
       "29                  barracouta  0.271485   False                          gar   \n",
       "...                        ...       ...     ...                          ...   \n",
       "2045                 Chihuahua  0.000361    True                  Boston_bull   \n",
       "2046                sports_car  0.139952   False                    car_wheel   \n",
       "2047            Great_Pyrenees  0.186136    True               Dandie_Dinmont   \n",
       "2048               toy_terrier  0.143528    True                   can_opener   \n",
       "2049                Eskimo_dog  0.035029    True    Staffordshire_bullterrier   \n",
       "2050                  sea_lion  0.275645   False                   Weimaraner   \n",
       "2051       Rhodesian_ridgeback  0.054950    True                       beagle   \n",
       "2052                 tow_truck  0.029175   False                shopping_cart   \n",
       "2053                   redbone  0.087582    True                   Weimaraner   \n",
       "2054                       pug  0.000932    True                 bull_mastiff   \n",
       "2055       Rhodesian_ridgeback  0.054950    True                       beagle   \n",
       "2056                Eskimo_dog  0.166511    True                     malamute   \n",
       "2057        Labrador_retriever  0.184172    True               English_setter   \n",
       "2058           Tibetan_mastiff  0.120184    True           Labrador_retriever   \n",
       "2059                    borzoi  0.194742    True                       Saluki   \n",
       "2060        Labrador_retriever  0.013834    True                      redbone   \n",
       "2061                     boxer  0.002129    True    Staffordshire_bullterrier   \n",
       "2062                  Cardigan  0.027356    True                      basenji   \n",
       "2063        Labrador_retriever  0.151317    True                       muzzle   \n",
       "2064                Pomeranian  0.013884    True                         chow   \n",
       "2065                  Cardigan  0.451038    True                    Chihuahua   \n",
       "2066              Irish_setter  0.193054    True     Chesapeake_Bay_retriever   \n",
       "2067                Eskimo_dog  0.178406    True                     Pembroke   \n",
       "2068             Border_collie  0.199287    True                    ice_lolly   \n",
       "2069             Irish_terrier  0.116317    True              Indian_elephant   \n",
       "2070          English_springer  0.225770    True  German_short-haired_pointer   \n",
       "2071        Labrador_retriever  0.168086    True                      spatula   \n",
       "2072                  malamute  0.078253    True                       kelpie   \n",
       "2073                  Pekinese  0.090647    True                     papillon   \n",
       "2074                     bagel  0.085851   False                       banana   \n",
       "\n",
       "       p3_conf  p3_dog  \n",
       "0     0.061428    True  \n",
       "1     0.072010    True  \n",
       "2     0.116197    True  \n",
       "3     0.222752    True  \n",
       "4     0.154629    True  \n",
       "5     0.016199    True  \n",
       "6     0.017885   False  \n",
       "7     0.054449   False  \n",
       "8     0.007959    True  \n",
       "9     0.082086    True  \n",
       "10    0.072427    True  \n",
       "11    0.109454    True  \n",
       "12    0.097471    True  \n",
       "13    0.048960    True  \n",
       "14    0.075628    True  \n",
       "15    0.089688    True  \n",
       "16    0.133649    True  \n",
       "17    0.000052   False  \n",
       "18    0.079480   False  \n",
       "19    0.111152    True  \n",
       "20    0.025581    True  \n",
       "21    0.013207   False  \n",
       "22    0.102643    True  \n",
       "23    0.014241    True  \n",
       "24    0.093412    True  \n",
       "25    0.000461   False  \n",
       "26    0.206803    True  \n",
       "27    0.004577    True  \n",
       "28    0.173810    True  \n",
       "29    0.189945   False  \n",
       "...        ...     ...  \n",
       "2045  0.000076    True  \n",
       "2046  0.044173   False  \n",
       "2047  0.086346    True  \n",
       "2048  0.032253   False  \n",
       "2049  0.029705    True  \n",
       "2050  0.134203    True  \n",
       "2051  0.038915    True  \n",
       "2052  0.026321   False  \n",
       "2053  0.026236    True  \n",
       "2054  0.000903    True  \n",
       "2055  0.038915    True  \n",
       "2056  0.111411    True  \n",
       "2057  0.073482    True  \n",
       "2058  0.105506    True  \n",
       "2059  0.027351    True  \n",
       "2060  0.007958    True  \n",
       "2061  0.001498    True  \n",
       "2062  0.004633    True  \n",
       "2063  0.082981   False  \n",
       "2064  0.008167    True  \n",
       "2065  0.029248    True  \n",
       "2066  0.118184    True  \n",
       "2067  0.076507    True  \n",
       "2068  0.193548   False  \n",
       "2069  0.076902   False  \n",
       "2070  0.175219    True  \n",
       "2071  0.040836   False  \n",
       "2072  0.031379    True  \n",
       "2073  0.068957    True  \n",
       "2074  0.076110   False  \n",
       "\n",
       "[2075 rows x 12 columns]"
      ]
     },
     "execution_count": 14,
     "metadata": {},
     "output_type": "execute_result"
    }
   ],
   "source": [
    "df_pic "
   ]
  },
  {
   "cell_type": "markdown",
   "metadata": {},
   "source": [
    "#### 2.2.2 Image data frame information"
   ]
  },
  {
   "cell_type": "code",
   "execution_count": 15,
   "metadata": {},
   "outputs": [
    {
     "name": "stdout",
     "output_type": "stream",
     "text": [
      "<class 'pandas.core.frame.DataFrame'>\n",
      "RangeIndex: 2075 entries, 0 to 2074\n",
      "Data columns (total 12 columns):\n",
      "tweet_id    2075 non-null int64\n",
      "jpg_url     2075 non-null object\n",
      "img_num     2075 non-null int64\n",
      "p1          2075 non-null object\n",
      "p1_conf     2075 non-null float64\n",
      "p1_dog      2075 non-null bool\n",
      "p2          2075 non-null object\n",
      "p2_conf     2075 non-null float64\n",
      "p2_dog      2075 non-null bool\n",
      "p3          2075 non-null object\n",
      "p3_conf     2075 non-null float64\n",
      "p3_dog      2075 non-null bool\n",
      "dtypes: bool(3), float64(3), int64(2), object(4)\n",
      "memory usage: 152.1+ KB\n"
     ]
    }
   ],
   "source": [
    "df_pic.info()"
   ]
  },
  {
   "cell_type": "markdown",
   "metadata": {},
   "source": [
    "#### 2.2.3 Image data frame check for duplicated rows"
   ]
  },
  {
   "cell_type": "code",
   "execution_count": 16,
   "metadata": {},
   "outputs": [
    {
     "data": {
      "text/plain": [
       "0"
      ]
     },
     "execution_count": 16,
     "metadata": {},
     "output_type": "execute_result"
    }
   ],
   "source": [
    "df_pic.duplicated().sum()"
   ]
  },
  {
   "cell_type": "markdown",
   "metadata": {},
   "source": [
    "we have an issue with this picture its not for a real dog \n",
    "\t870063196459192321\thttps://pbs.twimg.com/media/DBMV3NnXUAAm0Pp.jpg\n"
   ]
  },
  {
   "cell_type": "markdown",
   "metadata": {},
   "source": [
    "### 2.3 API data frame "
   ]
  },
  {
   "cell_type": "markdown",
   "metadata": {},
   "source": [
    "#### 2.3.1 Displaying the Archive data frame "
   ]
  },
  {
   "cell_type": "code",
   "execution_count": 17,
   "metadata": {
    "scrolled": true
   },
   "outputs": [
    {
     "data": {
      "text/html": [
       "<div>\n",
       "<style scoped>\n",
       "    .dataframe tbody tr th:only-of-type {\n",
       "        vertical-align: middle;\n",
       "    }\n",
       "\n",
       "    .dataframe tbody tr th {\n",
       "        vertical-align: top;\n",
       "    }\n",
       "\n",
       "    .dataframe thead th {\n",
       "        text-align: right;\n",
       "    }\n",
       "</style>\n",
       "<table border=\"1\" class=\"dataframe\">\n",
       "  <thead>\n",
       "    <tr style=\"text-align: right;\">\n",
       "      <th></th>\n",
       "      <th>favorite_count</th>\n",
       "      <th>retweet_count</th>\n",
       "      <th>tweet_id</th>\n",
       "      <th>user_count</th>\n",
       "    </tr>\n",
       "  </thead>\n",
       "  <tbody>\n",
       "    <tr>\n",
       "      <th>0</th>\n",
       "      <td>35159</td>\n",
       "      <td>7428</td>\n",
       "      <td>892420643555336193</td>\n",
       "      <td>8941542</td>\n",
       "    </tr>\n",
       "    <tr>\n",
       "      <th>1</th>\n",
       "      <td>30444</td>\n",
       "      <td>5522</td>\n",
       "      <td>892177421306343426</td>\n",
       "      <td>8940951</td>\n",
       "    </tr>\n",
       "    <tr>\n",
       "      <th>2</th>\n",
       "      <td>22893</td>\n",
       "      <td>3646</td>\n",
       "      <td>891815181378084864</td>\n",
       "      <td>8940951</td>\n",
       "    </tr>\n",
       "    <tr>\n",
       "      <th>3</th>\n",
       "      <td>38475</td>\n",
       "      <td>7599</td>\n",
       "      <td>891689557279858688</td>\n",
       "      <td>8940951</td>\n",
       "    </tr>\n",
       "    <tr>\n",
       "      <th>4</th>\n",
       "      <td>36739</td>\n",
       "      <td>8181</td>\n",
       "      <td>891327558926688256</td>\n",
       "      <td>8940951</td>\n",
       "    </tr>\n",
       "    <tr>\n",
       "      <th>5</th>\n",
       "      <td>18513</td>\n",
       "      <td>2743</td>\n",
       "      <td>891087950875897856</td>\n",
       "      <td>8940951</td>\n",
       "    </tr>\n",
       "    <tr>\n",
       "      <th>6</th>\n",
       "      <td>10768</td>\n",
       "      <td>1774</td>\n",
       "      <td>890971913173991426</td>\n",
       "      <td>8940951</td>\n",
       "    </tr>\n",
       "    <tr>\n",
       "      <th>7</th>\n",
       "      <td>59250</td>\n",
       "      <td>16611</td>\n",
       "      <td>890729181411237888</td>\n",
       "      <td>8940951</td>\n",
       "    </tr>\n",
       "    <tr>\n",
       "      <th>8</th>\n",
       "      <td>25494</td>\n",
       "      <td>3792</td>\n",
       "      <td>890609185150312448</td>\n",
       "      <td>8940951</td>\n",
       "    </tr>\n",
       "    <tr>\n",
       "      <th>9</th>\n",
       "      <td>29083</td>\n",
       "      <td>6434</td>\n",
       "      <td>890240255349198849</td>\n",
       "      <td>8940951</td>\n",
       "    </tr>\n",
       "    <tr>\n",
       "      <th>10</th>\n",
       "      <td>28054</td>\n",
       "      <td>6454</td>\n",
       "      <td>890006608113172480</td>\n",
       "      <td>8940951</td>\n",
       "    </tr>\n",
       "    <tr>\n",
       "      <th>11</th>\n",
       "      <td>25515</td>\n",
       "      <td>4386</td>\n",
       "      <td>889880896479866881</td>\n",
       "      <td>8940951</td>\n",
       "    </tr>\n",
       "    <tr>\n",
       "      <th>12</th>\n",
       "      <td>43807</td>\n",
       "      <td>8808</td>\n",
       "      <td>889665388333682689</td>\n",
       "      <td>8940951</td>\n",
       "    </tr>\n",
       "    <tr>\n",
       "      <th>13</th>\n",
       "      <td>24633</td>\n",
       "      <td>3937</td>\n",
       "      <td>889638837579907072</td>\n",
       "      <td>8940951</td>\n",
       "    </tr>\n",
       "    <tr>\n",
       "      <th>14</th>\n",
       "      <td>13875</td>\n",
       "      <td>1985</td>\n",
       "      <td>889531135344209921</td>\n",
       "      <td>8940951</td>\n",
       "    </tr>\n",
       "    <tr>\n",
       "      <th>15</th>\n",
       "      <td>22995</td>\n",
       "      <td>4685</td>\n",
       "      <td>889278841981685760</td>\n",
       "      <td>8940951</td>\n",
       "    </tr>\n",
       "    <tr>\n",
       "      <th>16</th>\n",
       "      <td>26605</td>\n",
       "      <td>3941</td>\n",
       "      <td>888917238123831296</td>\n",
       "      <td>8940951</td>\n",
       "    </tr>\n",
       "    <tr>\n",
       "      <th>17</th>\n",
       "      <td>23343</td>\n",
       "      <td>3725</td>\n",
       "      <td>888804989199671297</td>\n",
       "      <td>8940951</td>\n",
       "    </tr>\n",
       "    <tr>\n",
       "      <th>18</th>\n",
       "      <td>18003</td>\n",
       "      <td>3045</td>\n",
       "      <td>888554962724278272</td>\n",
       "      <td>8940951</td>\n",
       "    </tr>\n",
       "    <tr>\n",
       "      <th>19</th>\n",
       "      <td>19900</td>\n",
       "      <td>3052</td>\n",
       "      <td>888078434458587136</td>\n",
       "      <td>8940951</td>\n",
       "    </tr>\n",
       "    <tr>\n",
       "      <th>20</th>\n",
       "      <td>27667</td>\n",
       "      <td>4753</td>\n",
       "      <td>887705289381826560</td>\n",
       "      <td>8940951</td>\n",
       "    </tr>\n",
       "    <tr>\n",
       "      <th>21</th>\n",
       "      <td>42359</td>\n",
       "      <td>10361</td>\n",
       "      <td>887517139158093824</td>\n",
       "      <td>8940951</td>\n",
       "    </tr>\n",
       "    <tr>\n",
       "      <th>22</th>\n",
       "      <td>62698</td>\n",
       "      <td>15824</td>\n",
       "      <td>887473957103951883</td>\n",
       "      <td>8940951</td>\n",
       "    </tr>\n",
       "    <tr>\n",
       "      <th>23</th>\n",
       "      <td>30746</td>\n",
       "      <td>9266</td>\n",
       "      <td>887343217045368832</td>\n",
       "      <td>8940951</td>\n",
       "    </tr>\n",
       "    <tr>\n",
       "      <th>24</th>\n",
       "      <td>28004</td>\n",
       "      <td>5250</td>\n",
       "      <td>887101392804085760</td>\n",
       "      <td>8940951</td>\n",
       "    </tr>\n",
       "    <tr>\n",
       "      <th>25</th>\n",
       "      <td>31743</td>\n",
       "      <td>6726</td>\n",
       "      <td>886983233522544640</td>\n",
       "      <td>8940951</td>\n",
       "    </tr>\n",
       "    <tr>\n",
       "      <th>26</th>\n",
       "      <td>10917</td>\n",
       "      <td>2798</td>\n",
       "      <td>886736880519319552</td>\n",
       "      <td>8940951</td>\n",
       "    </tr>\n",
       "    <tr>\n",
       "      <th>27</th>\n",
       "      <td>20554</td>\n",
       "      <td>3938</td>\n",
       "      <td>886680336477933568</td>\n",
       "      <td>8940951</td>\n",
       "    </tr>\n",
       "    <tr>\n",
       "      <th>28</th>\n",
       "      <td>19288</td>\n",
       "      <td>2785</td>\n",
       "      <td>886366144734445568</td>\n",
       "      <td>8940951</td>\n",
       "    </tr>\n",
       "    <tr>\n",
       "      <th>29</th>\n",
       "      <td>25553</td>\n",
       "      <td>5568</td>\n",
       "      <td>886258384151887873</td>\n",
       "      <td>8940951</td>\n",
       "    </tr>\n",
       "    <tr>\n",
       "      <th>...</th>\n",
       "      <td>...</td>\n",
       "      <td>...</td>\n",
       "      <td>...</td>\n",
       "      <td>...</td>\n",
       "    </tr>\n",
       "    <tr>\n",
       "      <th>2060</th>\n",
       "      <td>394</td>\n",
       "      <td>285</td>\n",
       "      <td>666411507551481857</td>\n",
       "      <td>8940968</td>\n",
       "    </tr>\n",
       "    <tr>\n",
       "      <th>2061</th>\n",
       "      <td>98</td>\n",
       "      <td>31</td>\n",
       "      <td>666407126856765440</td>\n",
       "      <td>8940968</td>\n",
       "    </tr>\n",
       "    <tr>\n",
       "      <th>2062</th>\n",
       "      <td>155</td>\n",
       "      <td>73</td>\n",
       "      <td>666396247373291520</td>\n",
       "      <td>8940968</td>\n",
       "    </tr>\n",
       "    <tr>\n",
       "      <th>2063</th>\n",
       "      <td>169</td>\n",
       "      <td>77</td>\n",
       "      <td>666373753744588802</td>\n",
       "      <td>8940968</td>\n",
       "    </tr>\n",
       "    <tr>\n",
       "      <th>2064</th>\n",
       "      <td>696</td>\n",
       "      <td>500</td>\n",
       "      <td>666362758909284353</td>\n",
       "      <td>8940968</td>\n",
       "    </tr>\n",
       "    <tr>\n",
       "      <th>2065</th>\n",
       "      <td>194</td>\n",
       "      <td>64</td>\n",
       "      <td>666353288456101888</td>\n",
       "      <td>8940968</td>\n",
       "    </tr>\n",
       "    <tr>\n",
       "      <th>2066</th>\n",
       "      <td>266</td>\n",
       "      <td>128</td>\n",
       "      <td>666345417576210432</td>\n",
       "      <td>8940968</td>\n",
       "    </tr>\n",
       "    <tr>\n",
       "      <th>2067</th>\n",
       "      <td>174</td>\n",
       "      <td>81</td>\n",
       "      <td>666337882303524864</td>\n",
       "      <td>8940968</td>\n",
       "    </tr>\n",
       "    <tr>\n",
       "      <th>2068</th>\n",
       "      <td>449</td>\n",
       "      <td>308</td>\n",
       "      <td>666293911632134144</td>\n",
       "      <td>8940968</td>\n",
       "    </tr>\n",
       "    <tr>\n",
       "      <th>2069</th>\n",
       "      <td>131</td>\n",
       "      <td>57</td>\n",
       "      <td>666287406224695296</td>\n",
       "      <td>8940968</td>\n",
       "    </tr>\n",
       "    <tr>\n",
       "      <th>2070</th>\n",
       "      <td>157</td>\n",
       "      <td>70</td>\n",
       "      <td>666273097616637952</td>\n",
       "      <td>8940968</td>\n",
       "    </tr>\n",
       "    <tr>\n",
       "      <th>2071</th>\n",
       "      <td>94</td>\n",
       "      <td>32</td>\n",
       "      <td>666268910803644416</td>\n",
       "      <td>8940968</td>\n",
       "    </tr>\n",
       "    <tr>\n",
       "      <th>2072</th>\n",
       "      <td>13221</td>\n",
       "      <td>5773</td>\n",
       "      <td>666104133288665088</td>\n",
       "      <td>8940968</td>\n",
       "    </tr>\n",
       "    <tr>\n",
       "      <th>2073</th>\n",
       "      <td>69</td>\n",
       "      <td>11</td>\n",
       "      <td>666102155909144576</td>\n",
       "      <td>8940968</td>\n",
       "    </tr>\n",
       "    <tr>\n",
       "      <th>2074</th>\n",
       "      <td>140</td>\n",
       "      <td>57</td>\n",
       "      <td>666099513787052032</td>\n",
       "      <td>8940968</td>\n",
       "    </tr>\n",
       "    <tr>\n",
       "      <th>2075</th>\n",
       "      <td>152</td>\n",
       "      <td>66</td>\n",
       "      <td>666094000022159362</td>\n",
       "      <td>8940968</td>\n",
       "    </tr>\n",
       "    <tr>\n",
       "      <th>2076</th>\n",
       "      <td>101</td>\n",
       "      <td>41</td>\n",
       "      <td>666082916733198337</td>\n",
       "      <td>8940968</td>\n",
       "    </tr>\n",
       "    <tr>\n",
       "      <th>2077</th>\n",
       "      <td>282</td>\n",
       "      <td>140</td>\n",
       "      <td>666073100786774016</td>\n",
       "      <td>8940968</td>\n",
       "    </tr>\n",
       "    <tr>\n",
       "      <th>2078</th>\n",
       "      <td>134</td>\n",
       "      <td>52</td>\n",
       "      <td>666071193221509120</td>\n",
       "      <td>8940968</td>\n",
       "    </tr>\n",
       "    <tr>\n",
       "      <th>2079</th>\n",
       "      <td>435</td>\n",
       "      <td>190</td>\n",
       "      <td>666063827256086533</td>\n",
       "      <td>8940968</td>\n",
       "    </tr>\n",
       "    <tr>\n",
       "      <th>2080</th>\n",
       "      <td>103</td>\n",
       "      <td>50</td>\n",
       "      <td>666058600524156928</td>\n",
       "      <td>8940968</td>\n",
       "    </tr>\n",
       "    <tr>\n",
       "      <th>2081</th>\n",
       "      <td>264</td>\n",
       "      <td>118</td>\n",
       "      <td>666057090499244032</td>\n",
       "      <td>8940968</td>\n",
       "    </tr>\n",
       "    <tr>\n",
       "      <th>2082</th>\n",
       "      <td>399</td>\n",
       "      <td>212</td>\n",
       "      <td>666055525042405380</td>\n",
       "      <td>8940968</td>\n",
       "    </tr>\n",
       "    <tr>\n",
       "      <th>2083</th>\n",
       "      <td>1090</td>\n",
       "      <td>744</td>\n",
       "      <td>666051853826850816</td>\n",
       "      <td>8940968</td>\n",
       "    </tr>\n",
       "    <tr>\n",
       "      <th>2084</th>\n",
       "      <td>119</td>\n",
       "      <td>51</td>\n",
       "      <td>666050758794694657</td>\n",
       "      <td>8940968</td>\n",
       "    </tr>\n",
       "    <tr>\n",
       "      <th>2085</th>\n",
       "      <td>94</td>\n",
       "      <td>38</td>\n",
       "      <td>666049248165822465</td>\n",
       "      <td>8940968</td>\n",
       "    </tr>\n",
       "    <tr>\n",
       "      <th>2086</th>\n",
       "      <td>262</td>\n",
       "      <td>122</td>\n",
       "      <td>666044226329800704</td>\n",
       "      <td>8940968</td>\n",
       "    </tr>\n",
       "    <tr>\n",
       "      <th>2087</th>\n",
       "      <td>107</td>\n",
       "      <td>39</td>\n",
       "      <td>666033412701032449</td>\n",
       "      <td>8940968</td>\n",
       "    </tr>\n",
       "    <tr>\n",
       "      <th>2088</th>\n",
       "      <td>118</td>\n",
       "      <td>41</td>\n",
       "      <td>666029285002620928</td>\n",
       "      <td>8940968</td>\n",
       "    </tr>\n",
       "    <tr>\n",
       "      <th>2089</th>\n",
       "      <td>2338</td>\n",
       "      <td>445</td>\n",
       "      <td>666020888022790149</td>\n",
       "      <td>8940968</td>\n",
       "    </tr>\n",
       "  </tbody>\n",
       "</table>\n",
       "<p>2090 rows × 4 columns</p>\n",
       "</div>"
      ],
      "text/plain": [
       "      favorite_count  retweet_count            tweet_id  user_count\n",
       "0              35159           7428  892420643555336193     8941542\n",
       "1              30444           5522  892177421306343426     8940951\n",
       "2              22893           3646  891815181378084864     8940951\n",
       "3              38475           7599  891689557279858688     8940951\n",
       "4              36739           8181  891327558926688256     8940951\n",
       "5              18513           2743  891087950875897856     8940951\n",
       "6              10768           1774  890971913173991426     8940951\n",
       "7              59250          16611  890729181411237888     8940951\n",
       "8              25494           3792  890609185150312448     8940951\n",
       "9              29083           6434  890240255349198849     8940951\n",
       "10             28054           6454  890006608113172480     8940951\n",
       "11             25515           4386  889880896479866881     8940951\n",
       "12             43807           8808  889665388333682689     8940951\n",
       "13             24633           3937  889638837579907072     8940951\n",
       "14             13875           1985  889531135344209921     8940951\n",
       "15             22995           4685  889278841981685760     8940951\n",
       "16             26605           3941  888917238123831296     8940951\n",
       "17             23343           3725  888804989199671297     8940951\n",
       "18             18003           3045  888554962724278272     8940951\n",
       "19             19900           3052  888078434458587136     8940951\n",
       "20             27667           4753  887705289381826560     8940951\n",
       "21             42359          10361  887517139158093824     8940951\n",
       "22             62698          15824  887473957103951883     8940951\n",
       "23             30746           9266  887343217045368832     8940951\n",
       "24             28004           5250  887101392804085760     8940951\n",
       "25             31743           6726  886983233522544640     8940951\n",
       "26             10917           2798  886736880519319552     8940951\n",
       "27             20554           3938  886680336477933568     8940951\n",
       "28             19288           2785  886366144734445568     8940951\n",
       "29             25553           5568  886258384151887873     8940951\n",
       "...              ...            ...                 ...         ...\n",
       "2060             394            285  666411507551481857     8940968\n",
       "2061              98             31  666407126856765440     8940968\n",
       "2062             155             73  666396247373291520     8940968\n",
       "2063             169             77  666373753744588802     8940968\n",
       "2064             696            500  666362758909284353     8940968\n",
       "2065             194             64  666353288456101888     8940968\n",
       "2066             266            128  666345417576210432     8940968\n",
       "2067             174             81  666337882303524864     8940968\n",
       "2068             449            308  666293911632134144     8940968\n",
       "2069             131             57  666287406224695296     8940968\n",
       "2070             157             70  666273097616637952     8940968\n",
       "2071              94             32  666268910803644416     8940968\n",
       "2072           13221           5773  666104133288665088     8940968\n",
       "2073              69             11  666102155909144576     8940968\n",
       "2074             140             57  666099513787052032     8940968\n",
       "2075             152             66  666094000022159362     8940968\n",
       "2076             101             41  666082916733198337     8940968\n",
       "2077             282            140  666073100786774016     8940968\n",
       "2078             134             52  666071193221509120     8940968\n",
       "2079             435            190  666063827256086533     8940968\n",
       "2080             103             50  666058600524156928     8940968\n",
       "2081             264            118  666057090499244032     8940968\n",
       "2082             399            212  666055525042405380     8940968\n",
       "2083            1090            744  666051853826850816     8940968\n",
       "2084             119             51  666050758794694657     8940968\n",
       "2085              94             38  666049248165822465     8940968\n",
       "2086             262            122  666044226329800704     8940968\n",
       "2087             107             39  666033412701032449     8940968\n",
       "2088             118             41  666029285002620928     8940968\n",
       "2089            2338            445  666020888022790149     8940968\n",
       "\n",
       "[2090 rows x 4 columns]"
      ]
     },
     "execution_count": 17,
     "metadata": {},
     "output_type": "execute_result"
    }
   ],
   "source": [
    "api_df_now "
   ]
  },
  {
   "cell_type": "markdown",
   "metadata": {},
   "source": [
    "#### 2.3.2 API data frame information"
   ]
  },
  {
   "cell_type": "code",
   "execution_count": 18,
   "metadata": {
    "scrolled": true
   },
   "outputs": [
    {
     "name": "stdout",
     "output_type": "stream",
     "text": [
      "<class 'pandas.core.frame.DataFrame'>\n",
      "RangeIndex: 2090 entries, 0 to 2089\n",
      "Data columns (total 4 columns):\n",
      "favorite_count    2090 non-null int64\n",
      "retweet_count     2090 non-null int64\n",
      "tweet_id          2090 non-null int64\n",
      "user_count        2090 non-null int64\n",
      "dtypes: int64(4)\n",
      "memory usage: 65.4 KB\n"
     ]
    }
   ],
   "source": [
    "api_df_now.info()"
   ]
  },
  {
   "cell_type": "markdown",
   "metadata": {},
   "source": [
    "#### 2.3.3 API data frame check for duplicated rows"
   ]
  },
  {
   "cell_type": "code",
   "execution_count": 19,
   "metadata": {},
   "outputs": [
    {
     "data": {
      "text/plain": [
       "0"
      ]
     },
     "execution_count": 19,
     "metadata": {},
     "output_type": "execute_result"
    }
   ],
   "source": [
    "api_df_now.duplicated().sum()"
   ]
  },
  {
   "cell_type": "markdown",
   "metadata": {},
   "source": [
    "### 2.4 Data assessing Summary "
   ]
  },
  {
   "cell_type": "markdown",
   "metadata": {},
   "source": [
    "### Quality\n",
    "##### `Archive`  DataFrame\n",
    "- Invalid data in the tweet data, some are retweets, others are replies\n",
    "- Some tweets have no retweet data in the API data frame\n",
    "- Incomplete data in the URLs\n",
    "- Erroneous datatypes for most of columns\n",
    "- Invalid data in the denominator column ( as zero )\n",
    "- Inaccurate data in the numenator column \n",
    "- Some tweets are not based on dog picture \n",
    "\n",
    "##### `Image` DataFrame\n",
    "- Some images have no original tweets in the Archive data frame\n",
    "- Columns header of breed prediction are not well descriptive\n",
    "- Erroneous datatypes for most of columns\n",
    "\n",
    "##### `API ` DataFrame\n",
    "- Some tweets have no images in the image data frame\n",
    "- Erroneous datatypes for most of columns\n"
   ]
  },
  {
   "cell_type": "markdown",
   "metadata": {},
   "source": [
    "\n",
    "\n",
    "### Tidiness\n",
    "- Stage of dog records are scattered over four columns\n",
    "- Data are divided in three data frames of different shapes "
   ]
  },
  {
   "cell_type": "markdown",
   "metadata": {},
   "source": [
    "## 3- Data Cleaning <a class=\"anchor\" id=\"dclean\"></a>"
   ]
  },
  {
   "cell_type": "markdown",
   "metadata": {},
   "source": [
    "### 3.1 Copy data frames into clean ones "
   ]
  },
  {
   "cell_type": "code",
   "execution_count": 20,
   "metadata": {},
   "outputs": [],
   "source": [
    "arcv_clean = df_arcv.copy()\n",
    "image_clean = df_pic.copy() \n",
    "api_clean = api_df_now.copy() "
   ]
  },
  {
   "cell_type": "markdown",
   "metadata": {},
   "source": [
    "### 3.2 Invalid data "
   ]
  },
  {
   "cell_type": "markdown",
   "metadata": {},
   "source": [
    "#### `archive`: Clean archive data frame form replies and retweets"
   ]
  },
  {
   "cell_type": "markdown",
   "metadata": {},
   "source": [
    "##### Define\n",
    "Rebuild the data frame ignoring the rows of replies and retweets"
   ]
  },
  {
   "cell_type": "markdown",
   "metadata": {},
   "source": [
    "##### Code"
   ]
  },
  {
   "cell_type": "code",
   "execution_count": 21,
   "metadata": {
    "scrolled": true
   },
   "outputs": [],
   "source": [
    "# 3.2.1 droping the replies form the archive \n",
    "arcv_clean_cut_reply = arcv_clean[arcv_clean.in_reply_to_status_id.isnull()]"
   ]
  },
  {
   "cell_type": "markdown",
   "metadata": {},
   "source": [
    "##### Test"
   ]
  },
  {
   "cell_type": "code",
   "execution_count": 22,
   "metadata": {},
   "outputs": [
    {
     "data": {
      "text/plain": [
       "(2278, 17)"
      ]
     },
     "execution_count": 22,
     "metadata": {},
     "output_type": "execute_result"
    }
   ],
   "source": [
    "arcv_clean_cut_reply.shape"
   ]
  },
  {
   "cell_type": "markdown",
   "metadata": {},
   "source": [
    "##### Code"
   ]
  },
  {
   "cell_type": "code",
   "execution_count": 23,
   "metadata": {},
   "outputs": [],
   "source": [
    "# 3.1.2 droping the retweets form the archive\n",
    "arcv_clean_cut_retweet = arcv_clean_cut_reply[arcv_clean_cut_reply.retweeted_status_id.isnull()]"
   ]
  },
  {
   "cell_type": "markdown",
   "metadata": {},
   "source": [
    "##### Test"
   ]
  },
  {
   "cell_type": "code",
   "execution_count": 24,
   "metadata": {},
   "outputs": [
    {
     "data": {
      "text/plain": [
       "(2097, 17)"
      ]
     },
     "execution_count": 24,
     "metadata": {},
     "output_type": "execute_result"
    }
   ],
   "source": [
    "arcv_clean_cut_retweet.shape"
   ]
  },
  {
   "cell_type": "markdown",
   "metadata": {},
   "source": [
    "##### Define\n",
    "Removing the empty columns of replies and retweets, to get archive with only original tweets `arcv_original_tweet`"
   ]
  },
  {
   "cell_type": "markdown",
   "metadata": {},
   "source": [
    "##### Code"
   ]
  },
  {
   "cell_type": "code",
   "execution_count": 25,
   "metadata": {},
   "outputs": [],
   "source": [
    "# 3.1.3 Removing the empty columns \n",
    "arcv_clean_cut_retweet.drop(['in_reply_to_status_id','in_reply_to_user_id','retweeted_status_id','retweeted_status_user_id', 'retweeted_status_timestamp'], axis=1, inplace=True)"
   ]
  },
  {
   "cell_type": "code",
   "execution_count": 26,
   "metadata": {},
   "outputs": [],
   "source": [
    "arcv_original_tweet = arcv_clean_cut_retweet.copy() "
   ]
  },
  {
   "cell_type": "markdown",
   "metadata": {},
   "source": [
    "##### Test"
   ]
  },
  {
   "cell_type": "code",
   "execution_count": 27,
   "metadata": {},
   "outputs": [
    {
     "name": "stdout",
     "output_type": "stream",
     "text": [
      "<class 'pandas.core.frame.DataFrame'>\n",
      "Int64Index: 2097 entries, 0 to 2355\n",
      "Data columns (total 12 columns):\n",
      "tweet_id              2097 non-null int64\n",
      "timestamp             2097 non-null object\n",
      "source                2097 non-null object\n",
      "text                  2097 non-null object\n",
      "expanded_urls         2094 non-null object\n",
      "rating_numerator      2097 non-null int64\n",
      "rating_denominator    2097 non-null int64\n",
      "name                  2097 non-null object\n",
      "doggo                 2097 non-null object\n",
      "floofer               2097 non-null object\n",
      "pupper                2097 non-null object\n",
      "puppo                 2097 non-null object\n",
      "dtypes: int64(3), object(9)\n",
      "memory usage: 213.0+ KB\n"
     ]
    }
   ],
   "source": [
    "arcv_original_tweet.info()"
   ]
  },
  {
   "cell_type": "markdown",
   "metadata": {},
   "source": [
    "### 3.3 Missed data \n",
    "\n",
    "####  `archive`: Clean archive  form  tweets which of no images in the `image` data frame"
   ]
  },
  {
   "cell_type": "markdown",
   "metadata": {},
   "source": [
    "##### Define\n",
    "Removing the orignal tweets from the archive data frame which have no images in the `image` data frame. the cleaned data frame is named arcv_orign_image"
   ]
  },
  {
   "cell_type": "markdown",
   "metadata": {},
   "source": [
    "##### Code"
   ]
  },
  {
   "cell_type": "code",
   "execution_count": 28,
   "metadata": {},
   "outputs": [],
   "source": [
    "# 3.3.1 creating a list of tweet_ids in image_clean named \"image_ids\" \n",
    "image_ids = list(image_clean.tweet_id.unique())\n",
    "\n",
    "# 3.3.2 removing the tweets of no images \n",
    "arcv_orign_image = arcv_original_tweet[arcv_original_tweet.tweet_id.isin(image_ids)]\n"
   ]
  },
  {
   "cell_type": "markdown",
   "metadata": {},
   "source": [
    "##### Test"
   ]
  },
  {
   "cell_type": "code",
   "execution_count": 29,
   "metadata": {},
   "outputs": [
    {
     "data": {
      "text/plain": [
       "(1971, 12)"
      ]
     },
     "execution_count": 29,
     "metadata": {},
     "output_type": "execute_result"
    }
   ],
   "source": [
    "arcv_orign_image.shape "
   ]
  },
  {
   "cell_type": "markdown",
   "metadata": {},
   "source": [
    "### 3.4 Missed data \n",
    "\n",
    "####  `archive`: Clean archive  form  tweets which of no retwwets in the `api` data frame"
   ]
  },
  {
   "cell_type": "markdown",
   "metadata": {},
   "source": [
    "##### Define\n",
    "Removing the orignal tweets with images from the arcv_orign_image data frame which have no retweets in the `api_clean` data frame. the cleaned data frame is named arcv_orign_image_retweet"
   ]
  },
  {
   "cell_type": "markdown",
   "metadata": {},
   "source": [
    "##### Code"
   ]
  },
  {
   "cell_type": "code",
   "execution_count": 30,
   "metadata": {},
   "outputs": [],
   "source": [
    "# 3.3.1 creating a list of tweet ids in the api cleaned api data frame\n",
    "retweet_ids = list(api_clean.tweet_id.unique())\n",
    "\n",
    "# Removing tweets of no retweets in the API DataFram from the archive \n",
    "arcv_orign_image_retweet = arcv_orign_image[arcv_orign_image.tweet_id.isin(retweet_ids)]"
   ]
  },
  {
   "cell_type": "markdown",
   "metadata": {},
   "source": [
    "##### Test"
   ]
  },
  {
   "cell_type": "code",
   "execution_count": 31,
   "metadata": {},
   "outputs": [
    {
     "data": {
      "text/plain": [
       "(1964, 12)"
      ]
     },
     "execution_count": 31,
     "metadata": {},
     "output_type": "execute_result"
    }
   ],
   "source": [
    "arcv_orign_image_retweet.shape"
   ]
  },
  {
   "cell_type": "markdown",
   "metadata": {},
   "source": [
    " Now, we have a modified archive with tweets have corresponding images and retweets in the relevant image and api data frames, let's copy it to arcv_cleaned to shorten the name."
   ]
  },
  {
   "cell_type": "markdown",
   "metadata": {},
   "source": [
    "##### Code"
   ]
  },
  {
   "cell_type": "code",
   "execution_count": 32,
   "metadata": {},
   "outputs": [],
   "source": [
    "arcv_cleaned = arcv_orign_image_retweet.copy()"
   ]
  },
  {
   "cell_type": "markdown",
   "metadata": {},
   "source": [
    "##### Test"
   ]
  },
  {
   "cell_type": "code",
   "execution_count": 33,
   "metadata": {},
   "outputs": [
    {
     "name": "stdout",
     "output_type": "stream",
     "text": [
      "<class 'pandas.core.frame.DataFrame'>\n",
      "Int64Index: 1964 entries, 0 to 2355\n",
      "Data columns (total 12 columns):\n",
      "tweet_id              1964 non-null int64\n",
      "timestamp             1964 non-null object\n",
      "source                1964 non-null object\n",
      "text                  1964 non-null object\n",
      "expanded_urls         1964 non-null object\n",
      "rating_numerator      1964 non-null int64\n",
      "rating_denominator    1964 non-null int64\n",
      "name                  1964 non-null object\n",
      "doggo                 1964 non-null object\n",
      "floofer               1964 non-null object\n",
      "pupper                1964 non-null object\n",
      "puppo                 1964 non-null object\n",
      "dtypes: int64(3), object(9)\n",
      "memory usage: 199.5+ KB\n"
     ]
    }
   ],
   "source": [
    "arcv_cleaned.info()"
   ]
  },
  {
   "cell_type": "markdown",
   "metadata": {},
   "source": [
    "## Iterate Assess \n",
    "The problem of the missed URLs has been vanished after cleaning; we don't have to work on it "
   ]
  },
  {
   "cell_type": "markdown",
   "metadata": {},
   "source": [
    "### 3.5 Tidiness 1 \n",
    "The data are in three data frames, in order to merge them in one master data frame we need first to align the image and api data frames with the cleaned archive data frame  "
   ]
  },
  {
   "cell_type": "markdown",
   "metadata": {},
   "source": [
    "##### Define\n",
    "Removing the records from the image data frame of which have no tweets in the cleaned archive data frame, which will result in new image data frame named image_cleaned  "
   ]
  },
  {
   "cell_type": "markdown",
   "metadata": {},
   "source": [
    "##### Code"
   ]
  },
  {
   "cell_type": "code",
   "execution_count": 34,
   "metadata": {},
   "outputs": [],
   "source": [
    "# 3.5.1 creating a list of tweets of the cleaned archive data frame \n",
    "arcv_cleaned_ids = list(arcv_cleaned.tweet_id.unique())"
   ]
  },
  {
   "cell_type": "code",
   "execution_count": 35,
   "metadata": {},
   "outputs": [],
   "source": [
    "# 3.5.2 Align image DataFrame with the cleaned archive DataFrame\n",
    "image_cleaned = image_clean[image_clean.tweet_id.isin(arcv_cleaned_ids)]"
   ]
  },
  {
   "cell_type": "markdown",
   "metadata": {},
   "source": [
    "##### Test"
   ]
  },
  {
   "cell_type": "code",
   "execution_count": 36,
   "metadata": {},
   "outputs": [
    {
     "data": {
      "text/plain": [
       "(1964, 12)"
      ]
     },
     "execution_count": 36,
     "metadata": {},
     "output_type": "execute_result"
    }
   ],
   "source": [
    "image_cleaned.shape"
   ]
  },
  {
   "cell_type": "markdown",
   "metadata": {},
   "source": [
    "##### Define\n",
    "Removing the records from the API data frame of which have no tweets in the cleaned archive data frame, which will result in new api data frame named api_cleaned  "
   ]
  },
  {
   "cell_type": "code",
   "execution_count": 37,
   "metadata": {},
   "outputs": [],
   "source": [
    "# 3.5.3 Align API DataFrame with archive DataFrame\n",
    "api_cleaned = api_clean[api_clean.tweet_id.isin(arcv_cleaned_ids)]"
   ]
  },
  {
   "cell_type": "markdown",
   "metadata": {},
   "source": [
    "##### Test"
   ]
  },
  {
   "cell_type": "code",
   "execution_count": 38,
   "metadata": {},
   "outputs": [
    {
     "data": {
      "text/plain": [
       "(1964, 4)"
      ]
     },
     "execution_count": 38,
     "metadata": {},
     "output_type": "execute_result"
    }
   ],
   "source": [
    "api_cleaned.shape"
   ]
  },
  {
   "cell_type": "markdown",
   "metadata": {},
   "source": [
    "### 3.6  Merging the data frames"
   ]
  },
  {
   "cell_type": "markdown",
   "metadata": {},
   "source": [
    "##### Define\n",
    "Merging the three data frames together in one master data frame\n",
    "\n",
    "##### 3.6.1. Merging The cleaned archive data frame with cleaned API data frame "
   ]
  },
  {
   "cell_type": "markdown",
   "metadata": {},
   "source": [
    "##### Code"
   ]
  },
  {
   "cell_type": "code",
   "execution_count": 39,
   "metadata": {},
   "outputs": [],
   "source": [
    "# merge arcv_cleaned with api_cleaned in df_arcv_api \n",
    "df_arcv_api = pd.merge(arcv_cleaned,api_cleaned, left_on=\"tweet_id\",right_on=\"tweet_id\", how=\"inner\")"
   ]
  },
  {
   "cell_type": "markdown",
   "metadata": {},
   "source": [
    "##### Test"
   ]
  },
  {
   "cell_type": "code",
   "execution_count": 40,
   "metadata": {},
   "outputs": [
    {
     "name": "stdout",
     "output_type": "stream",
     "text": [
      "<class 'pandas.core.frame.DataFrame'>\n",
      "Int64Index: 1964 entries, 0 to 1963\n",
      "Data columns (total 15 columns):\n",
      "tweet_id              1964 non-null int64\n",
      "timestamp             1964 non-null object\n",
      "source                1964 non-null object\n",
      "text                  1964 non-null object\n",
      "expanded_urls         1964 non-null object\n",
      "rating_numerator      1964 non-null int64\n",
      "rating_denominator    1964 non-null int64\n",
      "name                  1964 non-null object\n",
      "doggo                 1964 non-null object\n",
      "floofer               1964 non-null object\n",
      "pupper                1964 non-null object\n",
      "puppo                 1964 non-null object\n",
      "favorite_count        1964 non-null int64\n",
      "retweet_count         1964 non-null int64\n",
      "user_count            1964 non-null int64\n",
      "dtypes: int64(6), object(9)\n",
      "memory usage: 245.5+ KB\n"
     ]
    }
   ],
   "source": [
    "df_arcv_api.info()"
   ]
  },
  {
   "cell_type": "markdown",
   "metadata": {},
   "source": [
    "##### 3.6.2. Merging The image data frame, with the combined data frame  "
   ]
  },
  {
   "cell_type": "markdown",
   "metadata": {},
   "source": [
    "##### Code"
   ]
  },
  {
   "cell_type": "code",
   "execution_count": 41,
   "metadata": {
    "scrolled": true
   },
   "outputs": [],
   "source": [
    "df_arcv_api_image = pd.merge(df_arcv_api,image_cleaned, on=\"tweet_id\", how=\"inner\")"
   ]
  },
  {
   "cell_type": "markdown",
   "metadata": {},
   "source": [
    "##### Test"
   ]
  },
  {
   "cell_type": "code",
   "execution_count": 42,
   "metadata": {
    "scrolled": true
   },
   "outputs": [
    {
     "name": "stdout",
     "output_type": "stream",
     "text": [
      "<class 'pandas.core.frame.DataFrame'>\n",
      "Int64Index: 1964 entries, 0 to 1963\n",
      "Data columns (total 26 columns):\n",
      "tweet_id              1964 non-null int64\n",
      "timestamp             1964 non-null object\n",
      "source                1964 non-null object\n",
      "text                  1964 non-null object\n",
      "expanded_urls         1964 non-null object\n",
      "rating_numerator      1964 non-null int64\n",
      "rating_denominator    1964 non-null int64\n",
      "name                  1964 non-null object\n",
      "doggo                 1964 non-null object\n",
      "floofer               1964 non-null object\n",
      "pupper                1964 non-null object\n",
      "puppo                 1964 non-null object\n",
      "favorite_count        1964 non-null int64\n",
      "retweet_count         1964 non-null int64\n",
      "user_count            1964 non-null int64\n",
      "jpg_url               1964 non-null object\n",
      "img_num               1964 non-null int64\n",
      "p1                    1964 non-null object\n",
      "p1_conf               1964 non-null float64\n",
      "p1_dog                1964 non-null bool\n",
      "p2                    1964 non-null object\n",
      "p2_conf               1964 non-null float64\n",
      "p2_dog                1964 non-null bool\n",
      "p3                    1964 non-null object\n",
      "p3_conf               1964 non-null float64\n",
      "p3_dog                1964 non-null bool\n",
      "dtypes: bool(3), float64(3), int64(7), object(13)\n",
      "memory usage: 374.0+ KB\n"
     ]
    }
   ],
   "source": [
    "df_arcv_api_image.info()"
   ]
  },
  {
   "cell_type": "markdown",
   "metadata": {},
   "source": [
    "### 3.7 Copying the combined data frame to master data frame\n"
   ]
  },
  {
   "cell_type": "code",
   "execution_count": 43,
   "metadata": {},
   "outputs": [
    {
     "data": {
      "text/plain": [
       "(1964, 26)"
      ]
     },
     "execution_count": 43,
     "metadata": {},
     "output_type": "execute_result"
    }
   ],
   "source": [
    "df_master = df_arcv_api_image.copy()\n",
    "df_master.shape"
   ]
  },
  {
   "cell_type": "markdown",
   "metadata": {},
   "source": [
    "### 3.8 Tidiness 2\n",
    "doge stage records are in four columns, we combine them in one column named stage \n",
    "##### Define\n",
    "To replace the None value in the columns with '' and combine them by column addtion then delete the four coulmns "
   ]
  },
  {
   "cell_type": "markdown",
   "metadata": {},
   "source": [
    "##### Code"
   ]
  },
  {
   "cell_type": "code",
   "execution_count": 44,
   "metadata": {},
   "outputs": [],
   "source": [
    "# 3.8.1 Replace None in stage columns with empty string \n",
    "df_master.doggo.replace('None', '', inplace=True)  \n",
    "df_master.floofer.replace('None', '', inplace=True) \n",
    "df_master.pupper.replace('None', '', inplace=True) \n",
    "df_master.puppo.replace('None', '', inplace=True) "
   ]
  },
  {
   "cell_type": "code",
   "execution_count": 45,
   "metadata": {},
   "outputs": [],
   "source": [
    "# 3.8.2 combine stage columns \n",
    "df_master['stage'] = df_master.doggo + df_master.floofer + df_master.pupper + df_master.puppo"
   ]
  },
  {
   "cell_type": "code",
   "execution_count": 46,
   "metadata": {},
   "outputs": [],
   "source": [
    "# 3.8.3 delete columns \n",
    "df_master.drop(['doggo','floofer','pupper','puppo'], axis=1, inplace=True)"
   ]
  },
  {
   "cell_type": "markdown",
   "metadata": {},
   "source": [
    "##### Test"
   ]
  },
  {
   "cell_type": "code",
   "execution_count": 47,
   "metadata": {},
   "outputs": [
    {
     "name": "stdout",
     "output_type": "stream",
     "text": [
      "<class 'pandas.core.frame.DataFrame'>\n",
      "Int64Index: 1964 entries, 0 to 1963\n",
      "Data columns (total 23 columns):\n",
      "tweet_id              1964 non-null int64\n",
      "timestamp             1964 non-null object\n",
      "source                1964 non-null object\n",
      "text                  1964 non-null object\n",
      "expanded_urls         1964 non-null object\n",
      "rating_numerator      1964 non-null int64\n",
      "rating_denominator    1964 non-null int64\n",
      "name                  1964 non-null object\n",
      "favorite_count        1964 non-null int64\n",
      "retweet_count         1964 non-null int64\n",
      "user_count            1964 non-null int64\n",
      "jpg_url               1964 non-null object\n",
      "img_num               1964 non-null int64\n",
      "p1                    1964 non-null object\n",
      "p1_conf               1964 non-null float64\n",
      "p1_dog                1964 non-null bool\n",
      "p2                    1964 non-null object\n",
      "p2_conf               1964 non-null float64\n",
      "p2_dog                1964 non-null bool\n",
      "p3                    1964 non-null object\n",
      "p3_conf               1964 non-null float64\n",
      "p3_dog                1964 non-null bool\n",
      "stage                 1964 non-null object\n",
      "dtypes: bool(3), float64(3), int64(7), object(10)\n",
      "memory usage: 328.0+ KB\n"
     ]
    }
   ],
   "source": [
    "df_master.info()"
   ]
  },
  {
   "cell_type": "code",
   "execution_count": 48,
   "metadata": {},
   "outputs": [
    {
     "data": {
      "text/plain": [
       "                1662\n",
       "pupper           201\n",
       "doggo             62\n",
       "puppo             22\n",
       "doggopupper        8\n",
       "floofer            7\n",
       "doggofloofer       1\n",
       "doggopuppo         1\n",
       "Name: stage, dtype: int64"
      ]
     },
     "execution_count": 48,
     "metadata": {},
     "output_type": "execute_result"
    }
   ],
   "source": [
    "df_master['stage'].value_counts()"
   ]
  },
  {
   "cell_type": "markdown",
   "metadata": {},
   "source": [
    "#### Define \n",
    "3.8.4 Some tweets includes two dogs of different stage"
   ]
  },
  {
   "cell_type": "markdown",
   "metadata": {},
   "source": [
    "##### Code"
   ]
  },
  {
   "cell_type": "code",
   "execution_count": 49,
   "metadata": {},
   "outputs": [],
   "source": [
    "# 3.8.4 Solve the issue of two dogs in image \n",
    "df_master.loc[df_master.stage == 'doggopupper', 'stage'] = 'doggo,pupper' \n",
    "df_master.loc[df_master.stage == 'doggopuppo', 'stage'] = 'doggo,puppo' \n",
    "df_master.loc[df_master.stage == 'doggofloofer', 'stage'] = 'doggo,floofer'"
   ]
  },
  {
   "cell_type": "markdown",
   "metadata": {},
   "source": [
    "##### Test"
   ]
  },
  {
   "cell_type": "code",
   "execution_count": 50,
   "metadata": {},
   "outputs": [
    {
     "data": {
      "text/plain": [
       "                 1662\n",
       "pupper            201\n",
       "doggo              62\n",
       "puppo              22\n",
       "doggo,pupper        8\n",
       "floofer             7\n",
       "doggo,puppo         1\n",
       "doggo,floofer       1\n",
       "Name: stage, dtype: int64"
      ]
     },
     "execution_count": 50,
     "metadata": {},
     "output_type": "execute_result"
    }
   ],
   "source": [
    "df_master['stage'].value_counts()"
   ]
  },
  {
   "cell_type": "markdown",
   "metadata": {},
   "source": [
    "Copying the master data frame to master_stage"
   ]
  },
  {
   "cell_type": "code",
   "execution_count": 51,
   "metadata": {},
   "outputs": [],
   "source": [
    "master_stage = df_master.copy()"
   ]
  },
  {
   "cell_type": "markdown",
   "metadata": {},
   "source": [
    "### 3.9 Rename columns\n",
    "\n",
    "##### Define\n",
    "The headers of the breed prediction columns are not descriptive, it will be renamed to more descriptive headers"
   ]
  },
  {
   "cell_type": "markdown",
   "metadata": {},
   "source": [
    "##### Code"
   ]
  },
  {
   "cell_type": "code",
   "execution_count": 52,
   "metadata": {},
   "outputs": [],
   "source": [
    "# 3.9 rename the 9 columns\n",
    "master_stage.rename(columns= {\"p1\": \"breed_prediction_1\", \"p1_conf\": \"prediction_1_confidence\",\"p1_dog\": \"breed_1_validity\"}, inplace = True )\n",
    "master_stage.rename(columns= {\"p2\": \"breed_prediction_2\", \"p2_conf\": \"prediction_2_confidence\",\"p2_dog\": \"breed_2_validity\"}, inplace = True )  \n",
    "master_stage.rename(columns= {\"p3\": \"breed_prediction_3\", \"p1_conf\": \"prediction_3_confidence\",\"p3_dog\": \"breed_3_validity\"}, inplace = True )"
   ]
  },
  {
   "cell_type": "markdown",
   "metadata": {},
   "source": [
    "##### Test"
   ]
  },
  {
   "cell_type": "code",
   "execution_count": 53,
   "metadata": {},
   "outputs": [
    {
     "name": "stdout",
     "output_type": "stream",
     "text": [
      "<class 'pandas.core.frame.DataFrame'>\n",
      "Int64Index: 1964 entries, 0 to 1963\n",
      "Data columns (total 23 columns):\n",
      "tweet_id                   1964 non-null int64\n",
      "timestamp                  1964 non-null object\n",
      "source                     1964 non-null object\n",
      "text                       1964 non-null object\n",
      "expanded_urls              1964 non-null object\n",
      "rating_numerator           1964 non-null int64\n",
      "rating_denominator         1964 non-null int64\n",
      "name                       1964 non-null object\n",
      "favorite_count             1964 non-null int64\n",
      "retweet_count              1964 non-null int64\n",
      "user_count                 1964 non-null int64\n",
      "jpg_url                    1964 non-null object\n",
      "img_num                    1964 non-null int64\n",
      "breed_prediction_1         1964 non-null object\n",
      "prediction_1_confidence    1964 non-null float64\n",
      "breed_1_validity           1964 non-null bool\n",
      "breed_prediction_2         1964 non-null object\n",
      "prediction_2_confidence    1964 non-null float64\n",
      "breed_2_validity           1964 non-null bool\n",
      "breed_prediction_3         1964 non-null object\n",
      "p3_conf                    1964 non-null float64\n",
      "breed_3_validity           1964 non-null bool\n",
      "stage                      1964 non-null object\n",
      "dtypes: bool(3), float64(3), int64(7), object(10)\n",
      "memory usage: 328.0+ KB\n"
     ]
    }
   ],
   "source": [
    "master_stage.info()"
   ]
  },
  {
   "cell_type": "markdown",
   "metadata": {},
   "source": [
    "**Copying the master data frame to master_renamed** "
   ]
  },
  {
   "cell_type": "code",
   "execution_count": 54,
   "metadata": {},
   "outputs": [],
   "source": [
    "master_renamed = master_stage.copy()"
   ]
  },
  {
   "cell_type": "markdown",
   "metadata": {},
   "source": [
    "### 3.10 Change columns to appropriate data type\n",
    "\n",
    "##### Define\n",
    "The names of the breed prediction columns are not descriptive, it will be renamed to more descrptive names"
   ]
  },
  {
   "cell_type": "markdown",
   "metadata": {},
   "source": [
    "##### Code"
   ]
  },
  {
   "cell_type": "code",
   "execution_count": 55,
   "metadata": {},
   "outputs": [],
   "source": [
    "# 3.10.1 change time stamp column to date time \n",
    "master_renamed['timestamp'] = pd.to_datetime(master_renamed['timestamp'])"
   ]
  },
  {
   "cell_type": "code",
   "execution_count": 56,
   "metadata": {},
   "outputs": [],
   "source": [
    "# 3.10.2 change tweet_id column to string \n",
    "master_renamed['tweet_id']=master_renamed['tweet_id'].astype(str)"
   ]
  },
  {
   "cell_type": "code",
   "execution_count": 57,
   "metadata": {},
   "outputs": [],
   "source": [
    "# 3.10.3 change rating_numerator and rating_denominator column to float\n",
    "master_renamed['rating_numerator']=master_renamed['rating_numerator'].astype(float)\n",
    "master_renamed['rating_denominator']=master_renamed['rating_denominator'].astype(float)"
   ]
  },
  {
   "cell_type": "code",
   "execution_count": 58,
   "metadata": {},
   "outputs": [],
   "source": [
    "# 3.10.4 change stage, prediction columns to category \n",
    "master_renamed['stage']=master_renamed['stage'].astype('category')\n",
    "master_renamed['breed_prediction_1'] = master_renamed['breed_prediction_1'].astype('category')\n",
    "master_renamed['breed_prediction_2'] = master_renamed['breed_prediction_2'].astype('category')\n",
    "master_renamed['breed_prediction_3'] = master_renamed['breed_prediction_3'].astype('category')"
   ]
  },
  {
   "cell_type": "markdown",
   "metadata": {},
   "source": [
    "##### Test"
   ]
  },
  {
   "cell_type": "code",
   "execution_count": 59,
   "metadata": {
    "scrolled": false
   },
   "outputs": [
    {
     "name": "stdout",
     "output_type": "stream",
     "text": [
      "<class 'pandas.core.frame.DataFrame'>\n",
      "Int64Index: 1964 entries, 0 to 1963\n",
      "Data columns (total 23 columns):\n",
      "tweet_id                   1964 non-null object\n",
      "timestamp                  1964 non-null datetime64[ns]\n",
      "source                     1964 non-null object\n",
      "text                       1964 non-null object\n",
      "expanded_urls              1964 non-null object\n",
      "rating_numerator           1964 non-null float64\n",
      "rating_denominator         1964 non-null float64\n",
      "name                       1964 non-null object\n",
      "favorite_count             1964 non-null int64\n",
      "retweet_count              1964 non-null int64\n",
      "user_count                 1964 non-null int64\n",
      "jpg_url                    1964 non-null object\n",
      "img_num                    1964 non-null int64\n",
      "breed_prediction_1         1964 non-null category\n",
      "prediction_1_confidence    1964 non-null float64\n",
      "breed_1_validity           1964 non-null bool\n",
      "breed_prediction_2         1964 non-null category\n",
      "prediction_2_confidence    1964 non-null float64\n",
      "breed_2_validity           1964 non-null bool\n",
      "breed_prediction_3         1964 non-null category\n",
      "p3_conf                    1964 non-null float64\n",
      "breed_3_validity           1964 non-null bool\n",
      "stage                      1964 non-null category\n",
      "dtypes: bool(3), category(4), datetime64[ns](1), float64(5), int64(4), object(6)\n",
      "memory usage: 339.6+ KB\n"
     ]
    }
   ],
   "source": [
    "master_renamed.info()"
   ]
  },
  {
   "cell_type": "markdown",
   "metadata": {},
   "source": [
    "**Copying the master data frame to master_cleaner** "
   ]
  },
  {
   "cell_type": "code",
   "execution_count": 60,
   "metadata": {},
   "outputs": [],
   "source": [
    "master_cleaner = master_renamed.copy()"
   ]
  },
  {
   "cell_type": "code",
   "execution_count": 61,
   "metadata": {},
   "outputs": [
    {
     "data": {
      "text/plain": [
       "(1964, 23)"
      ]
     },
     "execution_count": 61,
     "metadata": {},
     "output_type": "execute_result"
    }
   ],
   "source": [
    "master_cleaner.shape"
   ]
  },
  {
   "cell_type": "markdown",
   "metadata": {},
   "source": [
    "### 3.11 Cleaning the rating values\n",
    "\n",
    "##### Define\n",
    "Some records in both numerator and denominator colums either invaild. illogical or wrongly extracted. reassess these values after cleaning"
   ]
  },
  {
   "cell_type": "code",
   "execution_count": 62,
   "metadata": {},
   "outputs": [
    {
     "data": {
      "text/plain": [
       "10.0     1947\n",
       "50.0        3\n",
       "80.0        2\n",
       "11.0        2\n",
       "170.0       1\n",
       "150.0       1\n",
       "2.0         1\n",
       "120.0       1\n",
       "110.0       1\n",
       "40.0        1\n",
       "90.0        1\n",
       "20.0        1\n",
       "7.0         1\n",
       "70.0        1\n",
       "Name: rating_denominator, dtype: int64"
      ]
     },
     "execution_count": 62,
     "metadata": {},
     "output_type": "execute_result"
    }
   ],
   "source": [
    "master_cleaner['rating_denominator'].value_counts()"
   ]
  },
  {
   "cell_type": "code",
   "execution_count": 63,
   "metadata": {},
   "outputs": [
    {
     "data": {
      "image/png": "[encoded data removed]",
      "text/plain": [
       "<matplotlib.figure.Figure at 0x7f25e925fe48>"
      ]
     },
     "metadata": {
      "needs_background": "light"
     },
     "output_type": "display_data"
    }
   ],
   "source": [
    "master_cleaner.rating_denominator.plot(kind='box');"
   ]
  },
  {
   "cell_type": "code",
   "execution_count": 64,
   "metadata": {},
   "outputs": [
    {
     "data": {
      "text/plain": [
       "12.0      444\n",
       "10.0      416\n",
       "11.0      392\n",
       "13.0      249\n",
       "9.0       150\n",
       "8.0        95\n",
       "7.0        52\n",
       "14.0       33\n",
       "5.0        33\n",
       "6.0        32\n",
       "3.0        19\n",
       "4.0        16\n",
       "2.0         9\n",
       "1.0         5\n",
       "24.0        1\n",
       "27.0        1\n",
       "84.0        1\n",
       "0.0         1\n",
       "420.0       1\n",
       "121.0       1\n",
       "50.0        1\n",
       "80.0        1\n",
       "45.0        1\n",
       "60.0        1\n",
       "44.0        1\n",
       "26.0        1\n",
       "144.0       1\n",
       "88.0        1\n",
       "165.0       1\n",
       "75.0        1\n",
       "1776.0      1\n",
       "99.0        1\n",
       "204.0       1\n",
       "Name: rating_numerator, dtype: int64"
      ]
     },
     "execution_count": 64,
     "metadata": {},
     "output_type": "execute_result"
    }
   ],
   "source": [
    "master_cleaner['rating_numerator'].value_counts()"
   ]
  },
  {
   "cell_type": "code",
   "execution_count": 65,
   "metadata": {},
   "outputs": [
    {
     "data": {
      "image/png": "[encoded data removed]",
      "text/plain": [
       "<matplotlib.figure.Figure at 0x7f25e6a3ce48>"
      ]
     },
     "metadata": {
      "needs_background": "light"
     },
     "output_type": "display_data"
    }
   ],
   "source": [
    "master_cleaner.rating_numerator.plot(kind='box');"
   ]
  },
  {
   "cell_type": "markdown",
   "metadata": {},
   "source": [
    "**The boxplots of both the numerator and denominator clearly show lots of outliers which indicates lots of odd values** "
   ]
  },
  {
   "cell_type": "markdown",
   "metadata": {},
   "source": [
    "#### Define\n",
    "Exporting the master cleaner as csv and manually explored by microsoft excel, which resulted in a list of tweets on pictures not for real dogs, and should be removed, the ids of these tweets are assembled in the list : no_dog "
   ]
  },
  {
   "cell_type": "code",
   "execution_count": 66,
   "metadata": {},
   "outputs": [],
   "source": [
    "# Exporting master_stage  to csv for manual assessing using microsoft excel\n",
    "master_stage.to_csv('master_stage.csv', index=False)"
   ]
  },
  {
   "cell_type": "code",
   "execution_count": 67,
   "metadata": {},
   "outputs": [],
   "source": [
    "# list of image for no dogs \n",
    "no_dog = ['749981277374128128', \n",
    "'670842764863651840',\n",
    "'675153376133427200',\n",
    "'670783437142401025',\n",
    "'667549055577362432',\n",
    "'666104133288665088',\n",
    "'678675843183484930',\n",
    "'678424312106393600',\n",
    "'674265582246694913',\n",
    "'670826280409919488',\n",
    "'668142349051129856',\n",
    "'666786068205871104',\n",
    "'666411507551481857',\n",
    "'666051853826850816',\n",
    "'777885040357281792',\n",
    "'718246886998687744',\n",
    "'706901761596989440',\n",
    "'699088579889332224',\n",
    "'693590843962331137',\n",
    "'686003207160610816',\n",
    "'681302363064414209',\n",
    "'676098748976615425',\n",
    "'674690135443775488',\n",
    "'674045139690631169',\n",
    "'673906403526995968',\n",
    "'673700254269775872',\n",
    "'670055038660800512',\n",
    "'668643542311546881',\n",
    "'667937095915278337',\n",
    "'666837028449972224',\n",
    "'666293911632134144',\n",
    "'760252756032651264',\n",
    "'757596066325864448',\n",
    "'714631576617938945',\n",
    "'707420581654872064',\n",
    "'695064344191721472',\n",
    "'684567543613382656',\n",
    "'680940246314430465',\n",
    "'673715861853720576',\n",
    "'671122204919246848',\n",
    "'670838202509447168',\n",
    "'668981893510119424',\n",
    "'667176164155375616',\n",
    "'666649482315059201']"
   ]
  },
  {
   "cell_type": "markdown",
   "metadata": {},
   "source": [
    "**Removing rows of no-dog pictures** "
   ]
  },
  {
   "cell_type": "markdown",
   "metadata": {},
   "source": [
    "##### Code"
   ]
  },
  {
   "cell_type": "code",
   "execution_count": 68,
   "metadata": {},
   "outputs": [],
   "source": [
    "for dog in no_dog :\n",
    "    index_id = master_cleaner[master_cleaner['tweet_id'] == dog].index\n",
    "    master_cleaner.drop(index_id , inplace = True)"
   ]
  },
  {
   "cell_type": "markdown",
   "metadata": {},
   "source": [
    "##### Test"
   ]
  },
  {
   "cell_type": "code",
   "execution_count": 69,
   "metadata": {},
   "outputs": [
    {
     "data": {
      "text/plain": [
       "(1920, 23)"
      ]
     },
     "execution_count": 69,
     "metadata": {},
     "output_type": "execute_result"
    }
   ],
   "source": [
    "master_cleaner.shape "
   ]
  },
  {
   "cell_type": "markdown",
   "metadata": {},
   "source": [
    "Some tweets need manual correction by case\n",
    "\n",
    "* 722974582966214656 change numerator to 13 and denominator to 10\n",
    "* 667878741721415682 change numerator to 12\n",
    "* 680494726643068929 change numerator to 11.26\n",
    "* 778027034220126208 change numerator to 11.27\n",
    "* 810984652412424192 fill in with average\n",
    "* 786709082849828864 change numerator to 9.75\n",
    "\n"
   ]
  },
  {
   "cell_type": "code",
   "execution_count": 70,
   "metadata": {},
   "outputs": [],
   "source": [
    "correct = ['722974582966214656',\n",
    "           '667878741721415682',\n",
    "           '680494726643068929',\n",
    "           '778027034220126208',\n",
    "           '810984652412424192',\n",
    "           '786709082849828864']\n",
    "for dog in correct :\n",
    "    dog in master_cleaner.tweet_id.unique()"
   ]
  },
  {
   "cell_type": "code",
   "execution_count": 71,
   "metadata": {},
   "outputs": [
    {
     "data": {
      "text/plain": [
       "878    4.0\n",
       "Name: rating_numerator, dtype: float64"
      ]
     },
     "execution_count": 71,
     "metadata": {},
     "output_type": "execute_result"
    }
   ],
   "source": [
    "# 3.11.2.1 display the numerator value of tweet 722974582966214656\n",
    "ind_1 = master_cleaner[master_cleaner['tweet_id']=='722974582966214656'].index\n",
    "master_cleaner.loc[ind_1,'rating_numerator']"
   ]
  },
  {
   "cell_type": "code",
   "execution_count": 72,
   "metadata": {},
   "outputs": [
    {
     "data": {
      "text/plain": [
       "878    20.0\n",
       "Name: rating_denominator, dtype: float64"
      ]
     },
     "execution_count": 72,
     "metadata": {},
     "output_type": "execute_result"
    }
   ],
   "source": [
    "# 3.11.2.1 display the denominator value of tweet 722974582966214656\n",
    "ind_1 = master_cleaner[master_cleaner['tweet_id']=='722974582966214656'].index\n",
    "master_cleaner.loc[ind_1,'rating_denominator']"
   ]
  },
  {
   "cell_type": "code",
   "execution_count": 73,
   "metadata": {},
   "outputs": [
    {
     "data": {
      "text/plain": [
       "878    13.0\n",
       "Name: rating_numerator, dtype: float64"
      ]
     },
     "execution_count": 73,
     "metadata": {},
     "output_type": "execute_result"
    }
   ],
   "source": [
    "# 3.11.2.1 assign the correct value to the numerator of  722974582966214656\n",
    "master_cleaner.loc[ind_1,'rating_numerator']= 13.0\n",
    "master_cleaner.loc[ind_1,'rating_numerator'] "
   ]
  },
  {
   "cell_type": "code",
   "execution_count": 74,
   "metadata": {},
   "outputs": [
    {
     "data": {
      "text/plain": [
       "878    10.0\n",
       "Name: rating_denominator, dtype: float64"
      ]
     },
     "execution_count": 74,
     "metadata": {},
     "output_type": "execute_result"
    }
   ],
   "source": [
    "# 3.11.2.1 assign the correct value to the denominator of  722974582966214656\n",
    "master_cleaner.loc[ind_1,'rating_denominator']= 10.0\n",
    "master_cleaner.loc[ind_1,'rating_denominator']"
   ]
  },
  {
   "cell_type": "code",
   "execution_count": 75,
   "metadata": {},
   "outputs": [
    {
     "data": {
      "text/plain": [
       "1857    2.0\n",
       "Name: rating_numerator, dtype: float64"
      ]
     },
     "execution_count": 75,
     "metadata": {},
     "output_type": "execute_result"
    }
   ],
   "source": [
    "# 3.11.2.2 display the numerator value of tweet 667878741721415682\n",
    "ind_2 = master_cleaner[master_cleaner['tweet_id']=='667878741721415682'].index\n",
    "master_cleaner.loc[ind_2,'rating_numerator']"
   ]
  },
  {
   "cell_type": "code",
   "execution_count": 76,
   "metadata": {},
   "outputs": [
    {
     "data": {
      "text/plain": [
       "1857    12.0\n",
       "Name: rating_numerator, dtype: float64"
      ]
     },
     "execution_count": 76,
     "metadata": {},
     "output_type": "execute_result"
    }
   ],
   "source": [
    "# 3.11.2.2 assign the correct value to the numerator of 667878741721415682\n",
    "master_cleaner.loc[ind_2,'rating_numerator']= 12\n",
    "master_cleaner.loc[ind_2,'rating_numerator'] "
   ]
  },
  {
   "cell_type": "code",
   "execution_count": 77,
   "metadata": {},
   "outputs": [
    {
     "data": {
      "text/plain": [
       "1353    26.0\n",
       "Name: rating_numerator, dtype: float64"
      ]
     },
     "execution_count": 77,
     "metadata": {},
     "output_type": "execute_result"
    }
   ],
   "source": [
    "# 3.11.2.3 display the numerator value of tweet 680494726643068929\n",
    "ind_3 = master_cleaner[master_cleaner['tweet_id']=='680494726643068929'].index\n",
    "master_cleaner.loc[ind_3,'rating_numerator']"
   ]
  },
  {
   "cell_type": "code",
   "execution_count": 78,
   "metadata": {},
   "outputs": [
    {
     "data": {
      "text/plain": [
       "1353    11.26\n",
       "Name: rating_numerator, dtype: float64"
      ]
     },
     "execution_count": 78,
     "metadata": {},
     "output_type": "execute_result"
    }
   ],
   "source": [
    "# 3.11.2.3 assign the correct value to the numerator of 680494726643068929\n",
    "master_cleaner.loc[ind_3,'rating_numerator']= 11.26\n",
    "master_cleaner.loc[ind_3,'rating_numerator'] "
   ]
  },
  {
   "cell_type": "code",
   "execution_count": 79,
   "metadata": {},
   "outputs": [
    {
     "data": {
      "text/plain": [
       "544    27.0\n",
       "Name: rating_numerator, dtype: float64"
      ]
     },
     "execution_count": 79,
     "metadata": {},
     "output_type": "execute_result"
    }
   ],
   "source": [
    "# 3.11.2.4 display the numerator value of tweet 778027034220126208\n",
    "ind_4 = master_cleaner[master_cleaner['tweet_id']=='778027034220126208'].index\n",
    "master_cleaner.loc[ind_4,'rating_numerator']"
   ]
  },
  {
   "cell_type": "code",
   "execution_count": 80,
   "metadata": {},
   "outputs": [
    {
     "data": {
      "text/plain": [
       "544    11.27\n",
       "Name: rating_numerator, dtype: float64"
      ]
     },
     "execution_count": 80,
     "metadata": {},
     "output_type": "execute_result"
    }
   ],
   "source": [
    "# 3.11.2.4 assign the correct value to the numerator of 778027034220126208\n",
    "master_cleaner.loc[ind_4,'rating_numerator']= 11.27\n",
    "master_cleaner.loc[ind_4,'rating_numerator'] "
   ]
  },
  {
   "cell_type": "code",
   "execution_count": 81,
   "metadata": {},
   "outputs": [
    {
     "data": {
      "text/plain": [
       "495    75.0\n",
       "Name: rating_numerator, dtype: float64"
      ]
     },
     "execution_count": 81,
     "metadata": {},
     "output_type": "execute_result"
    }
   ],
   "source": [
    "# 3.11.2.5 display the numerator value of tweet 786709082849828864\n",
    "ind_5 = master_cleaner[master_cleaner['tweet_id']=='786709082849828864'].index\n",
    "master_cleaner.loc[ind_5,'rating_numerator']"
   ]
  },
  {
   "cell_type": "code",
   "execution_count": 82,
   "metadata": {},
   "outputs": [
    {
     "data": {
      "text/plain": [
       "495    9.75\n",
       "Name: rating_numerator, dtype: float64"
      ]
     },
     "execution_count": 82,
     "metadata": {},
     "output_type": "execute_result"
    }
   ],
   "source": [
    "# 3.11.2.5 assign the correct value to the numerator of 786709082849828864\n",
    "master_cleaner.loc[ind_5,'rating_numerator']= 9.75\n",
    "master_cleaner.loc[ind_5,'rating_numerator'] "
   ]
  },
  {
   "cell_type": "code",
   "execution_count": 83,
   "metadata": {},
   "outputs": [
    {
     "data": {
      "text/plain": [
       "378    24.0\n",
       "Name: rating_numerator, dtype: float64"
      ]
     },
     "execution_count": 83,
     "metadata": {},
     "output_type": "execute_result"
    }
   ],
   "source": [
    "# 3.11.2.6 display the numerator value of tweet 810984652412424192\n",
    "ind_6 = master_cleaner[master_cleaner['tweet_id']=='810984652412424192'].index\n",
    "master_cleaner.loc[ind_6,'rating_numerator']"
   ]
  },
  {
   "cell_type": "code",
   "execution_count": 84,
   "metadata": {},
   "outputs": [
    {
     "data": {
      "text/plain": [
       "378    11.255354\n",
       "Name: rating_numerator, dtype: float64"
      ]
     },
     "execution_count": 84,
     "metadata": {},
     "output_type": "execute_result"
    }
   ],
   "source": [
    "# 3.11.2.6 assign the average value to numerator of 810984652412424192\n",
    "master_cleaner.loc[ind_6,'rating_numerator']= master_cleaner['rating_numerator'].mean()\n",
    "master_cleaner.loc[ind_6,'rating_numerator'] "
   ]
  },
  {
   "cell_type": "code",
   "execution_count": 85,
   "metadata": {},
   "outputs": [
    {
     "data": {
      "text/plain": [
       "378    7.0\n",
       "Name: rating_denominator, dtype: float64"
      ]
     },
     "execution_count": 85,
     "metadata": {},
     "output_type": "execute_result"
    }
   ],
   "source": [
    "# 3.11.2.6 display the denominator value of tweet 810984652412424192\n",
    "ind_6 = master_cleaner[master_cleaner['tweet_id']=='810984652412424192'].index\n",
    "master_cleaner.loc[ind_6,'rating_denominator']"
   ]
  },
  {
   "cell_type": "code",
   "execution_count": 86,
   "metadata": {},
   "outputs": [
    {
     "data": {
      "text/plain": [
       "378    10.0\n",
       "Name: rating_numerator, dtype: float64"
      ]
     },
     "execution_count": 86,
     "metadata": {},
     "output_type": "execute_result"
    }
   ],
   "source": [
    "# 3.11.2.6 assign the standard denominatr value (10) to 810984652412424192\n",
    "master_cleaner.loc[ind_6,'rating_numerator']= 10.0\n",
    "master_cleaner.loc[ind_6,'rating_numerator'] "
   ]
  },
  {
   "cell_type": "markdown",
   "metadata": {},
   "source": [
    "### Define\n",
    "3.11.3 We still have the problem of the tweets with pictures of more than one dog by adding new column for rating by dividing the rating_numenator by the rating_denominator"
   ]
  },
  {
   "cell_type": "markdown",
   "metadata": {},
   "source": [
    "##### Code"
   ]
  },
  {
   "cell_type": "code",
   "execution_count": 87,
   "metadata": {},
   "outputs": [],
   "source": [
    "# 3.11.3 inserting the rating column\n",
    "master_cleaner['rating']= master_cleaner['rating_numerator'] / master_cleaner['rating_denominator'] "
   ]
  },
  {
   "cell_type": "markdown",
   "metadata": {},
   "source": [
    "##### Test"
   ]
  },
  {
   "cell_type": "code",
   "execution_count": 88,
   "metadata": {},
   "outputs": [
    {
     "data": {
      "text/plain": [
       "1.200000    449\n",
       "1.000000    418\n",
       "1.100000    397\n",
       "1.300000    250\n",
       "0.900000    150\n",
       "0.800000     95\n",
       "0.700000     51\n",
       "0.500000     34\n",
       "1.400000     33\n",
       "0.600000     32\n",
       "0.400000      2\n",
       "0.300000      2\n",
       "1.127000      1\n",
       "0.818182      1\n",
       "0.636364      1\n",
       "1.126000      1\n",
       "0.975000      1\n",
       "0.000000      1\n",
       "1.428571      1\n",
       "Name: rating, dtype: int64"
      ]
     },
     "execution_count": 88,
     "metadata": {},
     "output_type": "execute_result"
    }
   ],
   "source": [
    "master_cleaner['rating'].value_counts()"
   ]
  },
  {
   "cell_type": "code",
   "execution_count": 89,
   "metadata": {
    "scrolled": true
   },
   "outputs": [
    {
     "data": {
      "image/png": "[encoded data removed]",
      "text/plain": [
       "<matplotlib.figure.Figure at 0x7f25e6981390>"
      ]
     },
     "metadata": {
      "needs_background": "light"
     },
     "output_type": "display_data"
    }
   ],
   "source": [
    "master_cleaner.rating.plot(kind='box');"
   ]
  },
  {
   "cell_type": "code",
   "execution_count": 90,
   "metadata": {
    "scrolled": true
   },
   "outputs": [
    {
     "data": {
      "image/png": "[encoded data removed]",
      "text/plain": [
       "<matplotlib.figure.Figure at 0x7f25e698bcf8>"
      ]
     },
     "metadata": {
      "needs_background": "light"
     },
     "output_type": "display_data"
    }
   ],
   "source": [
    "master_cleaner.rating.plot(kind='box');"
   ]
  },
  {
   "cell_type": "markdown",
   "metadata": {},
   "source": [
    "**Clearly there there are much less outlier in the rating distriution campared to those of numenator and denominator**"
   ]
  },
  {
   "cell_type": "markdown",
   "metadata": {},
   "source": [
    "**Copying master_cleaner to master**"
   ]
  },
  {
   "cell_type": "code",
   "execution_count": 91,
   "metadata": {},
   "outputs": [],
   "source": [
    "master = master_cleaner.copy()"
   ]
  },
  {
   "cell_type": "code",
   "execution_count": 92,
   "metadata": {
    "scrolled": false
   },
   "outputs": [
    {
     "name": "stdout",
     "output_type": "stream",
     "text": [
      "<class 'pandas.core.frame.DataFrame'>\n",
      "Int64Index: 1920 entries, 0 to 1963\n",
      "Data columns (total 24 columns):\n",
      "tweet_id                   1920 non-null object\n",
      "timestamp                  1920 non-null datetime64[ns]\n",
      "source                     1920 non-null object\n",
      "text                       1920 non-null object\n",
      "expanded_urls              1920 non-null object\n",
      "rating_numerator           1920 non-null float64\n",
      "rating_denominator         1920 non-null float64\n",
      "name                       1920 non-null object\n",
      "favorite_count             1920 non-null int64\n",
      "retweet_count              1920 non-null int64\n",
      "user_count                 1920 non-null int64\n",
      "jpg_url                    1920 non-null object\n",
      "img_num                    1920 non-null int64\n",
      "breed_prediction_1         1920 non-null category\n",
      "prediction_1_confidence    1920 non-null float64\n",
      "breed_1_validity           1920 non-null bool\n",
      "breed_prediction_2         1920 non-null category\n",
      "prediction_2_confidence    1920 non-null float64\n",
      "breed_2_validity           1920 non-null bool\n",
      "breed_prediction_3         1920 non-null category\n",
      "p3_conf                    1920 non-null float64\n",
      "breed_3_validity           1920 non-null bool\n",
      "stage                      1920 non-null category\n",
      "rating                     1920 non-null float64\n",
      "dtypes: bool(3), category(4), datetime64[ns](1), float64(6), int64(4), object(6)\n",
      "memory usage: 348.3+ KB\n"
     ]
    }
   ],
   "source": [
    "master.info()"
   ]
  },
  {
   "cell_type": "markdown",
   "metadata": {
    "scrolled": false
   },
   "source": [
    "## 3.12. Saving the master data frame as as csv"
   ]
  },
  {
   "cell_type": "code",
   "execution_count": 93,
   "metadata": {},
   "outputs": [],
   "source": [
    "master.to_csv('twitter_archive_master.csv', index=False)"
   ]
  },
  {
   "cell_type": "markdown",
   "metadata": {},
   "source": [
    "-------------------------------------------------------------------------------"
   ]
  },
  {
   "cell_type": "markdown",
   "metadata": {},
   "source": [
    "## 4. Data Visualization <a class=\"anchor\" id=\"dvisual\"></a>"
   ]
  },
  {
   "cell_type": "markdown",
   "metadata": {},
   "source": [
    "### 4.1 Exploring the time performance of the site\n",
    "#### Define\n",
    "The number of reteets and favorites may indicate the popularity and the level of interaction on `WERateDogs`, a time series plot of both retweet and favorites can be indicative"
   ]
  },
  {
   "cell_type": "markdown",
   "metadata": {},
   "source": [
    "##### Code"
   ]
  },
  {
   "cell_type": "code",
   "execution_count": 94,
   "metadata": {},
   "outputs": [
    {
     "data": {
      "image/png": "[encoded data removed]",
      "text/plain": [
       "<matplotlib.figure.Figure at 0x7f25e68c6d68>"
      ]
     },
     "metadata": {
      "needs_background": "light"
     },
     "output_type": "display_data"
    }
   ],
   "source": [
    "# plotting retweets count as time series\n",
    "plt.rc('font', size=12)\n",
    "fig, ax = plt.subplots(figsize=(10, 6))\n",
    "ax.plot(master.timestamp, master.retweet_count, color='tab:green', label='Retweet trend')\n",
    "ax.set_xlabel('Time')\n",
    "ax.set_ylabel('Retweet')\n",
    "ax.set_title('time series')\n",
    "ax.grid(True)\n",
    "ax.legend(loc='upper right');"
   ]
  },
  {
   "cell_type": "code",
   "execution_count": 95,
   "metadata": {},
   "outputs": [
    {
     "data": {
      "image/png": "[encoded data removed]",
      "text/plain": [
       "<matplotlib.figure.Figure at 0x7f25e68fda20>"
      ]
     },
     "metadata": {
      "needs_background": "light"
     },
     "output_type": "display_data"
    }
   ],
   "source": [
    "# plotting favorite count as time series\n",
    "plt.rc('font', size=12)\n",
    "fig, ax = plt.subplots(figsize=(10, 6))\n",
    "ax.plot(master.timestamp, master.favorite_count, color='tab:green', label='Favorite trend')\n",
    "ax.set_xlabel('Time')\n",
    "ax.set_ylabel('Favorite count')\n",
    "ax.set_title('time series')\n",
    "ax.grid(True)\n",
    "ax.legend(loc='upper right');"
   ]
  },
  {
   "cell_type": "markdown",
   "metadata": {},
   "source": [
    "### Insight one:\n",
    "Despite the normal vartion in the number of retweets and favorits, the graph shows steady increase in both retweets and favorites by time , which could be consider as performance indicator for the business of the `WeRateDogs`"
   ]
  },
  {
   "cell_type": "markdown",
   "metadata": {},
   "source": [
    "### 4.2 Study the distribution of rating \n",
    "#### Define\n"
   ]
  },
  {
   "cell_type": "code",
   "execution_count": 96,
   "metadata": {},
   "outputs": [
    {
     "data": {
      "image/png": "[encoded data removed]",
      "text/plain": [
       "<matplotlib.figure.Figure at 0x7f25e67faeb8>"
      ]
     },
     "metadata": {
      "needs_background": "light"
     },
     "output_type": "display_data"
    }
   ],
   "source": [
    "# plot scatter diagram between rating and favorite count \n",
    "x = master['rating']\n",
    "y = master['favorite_count']\n",
    "plt.scatter(x, y)\n",
    "z = np.polyfit(x, y, 1)\n",
    "p = np.poly1d(z)\n",
    "plt.plot(x,p(x),\"r--\");"
   ]
  },
  {
   "cell_type": "code",
   "execution_count": 97,
   "metadata": {},
   "outputs": [
    {
     "data": {
      "text/plain": [
       "0.41029047818229647"
      ]
     },
     "execution_count": 97,
     "metadata": {},
     "output_type": "execute_result"
    }
   ],
   "source": [
    "master['rating'].corr(master['favorite_count'], 'pearson')"
   ]
  },
  {
   "cell_type": "code",
   "execution_count": 98,
   "metadata": {},
   "outputs": [
    {
     "data": {
      "text/plain": [
       "0    1.2\n",
       "dtype: float64"
      ]
     },
     "execution_count": 98,
     "metadata": {},
     "output_type": "execute_result"
    }
   ],
   "source": [
    "master['rating'].mode()"
   ]
  },
  {
   "cell_type": "code",
   "execution_count": 99,
   "metadata": {},
   "outputs": [
    {
     "data": {
      "text/plain": [
       "1.0703703733766232"
      ]
     },
     "execution_count": 99,
     "metadata": {},
     "output_type": "execute_result"
    }
   ],
   "source": [
    "master['rating'].mean()"
   ]
  },
  {
   "cell_type": "code",
   "execution_count": 100,
   "metadata": {},
   "outputs": [
    {
     "data": {
      "text/plain": [
       "-1.0116410318854065"
      ]
     },
     "execution_count": 100,
     "metadata": {},
     "output_type": "execute_result"
    }
   ],
   "source": [
    "master['rating'].skew()"
   ]
  },
  {
   "cell_type": "markdown",
   "metadata": {},
   "source": [
    "### Insight two :\n",
    "The scatter diagram between the rating and the favorite counts, indicates weak correlation between them, which undermine the importance of the original rating and its impact on the number of favorites and retweets, it may also suggest that the visitors just reflect their own impressions. the conclusion drawn from the graph is also augmented the the value of Pearson correlation coefficient, the study of the graph and the above descriptive statistics show:\n",
    "* the rating is almost discrete variable, although it is set as float, because the visitors tends to give ratings as integers\n",
    "* The rating distribntions has its mode around 1.2 with negative skewness, the negative skewness is due to the outliers of giving ratings numerators below 10, unlike the common style"
   ]
  },
  {
   "cell_type": "markdown",
   "metadata": {},
   "source": [
    "### 4.3 Study the distribution of dog breeds\n",
    "#### Define\n",
    "Plotting bar chart for the value count of dog breed prediction "
   ]
  },
  {
   "cell_type": "code",
   "execution_count": 101,
   "metadata": {},
   "outputs": [],
   "source": [
    "breed_count = master['breed_prediction_1'].value_counts(ascending = True)\n",
    "breed_top_count = breed_count.tail(20)"
   ]
  },
  {
   "cell_type": "code",
   "execution_count": 102,
   "metadata": {
    "scrolled": false
   },
   "outputs": [
    {
     "data": {
      "image/png": "[encoded data removed]",
      "text/plain": [
       "<matplotlib.figure.Figure at 0x7f25e67e6668>"
      ]
     },
     "metadata": {
      "needs_background": "light"
     },
     "output_type": "display_data"
    }
   ],
   "source": [
    "ax = breed_top_count.plot(kind='barh',figsize=(8,8),title='Breed Count');\n",
    "ax.tick_params(axis='both', which='major', labelsize=12)\n",
    "plt.xlabel('Count', fontsize=18)\n",
    "plt.ylabel('Breed', fontsize=16)\n",
    "plt.show()"
   ]
  },
  {
   "cell_type": "markdown",
   "metadata": {},
   "source": [
    "**Plotting the the sum favorite count per breed**"
   ]
  },
  {
   "cell_type": "code",
   "execution_count": 103,
   "metadata": {},
   "outputs": [],
   "source": [
    "breed_fav_count = master.groupby(['breed_prediction_1'],as_index = False)['favorite_count'].sum()\n",
    "breed_fav_count_sort = breed_fav_count.sort_values(by=['favorite_count'])\n",
    "top_count = breed_fav_count_sort.tail(20)"
   ]
  },
  {
   "cell_type": "code",
   "execution_count": 104,
   "metadata": {},
   "outputs": [
    {
     "data": {
      "image/png": "[encoded data removed]",
      "text/plain": [
       "<matplotlib.figure.Figure at 0x7f25e6868eb8>"
      ]
     },
     "metadata": {
      "needs_background": "light"
     },
     "output_type": "display_data"
    }
   ],
   "source": [
    "ax = top_count.plot(x='breed_prediction_1', y='favorite_count',kind='barh',figsize=(8,8),title='Favorite count per breed');\n",
    "ax.tick_params(axis='both', which='major', labelsize=12)\n",
    "plt.xlabel('Favorite count', fontsize=18)\n",
    "plt.ylabel('Breed', fontsize=16)\n",
    "plt.show()"
   ]
  },
  {
   "cell_type": "markdown",
   "metadata": {},
   "source": [
    "### Insight Three :\n",
    "Two bar charts were plotted for the top 10 breads in count and favorite counts, the garphs show that the golden retriever is by far the most popular as it is one of the highest value count, this is explain why it gains the hightest value of favorites counts.\n",
    "\n",
    "* The shape of the bar chart has feature of Pareto distribution\n",
    "* WeRateDogs may have list of vital few number of breeds can attract most of interactions"
   ]
  }
 ],
 "metadata": {
  "kernelspec": {
   "display_name": "Python 3",
   "language": "python",
   "name": "python3"
  },
  "language_info": {
   "codemirror_mode": {
    "name": "ipython",
    "version": 3
   },
   "file_extension": ".py",
   "mimetype": "text/x-python",
   "name": "python",
   "nbconvert_exporter": "python",
   "pygments_lexer": "ipython3",
   "version": "3.6.3"
  }
 },
 "nbformat": 4,
 "nbformat_minor": 2
}
